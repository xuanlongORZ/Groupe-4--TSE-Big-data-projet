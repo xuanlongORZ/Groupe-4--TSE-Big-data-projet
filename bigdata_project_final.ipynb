{
  "nbformat": 4,
  "nbformat_minor": 0,
  "metadata": {
    "colab": {
      "name": "bigdata_project.ipynb",
      "provenance": [],
      "collapsed_sections": []
    },
    "kernelspec": {
      "name": "python3",
      "display_name": "Python 3"
    },
    "accelerator": "GPU"
  },
  "cells": [
    {
      "cell_type": "code",
      "metadata": {
        "id": "JpOPUBDem8cg",
        "colab_type": "code",
        "outputId": "e95c2efb-6175-4511-c420-500d09152661",
        "colab": {
          "base_uri": "https://localhost:8080/",
          "height": 221
        }
      },
      "source": [
        "!pip uninstall xgboost\n",
        "!pip install xgboost-0.80-py2.py3-none-manylinux1_x86_64.whl"
      ],
      "execution_count": 1,
      "outputs": [
        {
          "output_type": "stream",
          "text": [
            "Uninstalling xgboost-0.90:\n",
            "  Would remove:\n",
            "    /usr/local/lib/python3.6/dist-packages/xgboost-0.90.dist-info/*\n",
            "    /usr/local/lib/python3.6/dist-packages/xgboost/*\n",
            "    /usr/local/xgboost/libxgboost.so\n",
            "Proceed (y/n)? y\n",
            "  Successfully uninstalled xgboost-0.90\n",
            "Processing ./xgboost-0.80-py2.py3-none-manylinux1_x86_64.whl\n",
            "Requirement already satisfied: numpy in /usr/local/lib/python3.6/dist-packages (from xgboost==0.80) (1.17.5)\n",
            "Requirement already satisfied: scipy in /usr/local/lib/python3.6/dist-packages (from xgboost==0.80) (1.4.1)\n",
            "Installing collected packages: xgboost\n",
            "Successfully installed xgboost-0.80\n"
          ],
          "name": "stdout"
        }
      ]
    },
    {
      "cell_type": "code",
      "metadata": {
        "id": "4_7a1uv81Rp8",
        "colab_type": "code",
        "colab": {}
      },
      "source": [
        "import numpy as np\n",
        "import pandas as pd"
      ],
      "execution_count": 0,
      "outputs": []
    },
    {
      "cell_type": "code",
      "metadata": {
        "id": "-clFQmMeRZvX",
        "colab_type": "code",
        "outputId": "5acd849c-abde-4c4c-bc24-b991193de7e3",
        "colab": {
          "base_uri": "https://localhost:8080/",
          "height": 54
        }
      },
      "source": [
        "from google.colab import drive\n",
        "drive.mount('/content/drive')"
      ],
      "execution_count": 57,
      "outputs": [
        {
          "output_type": "stream",
          "text": [
            "Drive already mounted at /content/drive; to attempt to forcibly remount, call drive.mount(\"/content/drive\", force_remount=True).\n"
          ],
          "name": "stdout"
        }
      ]
    },
    {
      "cell_type": "code",
      "metadata": {
        "id": "JEuJHRDURYb-",
        "colab_type": "code",
        "outputId": "4e619636-c92d-4d4c-80b6-312a52545a70",
        "colab": {
          "base_uri": "https://localhost:8080/",
          "height": 270
        }
      },
      "source": [
        "data = pd.read_csv('drive/My Drive/train.csv')\n",
        "(nb_sample,nb_feature) = data.shape\n",
        "print(data.shape)\n",
        "data.head(5)"
      ],
      "execution_count": 153,
      "outputs": [
        {
          "output_type": "stream",
          "text": [
            "(58881, 129)\n"
          ],
          "name": "stdout"
        },
        {
          "output_type": "execute_result",
          "data": {
            "text/html": [
              "<div>\n",
              "<style scoped>\n",
              "    .dataframe tbody tr th:only-of-type {\n",
              "        vertical-align: middle;\n",
              "    }\n",
              "\n",
              "    .dataframe tbody tr th {\n",
              "        vertical-align: top;\n",
              "    }\n",
              "\n",
              "    .dataframe thead th {\n",
              "        text-align: right;\n",
              "    }\n",
              "</style>\n",
              "<table border=\"1\" class=\"dataframe\">\n",
              "  <thead>\n",
              "    <tr style=\"text-align: right;\">\n",
              "      <th></th>\n",
              "      <th>Product_Info_1</th>\n",
              "      <th>Product_Info_2</th>\n",
              "      <th>Product_Info_3</th>\n",
              "      <th>Product_Info_4</th>\n",
              "      <th>Product_Info_5</th>\n",
              "      <th>Product_Info_6</th>\n",
              "      <th>Product_Info_7</th>\n",
              "      <th>Ins_Age</th>\n",
              "      <th>Ht</th>\n",
              "      <th>Wt</th>\n",
              "      <th>BMI</th>\n",
              "      <th>Employment_Info_1</th>\n",
              "      <th>Employment_Info_2</th>\n",
              "      <th>Employment_Info_3</th>\n",
              "      <th>Employment_Info_4</th>\n",
              "      <th>Employment_Info_5</th>\n",
              "      <th>Employment_Info_6</th>\n",
              "      <th>InsuredInfo_1</th>\n",
              "      <th>InsuredInfo_2</th>\n",
              "      <th>InsuredInfo_3</th>\n",
              "      <th>InsuredInfo_4</th>\n",
              "      <th>InsuredInfo_5</th>\n",
              "      <th>InsuredInfo_6</th>\n",
              "      <th>InsuredInfo_7</th>\n",
              "      <th>InsuredInfo_8</th>\n",
              "      <th>InsuredInfo_9</th>\n",
              "      <th>Insurance_History_1</th>\n",
              "      <th>Insurance_History_2</th>\n",
              "      <th>Insurance_History_3</th>\n",
              "      <th>Insurance_History_4</th>\n",
              "      <th>Insurance_History_5</th>\n",
              "      <th>Insurance_History_7</th>\n",
              "      <th>Insurance_History_8</th>\n",
              "      <th>Insurance_History_9</th>\n",
              "      <th>Family_Hist_1</th>\n",
              "      <th>Family_Hist_2</th>\n",
              "      <th>Family_Hist_3</th>\n",
              "      <th>Family_Hist_4</th>\n",
              "      <th>Family_Hist_5</th>\n",
              "      <th>Medical_History_1</th>\n",
              "      <th>...</th>\n",
              "      <th>Medical_Keyword_10</th>\n",
              "      <th>Medical_Keyword_11</th>\n",
              "      <th>Medical_Keyword_12</th>\n",
              "      <th>Medical_Keyword_13</th>\n",
              "      <th>Medical_Keyword_14</th>\n",
              "      <th>Medical_Keyword_15</th>\n",
              "      <th>Medical_Keyword_16</th>\n",
              "      <th>Medical_Keyword_17</th>\n",
              "      <th>Medical_Keyword_18</th>\n",
              "      <th>Medical_Keyword_19</th>\n",
              "      <th>Medical_Keyword_20</th>\n",
              "      <th>Medical_Keyword_21</th>\n",
              "      <th>Medical_Keyword_22</th>\n",
              "      <th>Medical_Keyword_23</th>\n",
              "      <th>Medical_Keyword_24</th>\n",
              "      <th>Medical_Keyword_25</th>\n",
              "      <th>Medical_Keyword_26</th>\n",
              "      <th>Medical_Keyword_27</th>\n",
              "      <th>Medical_Keyword_28</th>\n",
              "      <th>Medical_Keyword_29</th>\n",
              "      <th>Medical_Keyword_30</th>\n",
              "      <th>Medical_Keyword_31</th>\n",
              "      <th>Medical_Keyword_32</th>\n",
              "      <th>Medical_Keyword_33</th>\n",
              "      <th>Medical_Keyword_34</th>\n",
              "      <th>Medical_Keyword_35</th>\n",
              "      <th>Medical_Keyword_36</th>\n",
              "      <th>Medical_Keyword_37</th>\n",
              "      <th>Medical_Keyword_38</th>\n",
              "      <th>Medical_Keyword_39</th>\n",
              "      <th>Medical_Keyword_40</th>\n",
              "      <th>Medical_Keyword_41</th>\n",
              "      <th>Medical_Keyword_42</th>\n",
              "      <th>Medical_Keyword_43</th>\n",
              "      <th>Medical_Keyword_44</th>\n",
              "      <th>Medical_Keyword_45</th>\n",
              "      <th>Medical_Keyword_46</th>\n",
              "      <th>Medical_Keyword_47</th>\n",
              "      <th>Medical_Keyword_48</th>\n",
              "      <th>Response</th>\n",
              "    </tr>\n",
              "  </thead>\n",
              "  <tbody>\n",
              "    <tr>\n",
              "      <th>0</th>\n",
              "      <td>1</td>\n",
              "      <td>A8</td>\n",
              "      <td>26</td>\n",
              "      <td>0.230769</td>\n",
              "      <td>2</td>\n",
              "      <td>3</td>\n",
              "      <td>1</td>\n",
              "      <td>0.492537</td>\n",
              "      <td>0.563636</td>\n",
              "      <td>0.225941</td>\n",
              "      <td>0.510720</td>\n",
              "      <td>0.0244</td>\n",
              "      <td>9</td>\n",
              "      <td>1</td>\n",
              "      <td>0.0</td>\n",
              "      <td>2</td>\n",
              "      <td>0.05</td>\n",
              "      <td>2</td>\n",
              "      <td>2</td>\n",
              "      <td>3</td>\n",
              "      <td>3</td>\n",
              "      <td>1</td>\n",
              "      <td>1</td>\n",
              "      <td>Female</td>\n",
              "      <td>NaN</td>\n",
              "      <td>Muslim</td>\n",
              "      <td>2</td>\n",
              "      <td>1</td>\n",
              "      <td>1</td>\n",
              "      <td>3</td>\n",
              "      <td>NaN</td>\n",
              "      <td>3</td>\n",
              "      <td>2</td>\n",
              "      <td>3</td>\n",
              "      <td>3</td>\n",
              "      <td>0.681159</td>\n",
              "      <td>NaN</td>\n",
              "      <td>0.492958</td>\n",
              "      <td>NaN</td>\n",
              "      <td>0.0</td>\n",
              "      <td>...</td>\n",
              "      <td>0</td>\n",
              "      <td>0</td>\n",
              "      <td>0</td>\n",
              "      <td>0</td>\n",
              "      <td>0</td>\n",
              "      <td>0</td>\n",
              "      <td>0</td>\n",
              "      <td>0</td>\n",
              "      <td>0</td>\n",
              "      <td>0</td>\n",
              "      <td>0</td>\n",
              "      <td>0</td>\n",
              "      <td>0</td>\n",
              "      <td>0</td>\n",
              "      <td>0</td>\n",
              "      <td>0</td>\n",
              "      <td>0</td>\n",
              "      <td>0</td>\n",
              "      <td>0</td>\n",
              "      <td>0</td>\n",
              "      <td>0</td>\n",
              "      <td>0</td>\n",
              "      <td>0</td>\n",
              "      <td>0</td>\n",
              "      <td>0</td>\n",
              "      <td>0</td>\n",
              "      <td>0</td>\n",
              "      <td>0</td>\n",
              "      <td>0</td>\n",
              "      <td>0</td>\n",
              "      <td>0</td>\n",
              "      <td>0</td>\n",
              "      <td>0</td>\n",
              "      <td>0</td>\n",
              "      <td>0</td>\n",
              "      <td>0</td>\n",
              "      <td>0</td>\n",
              "      <td>0</td>\n",
              "      <td>0</td>\n",
              "      <td>7</td>\n",
              "    </tr>\n",
              "    <tr>\n",
              "      <th>1</th>\n",
              "      <td>1</td>\n",
              "      <td>D2</td>\n",
              "      <td>26</td>\n",
              "      <td>1.000000</td>\n",
              "      <td>3</td>\n",
              "      <td>3</td>\n",
              "      <td>1</td>\n",
              "      <td>0.671642</td>\n",
              "      <td>0.781818</td>\n",
              "      <td>0.326360</td>\n",
              "      <td>0.453033</td>\n",
              "      <td>0.5000</td>\n",
              "      <td>3</td>\n",
              "      <td>1</td>\n",
              "      <td>0.5</td>\n",
              "      <td>2</td>\n",
              "      <td>1.00</td>\n",
              "      <td>1</td>\n",
              "      <td>2</td>\n",
              "      <td>8</td>\n",
              "      <td>3</td>\n",
              "      <td>1</td>\n",
              "      <td>1</td>\n",
              "      <td>Male</td>\n",
              "      <td>NaN</td>\n",
              "      <td>NaN</td>\n",
              "      <td>2</td>\n",
              "      <td>1</td>\n",
              "      <td>3</td>\n",
              "      <td>1</td>\n",
              "      <td>0.006667</td>\n",
              "      <td>1</td>\n",
              "      <td>3</td>\n",
              "      <td>2</td>\n",
              "      <td>2</td>\n",
              "      <td>NaN</td>\n",
              "      <td>0.490196</td>\n",
              "      <td>NaN</td>\n",
              "      <td>0.589286</td>\n",
              "      <td>4.0</td>\n",
              "      <td>...</td>\n",
              "      <td>0</td>\n",
              "      <td>0</td>\n",
              "      <td>0</td>\n",
              "      <td>0</td>\n",
              "      <td>0</td>\n",
              "      <td>0</td>\n",
              "      <td>0</td>\n",
              "      <td>0</td>\n",
              "      <td>0</td>\n",
              "      <td>0</td>\n",
              "      <td>0</td>\n",
              "      <td>0</td>\n",
              "      <td>0</td>\n",
              "      <td>0</td>\n",
              "      <td>0</td>\n",
              "      <td>0</td>\n",
              "      <td>0</td>\n",
              "      <td>0</td>\n",
              "      <td>0</td>\n",
              "      <td>0</td>\n",
              "      <td>0</td>\n",
              "      <td>0</td>\n",
              "      <td>0</td>\n",
              "      <td>0</td>\n",
              "      <td>0</td>\n",
              "      <td>0</td>\n",
              "      <td>0</td>\n",
              "      <td>0</td>\n",
              "      <td>0</td>\n",
              "      <td>0</td>\n",
              "      <td>0</td>\n",
              "      <td>0</td>\n",
              "      <td>0</td>\n",
              "      <td>0</td>\n",
              "      <td>0</td>\n",
              "      <td>0</td>\n",
              "      <td>0</td>\n",
              "      <td>0</td>\n",
              "      <td>0</td>\n",
              "      <td>6</td>\n",
              "    </tr>\n",
              "    <tr>\n",
              "      <th>2</th>\n",
              "      <td>1</td>\n",
              "      <td>D2</td>\n",
              "      <td>26</td>\n",
              "      <td>0.230769</td>\n",
              "      <td>2</td>\n",
              "      <td>3</td>\n",
              "      <td>1</td>\n",
              "      <td>0.626866</td>\n",
              "      <td>0.745455</td>\n",
              "      <td>0.393305</td>\n",
              "      <td>0.598310</td>\n",
              "      <td>0.0400</td>\n",
              "      <td>9</td>\n",
              "      <td>1</td>\n",
              "      <td>0.0</td>\n",
              "      <td>2</td>\n",
              "      <td>0.60</td>\n",
              "      <td>1</td>\n",
              "      <td>2</td>\n",
              "      <td>4</td>\n",
              "      <td>3</td>\n",
              "      <td>1</td>\n",
              "      <td>1</td>\n",
              "      <td>Male</td>\n",
              "      <td>Caucasian</td>\n",
              "      <td>Jewish</td>\n",
              "      <td>1</td>\n",
              "      <td>3</td>\n",
              "      <td>3</td>\n",
              "      <td>1</td>\n",
              "      <td>0.000833</td>\n",
              "      <td>1</td>\n",
              "      <td>1</td>\n",
              "      <td>2</td>\n",
              "      <td>3</td>\n",
              "      <td>NaN</td>\n",
              "      <td>0.558824</td>\n",
              "      <td>NaN</td>\n",
              "      <td>0.598214</td>\n",
              "      <td>3.0</td>\n",
              "      <td>...</td>\n",
              "      <td>0</td>\n",
              "      <td>0</td>\n",
              "      <td>0</td>\n",
              "      <td>0</td>\n",
              "      <td>0</td>\n",
              "      <td>0</td>\n",
              "      <td>0</td>\n",
              "      <td>0</td>\n",
              "      <td>0</td>\n",
              "      <td>0</td>\n",
              "      <td>0</td>\n",
              "      <td>0</td>\n",
              "      <td>0</td>\n",
              "      <td>1</td>\n",
              "      <td>0</td>\n",
              "      <td>1</td>\n",
              "      <td>0</td>\n",
              "      <td>0</td>\n",
              "      <td>0</td>\n",
              "      <td>0</td>\n",
              "      <td>0</td>\n",
              "      <td>0</td>\n",
              "      <td>1</td>\n",
              "      <td>0</td>\n",
              "      <td>0</td>\n",
              "      <td>1</td>\n",
              "      <td>0</td>\n",
              "      <td>1</td>\n",
              "      <td>0</td>\n",
              "      <td>0</td>\n",
              "      <td>0</td>\n",
              "      <td>0</td>\n",
              "      <td>0</td>\n",
              "      <td>0</td>\n",
              "      <td>0</td>\n",
              "      <td>0</td>\n",
              "      <td>0</td>\n",
              "      <td>0</td>\n",
              "      <td>0</td>\n",
              "      <td>1</td>\n",
              "    </tr>\n",
              "    <tr>\n",
              "      <th>3</th>\n",
              "      <td>1</td>\n",
              "      <td>D4</td>\n",
              "      <td>26</td>\n",
              "      <td>0.230769</td>\n",
              "      <td>2</td>\n",
              "      <td>3</td>\n",
              "      <td>1</td>\n",
              "      <td>0.268657</td>\n",
              "      <td>0.690909</td>\n",
              "      <td>0.246862</td>\n",
              "      <td>0.410638</td>\n",
              "      <td>0.0300</td>\n",
              "      <td>9</td>\n",
              "      <td>1</td>\n",
              "      <td>0.0</td>\n",
              "      <td>2</td>\n",
              "      <td>0.00</td>\n",
              "      <td>1</td>\n",
              "      <td>2</td>\n",
              "      <td>6</td>\n",
              "      <td>2</td>\n",
              "      <td>1</td>\n",
              "      <td>1</td>\n",
              "      <td>Female</td>\n",
              "      <td>NaN</td>\n",
              "      <td>NaN</td>\n",
              "      <td>2</td>\n",
              "      <td>1</td>\n",
              "      <td>1</td>\n",
              "      <td>3</td>\n",
              "      <td>NaN</td>\n",
              "      <td>3</td>\n",
              "      <td>2</td>\n",
              "      <td>3</td>\n",
              "      <td>2</td>\n",
              "      <td>0.536232</td>\n",
              "      <td>NaN</td>\n",
              "      <td>0.478873</td>\n",
              "      <td>NaN</td>\n",
              "      <td>12.0</td>\n",
              "      <td>...</td>\n",
              "      <td>0</td>\n",
              "      <td>0</td>\n",
              "      <td>0</td>\n",
              "      <td>0</td>\n",
              "      <td>0</td>\n",
              "      <td>0</td>\n",
              "      <td>0</td>\n",
              "      <td>0</td>\n",
              "      <td>0</td>\n",
              "      <td>0</td>\n",
              "      <td>0</td>\n",
              "      <td>0</td>\n",
              "      <td>0</td>\n",
              "      <td>0</td>\n",
              "      <td>0</td>\n",
              "      <td>0</td>\n",
              "      <td>0</td>\n",
              "      <td>0</td>\n",
              "      <td>0</td>\n",
              "      <td>0</td>\n",
              "      <td>0</td>\n",
              "      <td>0</td>\n",
              "      <td>0</td>\n",
              "      <td>0</td>\n",
              "      <td>0</td>\n",
              "      <td>0</td>\n",
              "      <td>0</td>\n",
              "      <td>0</td>\n",
              "      <td>0</td>\n",
              "      <td>0</td>\n",
              "      <td>0</td>\n",
              "      <td>0</td>\n",
              "      <td>0</td>\n",
              "      <td>0</td>\n",
              "      <td>0</td>\n",
              "      <td>0</td>\n",
              "      <td>0</td>\n",
              "      <td>0</td>\n",
              "      <td>0</td>\n",
              "      <td>4</td>\n",
              "    </tr>\n",
              "    <tr>\n",
              "      <th>4</th>\n",
              "      <td>1</td>\n",
              "      <td>E1</td>\n",
              "      <td>10</td>\n",
              "      <td>0.230769</td>\n",
              "      <td>2</td>\n",
              "      <td>3</td>\n",
              "      <td>1</td>\n",
              "      <td>0.641791</td>\n",
              "      <td>0.581818</td>\n",
              "      <td>0.466527</td>\n",
              "      <td>1.000000</td>\n",
              "      <td>0.0280</td>\n",
              "      <td>9</td>\n",
              "      <td>1</td>\n",
              "      <td>0.0</td>\n",
              "      <td>3</td>\n",
              "      <td>1.00</td>\n",
              "      <td>1</td>\n",
              "      <td>2</td>\n",
              "      <td>8</td>\n",
              "      <td>3</td>\n",
              "      <td>1</td>\n",
              "      <td>1</td>\n",
              "      <td>Female</td>\n",
              "      <td>NaN</td>\n",
              "      <td>NaN</td>\n",
              "      <td>2</td>\n",
              "      <td>1</td>\n",
              "      <td>3</td>\n",
              "      <td>1</td>\n",
              "      <td>0.000039</td>\n",
              "      <td>1</td>\n",
              "      <td>3</td>\n",
              "      <td>2</td>\n",
              "      <td>2</td>\n",
              "      <td>NaN</td>\n",
              "      <td>0.647059</td>\n",
              "      <td>NaN</td>\n",
              "      <td>0.160714</td>\n",
              "      <td>1.0</td>\n",
              "      <td>...</td>\n",
              "      <td>0</td>\n",
              "      <td>1</td>\n",
              "      <td>0</td>\n",
              "      <td>0</td>\n",
              "      <td>0</td>\n",
              "      <td>1</td>\n",
              "      <td>0</td>\n",
              "      <td>0</td>\n",
              "      <td>0</td>\n",
              "      <td>0</td>\n",
              "      <td>0</td>\n",
              "      <td>0</td>\n",
              "      <td>0</td>\n",
              "      <td>0</td>\n",
              "      <td>0</td>\n",
              "      <td>1</td>\n",
              "      <td>0</td>\n",
              "      <td>0</td>\n",
              "      <td>0</td>\n",
              "      <td>0</td>\n",
              "      <td>0</td>\n",
              "      <td>0</td>\n",
              "      <td>0</td>\n",
              "      <td>0</td>\n",
              "      <td>0</td>\n",
              "      <td>0</td>\n",
              "      <td>0</td>\n",
              "      <td>0</td>\n",
              "      <td>0</td>\n",
              "      <td>0</td>\n",
              "      <td>0</td>\n",
              "      <td>0</td>\n",
              "      <td>1</td>\n",
              "      <td>0</td>\n",
              "      <td>0</td>\n",
              "      <td>0</td>\n",
              "      <td>1</td>\n",
              "      <td>0</td>\n",
              "      <td>0</td>\n",
              "      <td>2</td>\n",
              "    </tr>\n",
              "  </tbody>\n",
              "</table>\n",
              "<p>5 rows × 129 columns</p>\n",
              "</div>"
            ],
            "text/plain": [
              "   Product_Info_1 Product_Info_2  ...  Medical_Keyword_48  Response\n",
              "0               1             A8  ...                   0         7\n",
              "1               1             D2  ...                   0         6\n",
              "2               1             D2  ...                   0         1\n",
              "3               1             D4  ...                   0         4\n",
              "4               1             E1  ...                   0         2\n",
              "\n",
              "[5 rows x 129 columns]"
            ]
          },
          "metadata": {
            "tags": []
          },
          "execution_count": 153
        }
      ]
    },
    {
      "cell_type": "markdown",
      "metadata": {
        "id": "uPj4ZOMpnAqS",
        "colab_type": "text"
      },
      "source": [
        "### Plan:\n",
        "##### a. According to EDA, we decide to preprocess our raw training and test data as following steps:\n",
        "    1. Delete samples with 14 and 15 missing featrues;\n",
        "    2. Delete directly the features that have more than 70% missing values;\n",
        "    3. Encode object-type data;\n",
        "    4. Fill missing values by mean for other features;\n",
        "    5. See variance again and delete top5 features with the lowest variance;\n",
        "    6. See correlation again to delete top5 features with the lowest correlation to the target;\n",
        "##### b.  Set up a XGBoost model to see the performance and then select important features in using feature importance fonction.\n",
        "    1. We deceide to use 3-fold crossing validation to reduce uncertainty and aviod overfitting;\n",
        "    2. Select different number of improtant features to test model performance;\n",
        "##### c.  Chosse the best features and do preprocessing (only step 1 and 4)\n",
        "##### d. Predict results in using 3 models trained from 3-fold CV and then do a voting"
      ]
    },
    {
      "cell_type": "markdown",
      "metadata": {
        "id": "qVCbHh8QnNzI",
        "colab_type": "text"
      },
      "source": [
        "### Data Preprocessing:"
      ]
    },
    {
      "cell_type": "markdown",
      "metadata": {
        "id": "RUXIJFlKnNah",
        "colab_type": "text"
      },
      "source": [
        "##### delete samples with 14 and 15 missing featrues"
      ]
    },
    {
      "cell_type": "code",
      "metadata": {
        "id": "NcibwJgnRex1",
        "colab_type": "code",
        "outputId": "d257a854-8299-4b5d-a56d-a5ac5da734c7",
        "colab": {
          "base_uri": "https://localhost:8080/",
          "height": 270
        }
      },
      "source": [
        "nb_delete_1415 = 0\n",
        "for i in range(nb_sample):\n",
        "    if i < (nb_sample-nb_delete_1415):\n",
        "        nb_missing = data.iloc[i,:].isnull().sum()\n",
        "        if nb_missing >= 13:\n",
        "            data.drop(index=[i],inplace=True)\n",
        "            nb_delete_1415+=1\n",
        "    else:\n",
        "        break\n",
        "print('totally delete: ',nb_delete_1415, 'samples')\n",
        "data.reset_index(drop = True,inplace = True)\n",
        "data.head(5)"
      ],
      "execution_count": 154,
      "outputs": [
        {
          "output_type": "stream",
          "text": [
            "totally delete:  29 samples\n"
          ],
          "name": "stdout"
        },
        {
          "output_type": "execute_result",
          "data": {
            "text/html": [
              "<div>\n",
              "<style scoped>\n",
              "    .dataframe tbody tr th:only-of-type {\n",
              "        vertical-align: middle;\n",
              "    }\n",
              "\n",
              "    .dataframe tbody tr th {\n",
              "        vertical-align: top;\n",
              "    }\n",
              "\n",
              "    .dataframe thead th {\n",
              "        text-align: right;\n",
              "    }\n",
              "</style>\n",
              "<table border=\"1\" class=\"dataframe\">\n",
              "  <thead>\n",
              "    <tr style=\"text-align: right;\">\n",
              "      <th></th>\n",
              "      <th>Product_Info_1</th>\n",
              "      <th>Product_Info_2</th>\n",
              "      <th>Product_Info_3</th>\n",
              "      <th>Product_Info_4</th>\n",
              "      <th>Product_Info_5</th>\n",
              "      <th>Product_Info_6</th>\n",
              "      <th>Product_Info_7</th>\n",
              "      <th>Ins_Age</th>\n",
              "      <th>Ht</th>\n",
              "      <th>Wt</th>\n",
              "      <th>BMI</th>\n",
              "      <th>Employment_Info_1</th>\n",
              "      <th>Employment_Info_2</th>\n",
              "      <th>Employment_Info_3</th>\n",
              "      <th>Employment_Info_4</th>\n",
              "      <th>Employment_Info_5</th>\n",
              "      <th>Employment_Info_6</th>\n",
              "      <th>InsuredInfo_1</th>\n",
              "      <th>InsuredInfo_2</th>\n",
              "      <th>InsuredInfo_3</th>\n",
              "      <th>InsuredInfo_4</th>\n",
              "      <th>InsuredInfo_5</th>\n",
              "      <th>InsuredInfo_6</th>\n",
              "      <th>InsuredInfo_7</th>\n",
              "      <th>InsuredInfo_8</th>\n",
              "      <th>InsuredInfo_9</th>\n",
              "      <th>Insurance_History_1</th>\n",
              "      <th>Insurance_History_2</th>\n",
              "      <th>Insurance_History_3</th>\n",
              "      <th>Insurance_History_4</th>\n",
              "      <th>Insurance_History_5</th>\n",
              "      <th>Insurance_History_7</th>\n",
              "      <th>Insurance_History_8</th>\n",
              "      <th>Insurance_History_9</th>\n",
              "      <th>Family_Hist_1</th>\n",
              "      <th>Family_Hist_2</th>\n",
              "      <th>Family_Hist_3</th>\n",
              "      <th>Family_Hist_4</th>\n",
              "      <th>Family_Hist_5</th>\n",
              "      <th>Medical_History_1</th>\n",
              "      <th>...</th>\n",
              "      <th>Medical_Keyword_10</th>\n",
              "      <th>Medical_Keyword_11</th>\n",
              "      <th>Medical_Keyword_12</th>\n",
              "      <th>Medical_Keyword_13</th>\n",
              "      <th>Medical_Keyword_14</th>\n",
              "      <th>Medical_Keyword_15</th>\n",
              "      <th>Medical_Keyword_16</th>\n",
              "      <th>Medical_Keyword_17</th>\n",
              "      <th>Medical_Keyword_18</th>\n",
              "      <th>Medical_Keyword_19</th>\n",
              "      <th>Medical_Keyword_20</th>\n",
              "      <th>Medical_Keyword_21</th>\n",
              "      <th>Medical_Keyword_22</th>\n",
              "      <th>Medical_Keyword_23</th>\n",
              "      <th>Medical_Keyword_24</th>\n",
              "      <th>Medical_Keyword_25</th>\n",
              "      <th>Medical_Keyword_26</th>\n",
              "      <th>Medical_Keyword_27</th>\n",
              "      <th>Medical_Keyword_28</th>\n",
              "      <th>Medical_Keyword_29</th>\n",
              "      <th>Medical_Keyword_30</th>\n",
              "      <th>Medical_Keyword_31</th>\n",
              "      <th>Medical_Keyword_32</th>\n",
              "      <th>Medical_Keyword_33</th>\n",
              "      <th>Medical_Keyword_34</th>\n",
              "      <th>Medical_Keyword_35</th>\n",
              "      <th>Medical_Keyword_36</th>\n",
              "      <th>Medical_Keyword_37</th>\n",
              "      <th>Medical_Keyword_38</th>\n",
              "      <th>Medical_Keyword_39</th>\n",
              "      <th>Medical_Keyword_40</th>\n",
              "      <th>Medical_Keyword_41</th>\n",
              "      <th>Medical_Keyword_42</th>\n",
              "      <th>Medical_Keyword_43</th>\n",
              "      <th>Medical_Keyword_44</th>\n",
              "      <th>Medical_Keyword_45</th>\n",
              "      <th>Medical_Keyword_46</th>\n",
              "      <th>Medical_Keyword_47</th>\n",
              "      <th>Medical_Keyword_48</th>\n",
              "      <th>Response</th>\n",
              "    </tr>\n",
              "  </thead>\n",
              "  <tbody>\n",
              "    <tr>\n",
              "      <th>0</th>\n",
              "      <td>1</td>\n",
              "      <td>A8</td>\n",
              "      <td>26</td>\n",
              "      <td>0.230769</td>\n",
              "      <td>2</td>\n",
              "      <td>3</td>\n",
              "      <td>1</td>\n",
              "      <td>0.492537</td>\n",
              "      <td>0.563636</td>\n",
              "      <td>0.225941</td>\n",
              "      <td>0.510720</td>\n",
              "      <td>0.0244</td>\n",
              "      <td>9</td>\n",
              "      <td>1</td>\n",
              "      <td>0.0</td>\n",
              "      <td>2</td>\n",
              "      <td>0.05</td>\n",
              "      <td>2</td>\n",
              "      <td>2</td>\n",
              "      <td>3</td>\n",
              "      <td>3</td>\n",
              "      <td>1</td>\n",
              "      <td>1</td>\n",
              "      <td>Female</td>\n",
              "      <td>NaN</td>\n",
              "      <td>Muslim</td>\n",
              "      <td>2</td>\n",
              "      <td>1</td>\n",
              "      <td>1</td>\n",
              "      <td>3</td>\n",
              "      <td>NaN</td>\n",
              "      <td>3</td>\n",
              "      <td>2</td>\n",
              "      <td>3</td>\n",
              "      <td>3</td>\n",
              "      <td>0.681159</td>\n",
              "      <td>NaN</td>\n",
              "      <td>0.492958</td>\n",
              "      <td>NaN</td>\n",
              "      <td>0.0</td>\n",
              "      <td>...</td>\n",
              "      <td>0</td>\n",
              "      <td>0</td>\n",
              "      <td>0</td>\n",
              "      <td>0</td>\n",
              "      <td>0</td>\n",
              "      <td>0</td>\n",
              "      <td>0</td>\n",
              "      <td>0</td>\n",
              "      <td>0</td>\n",
              "      <td>0</td>\n",
              "      <td>0</td>\n",
              "      <td>0</td>\n",
              "      <td>0</td>\n",
              "      <td>0</td>\n",
              "      <td>0</td>\n",
              "      <td>0</td>\n",
              "      <td>0</td>\n",
              "      <td>0</td>\n",
              "      <td>0</td>\n",
              "      <td>0</td>\n",
              "      <td>0</td>\n",
              "      <td>0</td>\n",
              "      <td>0</td>\n",
              "      <td>0</td>\n",
              "      <td>0</td>\n",
              "      <td>0</td>\n",
              "      <td>0</td>\n",
              "      <td>0</td>\n",
              "      <td>0</td>\n",
              "      <td>0</td>\n",
              "      <td>0</td>\n",
              "      <td>0</td>\n",
              "      <td>0</td>\n",
              "      <td>0</td>\n",
              "      <td>0</td>\n",
              "      <td>0</td>\n",
              "      <td>0</td>\n",
              "      <td>0</td>\n",
              "      <td>0</td>\n",
              "      <td>7</td>\n",
              "    </tr>\n",
              "    <tr>\n",
              "      <th>1</th>\n",
              "      <td>1</td>\n",
              "      <td>D2</td>\n",
              "      <td>26</td>\n",
              "      <td>1.000000</td>\n",
              "      <td>3</td>\n",
              "      <td>3</td>\n",
              "      <td>1</td>\n",
              "      <td>0.671642</td>\n",
              "      <td>0.781818</td>\n",
              "      <td>0.326360</td>\n",
              "      <td>0.453033</td>\n",
              "      <td>0.5000</td>\n",
              "      <td>3</td>\n",
              "      <td>1</td>\n",
              "      <td>0.5</td>\n",
              "      <td>2</td>\n",
              "      <td>1.00</td>\n",
              "      <td>1</td>\n",
              "      <td>2</td>\n",
              "      <td>8</td>\n",
              "      <td>3</td>\n",
              "      <td>1</td>\n",
              "      <td>1</td>\n",
              "      <td>Male</td>\n",
              "      <td>NaN</td>\n",
              "      <td>NaN</td>\n",
              "      <td>2</td>\n",
              "      <td>1</td>\n",
              "      <td>3</td>\n",
              "      <td>1</td>\n",
              "      <td>0.006667</td>\n",
              "      <td>1</td>\n",
              "      <td>3</td>\n",
              "      <td>2</td>\n",
              "      <td>2</td>\n",
              "      <td>NaN</td>\n",
              "      <td>0.490196</td>\n",
              "      <td>NaN</td>\n",
              "      <td>0.589286</td>\n",
              "      <td>4.0</td>\n",
              "      <td>...</td>\n",
              "      <td>0</td>\n",
              "      <td>0</td>\n",
              "      <td>0</td>\n",
              "      <td>0</td>\n",
              "      <td>0</td>\n",
              "      <td>0</td>\n",
              "      <td>0</td>\n",
              "      <td>0</td>\n",
              "      <td>0</td>\n",
              "      <td>0</td>\n",
              "      <td>0</td>\n",
              "      <td>0</td>\n",
              "      <td>0</td>\n",
              "      <td>0</td>\n",
              "      <td>0</td>\n",
              "      <td>0</td>\n",
              "      <td>0</td>\n",
              "      <td>0</td>\n",
              "      <td>0</td>\n",
              "      <td>0</td>\n",
              "      <td>0</td>\n",
              "      <td>0</td>\n",
              "      <td>0</td>\n",
              "      <td>0</td>\n",
              "      <td>0</td>\n",
              "      <td>0</td>\n",
              "      <td>0</td>\n",
              "      <td>0</td>\n",
              "      <td>0</td>\n",
              "      <td>0</td>\n",
              "      <td>0</td>\n",
              "      <td>0</td>\n",
              "      <td>0</td>\n",
              "      <td>0</td>\n",
              "      <td>0</td>\n",
              "      <td>0</td>\n",
              "      <td>0</td>\n",
              "      <td>0</td>\n",
              "      <td>0</td>\n",
              "      <td>6</td>\n",
              "    </tr>\n",
              "    <tr>\n",
              "      <th>2</th>\n",
              "      <td>1</td>\n",
              "      <td>D2</td>\n",
              "      <td>26</td>\n",
              "      <td>0.230769</td>\n",
              "      <td>2</td>\n",
              "      <td>3</td>\n",
              "      <td>1</td>\n",
              "      <td>0.626866</td>\n",
              "      <td>0.745455</td>\n",
              "      <td>0.393305</td>\n",
              "      <td>0.598310</td>\n",
              "      <td>0.0400</td>\n",
              "      <td>9</td>\n",
              "      <td>1</td>\n",
              "      <td>0.0</td>\n",
              "      <td>2</td>\n",
              "      <td>0.60</td>\n",
              "      <td>1</td>\n",
              "      <td>2</td>\n",
              "      <td>4</td>\n",
              "      <td>3</td>\n",
              "      <td>1</td>\n",
              "      <td>1</td>\n",
              "      <td>Male</td>\n",
              "      <td>Caucasian</td>\n",
              "      <td>Jewish</td>\n",
              "      <td>1</td>\n",
              "      <td>3</td>\n",
              "      <td>3</td>\n",
              "      <td>1</td>\n",
              "      <td>0.000833</td>\n",
              "      <td>1</td>\n",
              "      <td>1</td>\n",
              "      <td>2</td>\n",
              "      <td>3</td>\n",
              "      <td>NaN</td>\n",
              "      <td>0.558824</td>\n",
              "      <td>NaN</td>\n",
              "      <td>0.598214</td>\n",
              "      <td>3.0</td>\n",
              "      <td>...</td>\n",
              "      <td>0</td>\n",
              "      <td>0</td>\n",
              "      <td>0</td>\n",
              "      <td>0</td>\n",
              "      <td>0</td>\n",
              "      <td>0</td>\n",
              "      <td>0</td>\n",
              "      <td>0</td>\n",
              "      <td>0</td>\n",
              "      <td>0</td>\n",
              "      <td>0</td>\n",
              "      <td>0</td>\n",
              "      <td>0</td>\n",
              "      <td>1</td>\n",
              "      <td>0</td>\n",
              "      <td>1</td>\n",
              "      <td>0</td>\n",
              "      <td>0</td>\n",
              "      <td>0</td>\n",
              "      <td>0</td>\n",
              "      <td>0</td>\n",
              "      <td>0</td>\n",
              "      <td>1</td>\n",
              "      <td>0</td>\n",
              "      <td>0</td>\n",
              "      <td>1</td>\n",
              "      <td>0</td>\n",
              "      <td>1</td>\n",
              "      <td>0</td>\n",
              "      <td>0</td>\n",
              "      <td>0</td>\n",
              "      <td>0</td>\n",
              "      <td>0</td>\n",
              "      <td>0</td>\n",
              "      <td>0</td>\n",
              "      <td>0</td>\n",
              "      <td>0</td>\n",
              "      <td>0</td>\n",
              "      <td>0</td>\n",
              "      <td>1</td>\n",
              "    </tr>\n",
              "    <tr>\n",
              "      <th>3</th>\n",
              "      <td>1</td>\n",
              "      <td>D4</td>\n",
              "      <td>26</td>\n",
              "      <td>0.230769</td>\n",
              "      <td>2</td>\n",
              "      <td>3</td>\n",
              "      <td>1</td>\n",
              "      <td>0.268657</td>\n",
              "      <td>0.690909</td>\n",
              "      <td>0.246862</td>\n",
              "      <td>0.410638</td>\n",
              "      <td>0.0300</td>\n",
              "      <td>9</td>\n",
              "      <td>1</td>\n",
              "      <td>0.0</td>\n",
              "      <td>2</td>\n",
              "      <td>0.00</td>\n",
              "      <td>1</td>\n",
              "      <td>2</td>\n",
              "      <td>6</td>\n",
              "      <td>2</td>\n",
              "      <td>1</td>\n",
              "      <td>1</td>\n",
              "      <td>Female</td>\n",
              "      <td>NaN</td>\n",
              "      <td>NaN</td>\n",
              "      <td>2</td>\n",
              "      <td>1</td>\n",
              "      <td>1</td>\n",
              "      <td>3</td>\n",
              "      <td>NaN</td>\n",
              "      <td>3</td>\n",
              "      <td>2</td>\n",
              "      <td>3</td>\n",
              "      <td>2</td>\n",
              "      <td>0.536232</td>\n",
              "      <td>NaN</td>\n",
              "      <td>0.478873</td>\n",
              "      <td>NaN</td>\n",
              "      <td>12.0</td>\n",
              "      <td>...</td>\n",
              "      <td>0</td>\n",
              "      <td>0</td>\n",
              "      <td>0</td>\n",
              "      <td>0</td>\n",
              "      <td>0</td>\n",
              "      <td>0</td>\n",
              "      <td>0</td>\n",
              "      <td>0</td>\n",
              "      <td>0</td>\n",
              "      <td>0</td>\n",
              "      <td>0</td>\n",
              "      <td>0</td>\n",
              "      <td>0</td>\n",
              "      <td>0</td>\n",
              "      <td>0</td>\n",
              "      <td>0</td>\n",
              "      <td>0</td>\n",
              "      <td>0</td>\n",
              "      <td>0</td>\n",
              "      <td>0</td>\n",
              "      <td>0</td>\n",
              "      <td>0</td>\n",
              "      <td>0</td>\n",
              "      <td>0</td>\n",
              "      <td>0</td>\n",
              "      <td>0</td>\n",
              "      <td>0</td>\n",
              "      <td>0</td>\n",
              "      <td>0</td>\n",
              "      <td>0</td>\n",
              "      <td>0</td>\n",
              "      <td>0</td>\n",
              "      <td>0</td>\n",
              "      <td>0</td>\n",
              "      <td>0</td>\n",
              "      <td>0</td>\n",
              "      <td>0</td>\n",
              "      <td>0</td>\n",
              "      <td>0</td>\n",
              "      <td>4</td>\n",
              "    </tr>\n",
              "    <tr>\n",
              "      <th>4</th>\n",
              "      <td>1</td>\n",
              "      <td>E1</td>\n",
              "      <td>10</td>\n",
              "      <td>0.230769</td>\n",
              "      <td>2</td>\n",
              "      <td>3</td>\n",
              "      <td>1</td>\n",
              "      <td>0.641791</td>\n",
              "      <td>0.581818</td>\n",
              "      <td>0.466527</td>\n",
              "      <td>1.000000</td>\n",
              "      <td>0.0280</td>\n",
              "      <td>9</td>\n",
              "      <td>1</td>\n",
              "      <td>0.0</td>\n",
              "      <td>3</td>\n",
              "      <td>1.00</td>\n",
              "      <td>1</td>\n",
              "      <td>2</td>\n",
              "      <td>8</td>\n",
              "      <td>3</td>\n",
              "      <td>1</td>\n",
              "      <td>1</td>\n",
              "      <td>Female</td>\n",
              "      <td>NaN</td>\n",
              "      <td>NaN</td>\n",
              "      <td>2</td>\n",
              "      <td>1</td>\n",
              "      <td>3</td>\n",
              "      <td>1</td>\n",
              "      <td>0.000039</td>\n",
              "      <td>1</td>\n",
              "      <td>3</td>\n",
              "      <td>2</td>\n",
              "      <td>2</td>\n",
              "      <td>NaN</td>\n",
              "      <td>0.647059</td>\n",
              "      <td>NaN</td>\n",
              "      <td>0.160714</td>\n",
              "      <td>1.0</td>\n",
              "      <td>...</td>\n",
              "      <td>0</td>\n",
              "      <td>1</td>\n",
              "      <td>0</td>\n",
              "      <td>0</td>\n",
              "      <td>0</td>\n",
              "      <td>1</td>\n",
              "      <td>0</td>\n",
              "      <td>0</td>\n",
              "      <td>0</td>\n",
              "      <td>0</td>\n",
              "      <td>0</td>\n",
              "      <td>0</td>\n",
              "      <td>0</td>\n",
              "      <td>0</td>\n",
              "      <td>0</td>\n",
              "      <td>1</td>\n",
              "      <td>0</td>\n",
              "      <td>0</td>\n",
              "      <td>0</td>\n",
              "      <td>0</td>\n",
              "      <td>0</td>\n",
              "      <td>0</td>\n",
              "      <td>0</td>\n",
              "      <td>0</td>\n",
              "      <td>0</td>\n",
              "      <td>0</td>\n",
              "      <td>0</td>\n",
              "      <td>0</td>\n",
              "      <td>0</td>\n",
              "      <td>0</td>\n",
              "      <td>0</td>\n",
              "      <td>0</td>\n",
              "      <td>1</td>\n",
              "      <td>0</td>\n",
              "      <td>0</td>\n",
              "      <td>0</td>\n",
              "      <td>1</td>\n",
              "      <td>0</td>\n",
              "      <td>0</td>\n",
              "      <td>2</td>\n",
              "    </tr>\n",
              "  </tbody>\n",
              "</table>\n",
              "<p>5 rows × 129 columns</p>\n",
              "</div>"
            ],
            "text/plain": [
              "   Product_Info_1 Product_Info_2  ...  Medical_Keyword_48  Response\n",
              "0               1             A8  ...                   0         7\n",
              "1               1             D2  ...                   0         6\n",
              "2               1             D2  ...                   0         1\n",
              "3               1             D4  ...                   0         4\n",
              "4               1             E1  ...                   0         2\n",
              "\n",
              "[5 rows x 129 columns]"
            ]
          },
          "metadata": {
            "tags": []
          },
          "execution_count": 154
        }
      ]
    },
    {
      "cell_type": "markdown",
      "metadata": {
        "id": "9obiOc4Ln1KN",
        "colab_type": "text"
      },
      "source": [
        "##### delete directly the features that have more than 70% missing values"
      ]
    },
    {
      "cell_type": "code",
      "metadata": {
        "id": "7zRc4cP7Rps_",
        "colab_type": "code",
        "outputId": "fb8b153b-8461-44e3-fb88-1b02e0b5a542",
        "colab": {
          "base_uri": "https://localhost:8080/",
          "height": 34
        }
      },
      "source": [
        "# According to EDA, we will delete the features: \n",
        "#Medical_History_10,Medical_History_32,Medical_History_24,InsuredInfo_8,Medical_History_15,InsuredInfo_9,Family_Hist_5 \n",
        "import gc\n",
        "del data['Medical_History_10'],data['Medical_History_32'],data['Medical_History_24'],data['InsuredInfo_8'],data['Medical_History_15'],data['InsuredInfo_9'],data['Family_Hist_5']\n",
        "gc.collect()"
      ],
      "execution_count": 155,
      "outputs": [
        {
          "output_type": "execute_result",
          "data": {
            "text/plain": [
              "11"
            ]
          },
          "metadata": {
            "tags": []
          },
          "execution_count": 155
        }
      ]
    },
    {
      "cell_type": "markdown",
      "metadata": {
        "id": "0sIqVAs4n4E3",
        "colab_type": "text"
      },
      "source": [
        "##### encode object-type data"
      ]
    },
    {
      "cell_type": "code",
      "metadata": {
        "id": "iOL-ev_6Rrgf",
        "colab_type": "code",
        "outputId": "b22e09d6-e660-4205-80b7-faeaa9f2d661",
        "colab": {
          "base_uri": "https://localhost:8080/",
          "height": 85
        }
      },
      "source": [
        "print(data[data.columns[(data.dtypes == 'object')==True]].columns)\n",
        "print(data['Product_Info_2'].unique())\n",
        "print(data['InsuredInfo_7'].unique())"
      ],
      "execution_count": 156,
      "outputs": [
        {
          "output_type": "stream",
          "text": [
            "Index(['Product_Info_2', 'InsuredInfo_7'], dtype='object')\n",
            "['A8' 'D2' 'D4' 'E1' 'A3' 'A6' 'B2' 'D1' 'D3' 'A2' 'A1' 'C4' 'B1' 'A5'\n",
            " 'C3' 'C1' 'A7' 'A4' 'C2']\n",
            "['Female' 'Male']\n"
          ],
          "name": "stdout"
        }
      ]
    },
    {
      "cell_type": "code",
      "metadata": {
        "id": "_OvoRre7RtGk",
        "colab_type": "code",
        "outputId": "8918d51c-f6e2-44d1-9580-51201c8ef671",
        "colab": {
          "base_uri": "https://localhost:8080/",
          "height": 253
        }
      },
      "source": [
        "# As we can see above, we decide to:\n",
        "# onehot encoding: InsuredInfo_7; label encoding: Product_Info_2\n",
        "data = data.join(pd.get_dummies(data['InsuredInfo_7']))\n",
        "del data['InsuredInfo_7']\n",
        "from sklearn.preprocessing import LabelEncoder\n",
        "le = LabelEncoder().fit(data['Product_Info_2'])\n",
        "data['Product_Info_2'] = le.transform(data['Product_Info_2'])\n",
        "data.head(5)"
      ],
      "execution_count": 157,
      "outputs": [
        {
          "output_type": "execute_result",
          "data": {
            "text/html": [
              "<div>\n",
              "<style scoped>\n",
              "    .dataframe tbody tr th:only-of-type {\n",
              "        vertical-align: middle;\n",
              "    }\n",
              "\n",
              "    .dataframe tbody tr th {\n",
              "        vertical-align: top;\n",
              "    }\n",
              "\n",
              "    .dataframe thead th {\n",
              "        text-align: right;\n",
              "    }\n",
              "</style>\n",
              "<table border=\"1\" class=\"dataframe\">\n",
              "  <thead>\n",
              "    <tr style=\"text-align: right;\">\n",
              "      <th></th>\n",
              "      <th>Product_Info_1</th>\n",
              "      <th>Product_Info_2</th>\n",
              "      <th>Product_Info_3</th>\n",
              "      <th>Product_Info_4</th>\n",
              "      <th>Product_Info_5</th>\n",
              "      <th>Product_Info_6</th>\n",
              "      <th>Product_Info_7</th>\n",
              "      <th>Ins_Age</th>\n",
              "      <th>Ht</th>\n",
              "      <th>Wt</th>\n",
              "      <th>BMI</th>\n",
              "      <th>Employment_Info_1</th>\n",
              "      <th>Employment_Info_2</th>\n",
              "      <th>Employment_Info_3</th>\n",
              "      <th>Employment_Info_4</th>\n",
              "      <th>Employment_Info_5</th>\n",
              "      <th>Employment_Info_6</th>\n",
              "      <th>InsuredInfo_1</th>\n",
              "      <th>InsuredInfo_2</th>\n",
              "      <th>InsuredInfo_3</th>\n",
              "      <th>InsuredInfo_4</th>\n",
              "      <th>InsuredInfo_5</th>\n",
              "      <th>InsuredInfo_6</th>\n",
              "      <th>Insurance_History_1</th>\n",
              "      <th>Insurance_History_2</th>\n",
              "      <th>Insurance_History_3</th>\n",
              "      <th>Insurance_History_4</th>\n",
              "      <th>Insurance_History_5</th>\n",
              "      <th>Insurance_History_7</th>\n",
              "      <th>Insurance_History_8</th>\n",
              "      <th>Insurance_History_9</th>\n",
              "      <th>Family_Hist_1</th>\n",
              "      <th>Family_Hist_2</th>\n",
              "      <th>Family_Hist_3</th>\n",
              "      <th>Family_Hist_4</th>\n",
              "      <th>Medical_History_1</th>\n",
              "      <th>Medical_History_2</th>\n",
              "      <th>Medical_History_3</th>\n",
              "      <th>Medical_History_4</th>\n",
              "      <th>Medical_History_5</th>\n",
              "      <th>...</th>\n",
              "      <th>Medical_Keyword_12</th>\n",
              "      <th>Medical_Keyword_13</th>\n",
              "      <th>Medical_Keyword_14</th>\n",
              "      <th>Medical_Keyword_15</th>\n",
              "      <th>Medical_Keyword_16</th>\n",
              "      <th>Medical_Keyword_17</th>\n",
              "      <th>Medical_Keyword_18</th>\n",
              "      <th>Medical_Keyword_19</th>\n",
              "      <th>Medical_Keyword_20</th>\n",
              "      <th>Medical_Keyword_21</th>\n",
              "      <th>Medical_Keyword_22</th>\n",
              "      <th>Medical_Keyword_23</th>\n",
              "      <th>Medical_Keyword_24</th>\n",
              "      <th>Medical_Keyword_25</th>\n",
              "      <th>Medical_Keyword_26</th>\n",
              "      <th>Medical_Keyword_27</th>\n",
              "      <th>Medical_Keyword_28</th>\n",
              "      <th>Medical_Keyword_29</th>\n",
              "      <th>Medical_Keyword_30</th>\n",
              "      <th>Medical_Keyword_31</th>\n",
              "      <th>Medical_Keyword_32</th>\n",
              "      <th>Medical_Keyword_33</th>\n",
              "      <th>Medical_Keyword_34</th>\n",
              "      <th>Medical_Keyword_35</th>\n",
              "      <th>Medical_Keyword_36</th>\n",
              "      <th>Medical_Keyword_37</th>\n",
              "      <th>Medical_Keyword_38</th>\n",
              "      <th>Medical_Keyword_39</th>\n",
              "      <th>Medical_Keyword_40</th>\n",
              "      <th>Medical_Keyword_41</th>\n",
              "      <th>Medical_Keyword_42</th>\n",
              "      <th>Medical_Keyword_43</th>\n",
              "      <th>Medical_Keyword_44</th>\n",
              "      <th>Medical_Keyword_45</th>\n",
              "      <th>Medical_Keyword_46</th>\n",
              "      <th>Medical_Keyword_47</th>\n",
              "      <th>Medical_Keyword_48</th>\n",
              "      <th>Response</th>\n",
              "      <th>Female</th>\n",
              "      <th>Male</th>\n",
              "    </tr>\n",
              "  </thead>\n",
              "  <tbody>\n",
              "    <tr>\n",
              "      <th>0</th>\n",
              "      <td>1</td>\n",
              "      <td>7</td>\n",
              "      <td>26</td>\n",
              "      <td>0.230769</td>\n",
              "      <td>2</td>\n",
              "      <td>3</td>\n",
              "      <td>1</td>\n",
              "      <td>0.492537</td>\n",
              "      <td>0.563636</td>\n",
              "      <td>0.225941</td>\n",
              "      <td>0.510720</td>\n",
              "      <td>0.0244</td>\n",
              "      <td>9</td>\n",
              "      <td>1</td>\n",
              "      <td>0.0</td>\n",
              "      <td>2</td>\n",
              "      <td>0.05</td>\n",
              "      <td>2</td>\n",
              "      <td>2</td>\n",
              "      <td>3</td>\n",
              "      <td>3</td>\n",
              "      <td>1</td>\n",
              "      <td>1</td>\n",
              "      <td>2</td>\n",
              "      <td>1</td>\n",
              "      <td>1</td>\n",
              "      <td>3</td>\n",
              "      <td>NaN</td>\n",
              "      <td>3</td>\n",
              "      <td>2</td>\n",
              "      <td>3</td>\n",
              "      <td>3</td>\n",
              "      <td>0.681159</td>\n",
              "      <td>NaN</td>\n",
              "      <td>0.492958</td>\n",
              "      <td>0.0</td>\n",
              "      <td>112</td>\n",
              "      <td>2</td>\n",
              "      <td>2</td>\n",
              "      <td>1</td>\n",
              "      <td>...</td>\n",
              "      <td>0</td>\n",
              "      <td>0</td>\n",
              "      <td>0</td>\n",
              "      <td>0</td>\n",
              "      <td>0</td>\n",
              "      <td>0</td>\n",
              "      <td>0</td>\n",
              "      <td>0</td>\n",
              "      <td>0</td>\n",
              "      <td>0</td>\n",
              "      <td>0</td>\n",
              "      <td>0</td>\n",
              "      <td>0</td>\n",
              "      <td>0</td>\n",
              "      <td>0</td>\n",
              "      <td>0</td>\n",
              "      <td>0</td>\n",
              "      <td>0</td>\n",
              "      <td>0</td>\n",
              "      <td>0</td>\n",
              "      <td>0</td>\n",
              "      <td>0</td>\n",
              "      <td>0</td>\n",
              "      <td>0</td>\n",
              "      <td>0</td>\n",
              "      <td>0</td>\n",
              "      <td>0</td>\n",
              "      <td>0</td>\n",
              "      <td>0</td>\n",
              "      <td>0</td>\n",
              "      <td>0</td>\n",
              "      <td>0</td>\n",
              "      <td>0</td>\n",
              "      <td>0</td>\n",
              "      <td>0</td>\n",
              "      <td>0</td>\n",
              "      <td>0</td>\n",
              "      <td>7</td>\n",
              "      <td>1</td>\n",
              "      <td>0</td>\n",
              "    </tr>\n",
              "    <tr>\n",
              "      <th>1</th>\n",
              "      <td>1</td>\n",
              "      <td>15</td>\n",
              "      <td>26</td>\n",
              "      <td>1.000000</td>\n",
              "      <td>3</td>\n",
              "      <td>3</td>\n",
              "      <td>1</td>\n",
              "      <td>0.671642</td>\n",
              "      <td>0.781818</td>\n",
              "      <td>0.326360</td>\n",
              "      <td>0.453033</td>\n",
              "      <td>0.5000</td>\n",
              "      <td>3</td>\n",
              "      <td>1</td>\n",
              "      <td>0.5</td>\n",
              "      <td>2</td>\n",
              "      <td>1.00</td>\n",
              "      <td>1</td>\n",
              "      <td>2</td>\n",
              "      <td>8</td>\n",
              "      <td>3</td>\n",
              "      <td>1</td>\n",
              "      <td>1</td>\n",
              "      <td>2</td>\n",
              "      <td>1</td>\n",
              "      <td>3</td>\n",
              "      <td>1</td>\n",
              "      <td>0.006667</td>\n",
              "      <td>1</td>\n",
              "      <td>3</td>\n",
              "      <td>2</td>\n",
              "      <td>2</td>\n",
              "      <td>NaN</td>\n",
              "      <td>0.490196</td>\n",
              "      <td>NaN</td>\n",
              "      <td>4.0</td>\n",
              "      <td>161</td>\n",
              "      <td>2</td>\n",
              "      <td>1</td>\n",
              "      <td>1</td>\n",
              "      <td>...</td>\n",
              "      <td>0</td>\n",
              "      <td>0</td>\n",
              "      <td>0</td>\n",
              "      <td>0</td>\n",
              "      <td>0</td>\n",
              "      <td>0</td>\n",
              "      <td>0</td>\n",
              "      <td>0</td>\n",
              "      <td>0</td>\n",
              "      <td>0</td>\n",
              "      <td>0</td>\n",
              "      <td>0</td>\n",
              "      <td>0</td>\n",
              "      <td>0</td>\n",
              "      <td>0</td>\n",
              "      <td>0</td>\n",
              "      <td>0</td>\n",
              "      <td>0</td>\n",
              "      <td>0</td>\n",
              "      <td>0</td>\n",
              "      <td>0</td>\n",
              "      <td>0</td>\n",
              "      <td>0</td>\n",
              "      <td>0</td>\n",
              "      <td>0</td>\n",
              "      <td>0</td>\n",
              "      <td>0</td>\n",
              "      <td>0</td>\n",
              "      <td>0</td>\n",
              "      <td>0</td>\n",
              "      <td>0</td>\n",
              "      <td>0</td>\n",
              "      <td>0</td>\n",
              "      <td>0</td>\n",
              "      <td>0</td>\n",
              "      <td>0</td>\n",
              "      <td>0</td>\n",
              "      <td>6</td>\n",
              "      <td>0</td>\n",
              "      <td>1</td>\n",
              "    </tr>\n",
              "    <tr>\n",
              "      <th>2</th>\n",
              "      <td>1</td>\n",
              "      <td>15</td>\n",
              "      <td>26</td>\n",
              "      <td>0.230769</td>\n",
              "      <td>2</td>\n",
              "      <td>3</td>\n",
              "      <td>1</td>\n",
              "      <td>0.626866</td>\n",
              "      <td>0.745455</td>\n",
              "      <td>0.393305</td>\n",
              "      <td>0.598310</td>\n",
              "      <td>0.0400</td>\n",
              "      <td>9</td>\n",
              "      <td>1</td>\n",
              "      <td>0.0</td>\n",
              "      <td>2</td>\n",
              "      <td>0.60</td>\n",
              "      <td>1</td>\n",
              "      <td>2</td>\n",
              "      <td>4</td>\n",
              "      <td>3</td>\n",
              "      <td>1</td>\n",
              "      <td>1</td>\n",
              "      <td>1</td>\n",
              "      <td>3</td>\n",
              "      <td>3</td>\n",
              "      <td>1</td>\n",
              "      <td>0.000833</td>\n",
              "      <td>1</td>\n",
              "      <td>1</td>\n",
              "      <td>2</td>\n",
              "      <td>3</td>\n",
              "      <td>NaN</td>\n",
              "      <td>0.558824</td>\n",
              "      <td>NaN</td>\n",
              "      <td>3.0</td>\n",
              "      <td>3</td>\n",
              "      <td>2</td>\n",
              "      <td>1</td>\n",
              "      <td>1</td>\n",
              "      <td>...</td>\n",
              "      <td>0</td>\n",
              "      <td>0</td>\n",
              "      <td>0</td>\n",
              "      <td>0</td>\n",
              "      <td>0</td>\n",
              "      <td>0</td>\n",
              "      <td>0</td>\n",
              "      <td>0</td>\n",
              "      <td>0</td>\n",
              "      <td>0</td>\n",
              "      <td>0</td>\n",
              "      <td>1</td>\n",
              "      <td>0</td>\n",
              "      <td>1</td>\n",
              "      <td>0</td>\n",
              "      <td>0</td>\n",
              "      <td>0</td>\n",
              "      <td>0</td>\n",
              "      <td>0</td>\n",
              "      <td>0</td>\n",
              "      <td>1</td>\n",
              "      <td>0</td>\n",
              "      <td>0</td>\n",
              "      <td>1</td>\n",
              "      <td>0</td>\n",
              "      <td>1</td>\n",
              "      <td>0</td>\n",
              "      <td>0</td>\n",
              "      <td>0</td>\n",
              "      <td>0</td>\n",
              "      <td>0</td>\n",
              "      <td>0</td>\n",
              "      <td>0</td>\n",
              "      <td>0</td>\n",
              "      <td>0</td>\n",
              "      <td>0</td>\n",
              "      <td>0</td>\n",
              "      <td>1</td>\n",
              "      <td>0</td>\n",
              "      <td>1</td>\n",
              "    </tr>\n",
              "    <tr>\n",
              "      <th>3</th>\n",
              "      <td>1</td>\n",
              "      <td>17</td>\n",
              "      <td>26</td>\n",
              "      <td>0.230769</td>\n",
              "      <td>2</td>\n",
              "      <td>3</td>\n",
              "      <td>1</td>\n",
              "      <td>0.268657</td>\n",
              "      <td>0.690909</td>\n",
              "      <td>0.246862</td>\n",
              "      <td>0.410638</td>\n",
              "      <td>0.0300</td>\n",
              "      <td>9</td>\n",
              "      <td>1</td>\n",
              "      <td>0.0</td>\n",
              "      <td>2</td>\n",
              "      <td>0.00</td>\n",
              "      <td>1</td>\n",
              "      <td>2</td>\n",
              "      <td>6</td>\n",
              "      <td>2</td>\n",
              "      <td>1</td>\n",
              "      <td>1</td>\n",
              "      <td>2</td>\n",
              "      <td>1</td>\n",
              "      <td>1</td>\n",
              "      <td>3</td>\n",
              "      <td>NaN</td>\n",
              "      <td>3</td>\n",
              "      <td>2</td>\n",
              "      <td>3</td>\n",
              "      <td>2</td>\n",
              "      <td>0.536232</td>\n",
              "      <td>NaN</td>\n",
              "      <td>0.478873</td>\n",
              "      <td>12.0</td>\n",
              "      <td>261</td>\n",
              "      <td>2</td>\n",
              "      <td>2</td>\n",
              "      <td>1</td>\n",
              "      <td>...</td>\n",
              "      <td>0</td>\n",
              "      <td>0</td>\n",
              "      <td>0</td>\n",
              "      <td>0</td>\n",
              "      <td>0</td>\n",
              "      <td>0</td>\n",
              "      <td>0</td>\n",
              "      <td>0</td>\n",
              "      <td>0</td>\n",
              "      <td>0</td>\n",
              "      <td>0</td>\n",
              "      <td>0</td>\n",
              "      <td>0</td>\n",
              "      <td>0</td>\n",
              "      <td>0</td>\n",
              "      <td>0</td>\n",
              "      <td>0</td>\n",
              "      <td>0</td>\n",
              "      <td>0</td>\n",
              "      <td>0</td>\n",
              "      <td>0</td>\n",
              "      <td>0</td>\n",
              "      <td>0</td>\n",
              "      <td>0</td>\n",
              "      <td>0</td>\n",
              "      <td>0</td>\n",
              "      <td>0</td>\n",
              "      <td>0</td>\n",
              "      <td>0</td>\n",
              "      <td>0</td>\n",
              "      <td>0</td>\n",
              "      <td>0</td>\n",
              "      <td>0</td>\n",
              "      <td>0</td>\n",
              "      <td>0</td>\n",
              "      <td>0</td>\n",
              "      <td>0</td>\n",
              "      <td>4</td>\n",
              "      <td>1</td>\n",
              "      <td>0</td>\n",
              "    </tr>\n",
              "    <tr>\n",
              "      <th>4</th>\n",
              "      <td>1</td>\n",
              "      <td>18</td>\n",
              "      <td>10</td>\n",
              "      <td>0.230769</td>\n",
              "      <td>2</td>\n",
              "      <td>3</td>\n",
              "      <td>1</td>\n",
              "      <td>0.641791</td>\n",
              "      <td>0.581818</td>\n",
              "      <td>0.466527</td>\n",
              "      <td>1.000000</td>\n",
              "      <td>0.0280</td>\n",
              "      <td>9</td>\n",
              "      <td>1</td>\n",
              "      <td>0.0</td>\n",
              "      <td>3</td>\n",
              "      <td>1.00</td>\n",
              "      <td>1</td>\n",
              "      <td>2</td>\n",
              "      <td>8</td>\n",
              "      <td>3</td>\n",
              "      <td>1</td>\n",
              "      <td>1</td>\n",
              "      <td>2</td>\n",
              "      <td>1</td>\n",
              "      <td>3</td>\n",
              "      <td>1</td>\n",
              "      <td>0.000039</td>\n",
              "      <td>1</td>\n",
              "      <td>3</td>\n",
              "      <td>2</td>\n",
              "      <td>2</td>\n",
              "      <td>NaN</td>\n",
              "      <td>0.647059</td>\n",
              "      <td>NaN</td>\n",
              "      <td>1.0</td>\n",
              "      <td>112</td>\n",
              "      <td>3</td>\n",
              "      <td>2</td>\n",
              "      <td>1</td>\n",
              "      <td>...</td>\n",
              "      <td>0</td>\n",
              "      <td>0</td>\n",
              "      <td>0</td>\n",
              "      <td>1</td>\n",
              "      <td>0</td>\n",
              "      <td>0</td>\n",
              "      <td>0</td>\n",
              "      <td>0</td>\n",
              "      <td>0</td>\n",
              "      <td>0</td>\n",
              "      <td>0</td>\n",
              "      <td>0</td>\n",
              "      <td>0</td>\n",
              "      <td>1</td>\n",
              "      <td>0</td>\n",
              "      <td>0</td>\n",
              "      <td>0</td>\n",
              "      <td>0</td>\n",
              "      <td>0</td>\n",
              "      <td>0</td>\n",
              "      <td>0</td>\n",
              "      <td>0</td>\n",
              "      <td>0</td>\n",
              "      <td>0</td>\n",
              "      <td>0</td>\n",
              "      <td>0</td>\n",
              "      <td>0</td>\n",
              "      <td>0</td>\n",
              "      <td>0</td>\n",
              "      <td>0</td>\n",
              "      <td>1</td>\n",
              "      <td>0</td>\n",
              "      <td>0</td>\n",
              "      <td>0</td>\n",
              "      <td>1</td>\n",
              "      <td>0</td>\n",
              "      <td>0</td>\n",
              "      <td>2</td>\n",
              "      <td>1</td>\n",
              "      <td>0</td>\n",
              "    </tr>\n",
              "  </tbody>\n",
              "</table>\n",
              "<p>5 rows × 123 columns</p>\n",
              "</div>"
            ],
            "text/plain": [
              "   Product_Info_1  Product_Info_2  Product_Info_3  ...  Response  Female  Male\n",
              "0               1               7              26  ...         7       1     0\n",
              "1               1              15              26  ...         6       0     1\n",
              "2               1              15              26  ...         1       0     1\n",
              "3               1              17              26  ...         4       1     0\n",
              "4               1              18              10  ...         2       1     0\n",
              "\n",
              "[5 rows x 123 columns]"
            ]
          },
          "metadata": {
            "tags": []
          },
          "execution_count": 157
        }
      ]
    },
    {
      "cell_type": "markdown",
      "metadata": {
        "id": "EFkN2DV-n_Et",
        "colab_type": "text"
      },
      "source": [
        "##### Fill missing values by mean for other features;"
      ]
    },
    {
      "cell_type": "code",
      "metadata": {
        "id": "4thrGwu3RuvT",
        "colab_type": "code",
        "outputId": "5933933c-b205-4fd9-d215-f61148242f8b",
        "colab": {
          "base_uri": "https://localhost:8080/",
          "height": 297
        }
      },
      "source": [
        "missing_features = pd.DataFrame(data.dtypes,columns=['dtypes'])\n",
        "missing_features = missing_features.reset_index()\n",
        "missing_features['Name'] = missing_features['index']\n",
        "del missing_features['index']\n",
        "missing_features.reset_index(drop=True,inplace=True)\n",
        "missing_features = missing_features[data.isnull().sum().values!=0]\n",
        "missing_features"
      ],
      "execution_count": 158,
      "outputs": [
        {
          "output_type": "execute_result",
          "data": {
            "text/html": [
              "<div>\n",
              "<style scoped>\n",
              "    .dataframe tbody tr th:only-of-type {\n",
              "        vertical-align: middle;\n",
              "    }\n",
              "\n",
              "    .dataframe tbody tr th {\n",
              "        vertical-align: top;\n",
              "    }\n",
              "\n",
              "    .dataframe thead th {\n",
              "        text-align: right;\n",
              "    }\n",
              "</style>\n",
              "<table border=\"1\" class=\"dataframe\">\n",
              "  <thead>\n",
              "    <tr style=\"text-align: right;\">\n",
              "      <th></th>\n",
              "      <th>dtypes</th>\n",
              "      <th>Name</th>\n",
              "    </tr>\n",
              "  </thead>\n",
              "  <tbody>\n",
              "    <tr>\n",
              "      <th>11</th>\n",
              "      <td>float64</td>\n",
              "      <td>Employment_Info_1</td>\n",
              "    </tr>\n",
              "    <tr>\n",
              "      <th>14</th>\n",
              "      <td>float64</td>\n",
              "      <td>Employment_Info_4</td>\n",
              "    </tr>\n",
              "    <tr>\n",
              "      <th>16</th>\n",
              "      <td>float64</td>\n",
              "      <td>Employment_Info_6</td>\n",
              "    </tr>\n",
              "    <tr>\n",
              "      <th>27</th>\n",
              "      <td>float64</td>\n",
              "      <td>Insurance_History_5</td>\n",
              "    </tr>\n",
              "    <tr>\n",
              "      <th>32</th>\n",
              "      <td>float64</td>\n",
              "      <td>Family_Hist_2</td>\n",
              "    </tr>\n",
              "    <tr>\n",
              "      <th>33</th>\n",
              "      <td>float64</td>\n",
              "      <td>Family_Hist_3</td>\n",
              "    </tr>\n",
              "    <tr>\n",
              "      <th>34</th>\n",
              "      <td>float64</td>\n",
              "      <td>Family_Hist_4</td>\n",
              "    </tr>\n",
              "    <tr>\n",
              "      <th>35</th>\n",
              "      <td>float64</td>\n",
              "      <td>Medical_History_1</td>\n",
              "    </tr>\n",
              "  </tbody>\n",
              "</table>\n",
              "</div>"
            ],
            "text/plain": [
              "     dtypes                 Name\n",
              "11  float64    Employment_Info_1\n",
              "14  float64    Employment_Info_4\n",
              "16  float64    Employment_Info_6\n",
              "27  float64  Insurance_History_5\n",
              "32  float64        Family_Hist_2\n",
              "33  float64        Family_Hist_3\n",
              "34  float64        Family_Hist_4\n",
              "35  float64    Medical_History_1"
            ]
          },
          "metadata": {
            "tags": []
          },
          "execution_count": 158
        }
      ]
    },
    {
      "cell_type": "code",
      "metadata": {
        "id": "FPs_oB-rRwEU",
        "colab_type": "code",
        "outputId": "2dfa9fa7-f571-477d-d8ba-44b711a5282f",
        "colab": {
          "base_uri": "https://localhost:8080/",
          "height": 34
        }
      },
      "source": [
        "# as they are all float data, we can then fill them by mean directly\n",
        "data.fillna(data.mean()[missing_features.Name],inplace=True)\n",
        "print('now we have ',data.isnull().sum().values.sum(),' missing value')"
      ],
      "execution_count": 159,
      "outputs": [
        {
          "output_type": "stream",
          "text": [
            "now we have  0  missing value\n"
          ],
          "name": "stdout"
        }
      ]
    },
    {
      "cell_type": "markdown",
      "metadata": {
        "id": "EGmes46moElU",
        "colab_type": "text"
      },
      "source": [
        "##### See variance again and delete top5 features with the lowest variance"
      ]
    },
    {
      "cell_type": "code",
      "metadata": {
        "id": "KZPsYs89RzKM",
        "colab_type": "code",
        "outputId": "3cafbb36-2bfa-444d-b469-9e62e9a77065",
        "colab": {
          "base_uri": "https://localhost:8080/",
          "height": 136
        }
      },
      "source": [
        "tabel_var = data[data.columns].var().sort_values(ascending=True)\n",
        "tabel_var = tabel_var.head(5)\n",
        "print(tabel_var)\n",
        "tabel_var.reset_index()\n",
        "for column in tabel_var.index.tolist():\n",
        "    del data[column]\n",
        "gc.collect()"
      ],
      "execution_count": 160,
      "outputs": [
        {
          "output_type": "stream",
          "text": [
            "Insurance_History_5    0.000031\n",
            "Employment_Info_4      0.000960\n",
            "Medical_History_35     0.004108\n",
            "Medical_History_38     0.004819\n",
            "Ht                     0.005513\n",
            "dtype: float64\n"
          ],
          "name": "stdout"
        },
        {
          "output_type": "execute_result",
          "data": {
            "text/plain": [
              "44"
            ]
          },
          "metadata": {
            "tags": []
          },
          "execution_count": 160
        }
      ]
    },
    {
      "cell_type": "markdown",
      "metadata": {
        "id": "r7FvsUxXoJrY",
        "colab_type": "text"
      },
      "source": [
        "##### See correlation again to delete top5 features with the lowest correlation to the targe"
      ]
    },
    {
      "cell_type": "code",
      "metadata": {
        "id": "BYDXJn_uR0iC",
        "colab_type": "code",
        "outputId": "82567e39-2dfe-44bd-e322-21a2921ae349",
        "colab": {
          "base_uri": "https://localhost:8080/",
          "height": 136
        }
      },
      "source": [
        "X_temp = data\n",
        "X_temp = X_temp.corr()\n",
        "tabel_corr = abs(X_temp[['Response']]).sort_values(by=['Response'],ascending=True)\n",
        "tabel_corr = tabel_corr.head(5)\n",
        "print(tabel_corr)\n",
        "tabel_corr.reset_index()\n",
        "for column in tabel_corr.index.tolist():\n",
        "    del data[column]\n",
        "del X_temp\n",
        "gc.collect()"
      ],
      "execution_count": 161,
      "outputs": [
        {
          "output_type": "stream",
          "text": [
            "                     Response\n",
            "Insurance_History_4  0.000594\n",
            "Medical_History_25   0.000598\n",
            "Medical_History_36   0.000748\n",
            "Medical_History_26   0.000777\n",
            "Insurance_History_1  0.000885\n"
          ],
          "name": "stdout"
        },
        {
          "output_type": "execute_result",
          "data": {
            "text/plain": [
              "33"
            ]
          },
          "metadata": {
            "tags": []
          },
          "execution_count": 161
        }
      ]
    },
    {
      "cell_type": "code",
      "metadata": {
        "id": "-87LxS9VR14W",
        "colab_type": "code",
        "outputId": "57f55cf1-89d6-4894-ad4a-b603183bd690",
        "colab": {
          "base_uri": "https://localhost:8080/",
          "height": 51
        }
      },
      "source": [
        "print(data.shape)\n",
        "y_data = data['Response']\n",
        "del data['Response']\n",
        "gc.collect()"
      ],
      "execution_count": 162,
      "outputs": [
        {
          "output_type": "stream",
          "text": [
            "(58852, 113)\n"
          ],
          "name": "stdout"
        },
        {
          "output_type": "execute_result",
          "data": {
            "text/plain": [
              "0"
            ]
          },
          "metadata": {
            "tags": []
          },
          "execution_count": 162
        }
      ]
    },
    {
      "cell_type": "markdown",
      "metadata": {
        "id": "9xNle8fgoNLH",
        "colab_type": "text"
      },
      "source": [
        "### Data Modeling"
      ]
    },
    {
      "cell_type": "markdown",
      "metadata": {
        "id": "X8fsO6TQoagN",
        "colab_type": "text"
      },
      "source": [
        "#### Plan:\n",
        "    a. Seperate training set into training set and validation set (used in step b,c);\n",
        "    b. Use some simple models like SVC, KNN to see the baseline;\n",
        "    c. Use some avanced models like random forest;\n",
        "    d. If the result isn't good enough, we will try to use xgboost and cross validation to make a voting."
      ]
    },
    {
      "cell_type": "code",
      "metadata": {
        "id": "23Z8DYb_mYQ6",
        "colab_type": "code",
        "outputId": "697d840a-1d2c-4aee-c426-649627d4ed34",
        "colab": {
          "base_uri": "https://localhost:8080/",
          "height": 51
        }
      },
      "source": [
        "from sklearn.model_selection import train_test_split\n",
        "X_train, X_validation, y_train, y_validation = train_test_split(data, y_data, \n",
        "                                                                test_size=0.15, stratify=y_data,random_state=0)\n",
        "print(X_train.shape)\n",
        "print(X_validation.shape)"
      ],
      "execution_count": 14,
      "outputs": [
        {
          "output_type": "stream",
          "text": [
            "(50024, 112)\n",
            "(8828, 112)\n"
          ],
          "name": "stdout"
        }
      ]
    },
    {
      "cell_type": "markdown",
      "metadata": {
        "id": "tXayy410oeTe",
        "colab_type": "text"
      },
      "source": [
        "##### SVC"
      ]
    },
    {
      "cell_type": "code",
      "metadata": {
        "id": "BAQOH9Kima9U",
        "colab_type": "code",
        "colab": {}
      },
      "source": [
        "# # wait for five minutes still no result, maybe it's memory issue\n",
        "# from sklearn.svm import SVC\n",
        "# clf = SVC(C=0.5)\n",
        "# clf.fit(X_train,y_train)\n",
        "# print('validation set presicion:',clf.score(X_validation,y_validation))\n",
        "# print('training set precision:',clf.score(X_train,y_train))"
      ],
      "execution_count": 0,
      "outputs": []
    },
    {
      "cell_type": "markdown",
      "metadata": {
        "id": "XywU8GlCo1eD",
        "colab_type": "text"
      },
      "source": [
        "##### KNN"
      ]
    },
    {
      "cell_type": "code",
      "metadata": {
        "id": "EA0UK4R6mdUa",
        "colab_type": "code",
        "outputId": "0bb0360a-1fbe-41bb-d564-a5890b07e04f",
        "colab": {
          "base_uri": "https://localhost:8080/",
          "height": 51
        }
      },
      "source": [
        "from sklearn.metrics import accuracy_score\n",
        "from sklearn.neighbors import KNeighborsClassifier\n",
        "clf = KNeighborsClassifier(n_neighbors=7)\n",
        "clf.fit(X_train, y_train)\n",
        "y_pred = clf.predict(X_validation)\n",
        "print('validation set presicion:',accuracy_score(y_validation, y_pred))\n",
        "y_pred = clf.predict(X_train)\n",
        "print('training set precision:',accuracy_score(y_train, y_pred))"
      ],
      "execution_count": 15,
      "outputs": [
        {
          "output_type": "stream",
          "text": [
            "validation set presicion: 0.3192115994562755\n",
            "training set precision: 0.48288821365744444\n"
          ],
          "name": "stdout"
        }
      ]
    },
    {
      "cell_type": "markdown",
      "metadata": {
        "id": "FjLyLsoQo7K8",
        "colab_type": "text"
      },
      "source": [
        "##### Random Forest"
      ]
    },
    {
      "cell_type": "code",
      "metadata": {
        "id": "A-STX5TcmexB",
        "colab_type": "code",
        "outputId": "f750b166-5cd5-4ef8-f26c-dcb8c5756646",
        "colab": {
          "base_uri": "https://localhost:8080/",
          "height": 51
        }
      },
      "source": [
        "# here we can also use grid search to find the best hyperparameters to tune the model\n",
        "from sklearn.ensemble import RandomForestClassifier\n",
        "clf_rf = RandomForestClassifier(max_depth=10,n_estimators=2000)\n",
        "clf_rf.fit(X_train,y_train)\n",
        "print('validation set presicion:',clf_rf.score(X_validation,y_validation))\n",
        "print('training set precision:',clf_rf.score(X_train,y_train))"
      ],
      "execution_count": 33,
      "outputs": [
        {
          "output_type": "stream",
          "text": [
            "validation set presicion: 0.5133665609424558\n",
            "training set precision: 0.5663681432912202\n"
          ],
          "name": "stdout"
        }
      ]
    },
    {
      "cell_type": "markdown",
      "metadata": {
        "id": "5NSzzJERpAiS",
        "colab_type": "text"
      },
      "source": [
        "##### XGBoost"
      ]
    },
    {
      "cell_type": "code",
      "metadata": {
        "id": "ET5BAFXvyk9Z",
        "colab_type": "code",
        "colab": {}
      },
      "source": [
        "X_train.reset_index(drop=True,inplace=True)\n",
        "X_validation.reset_index(drop=True,inplace=True)\n",
        "y_train.reset_index(drop=True,inplace=True)\n",
        "y_validation.reset_index(drop=True,inplace=True)"
      ],
      "execution_count": 0,
      "outputs": []
    },
    {
      "cell_type": "code",
      "metadata": {
        "id": "TA6-vCemR5t3",
        "colab_type": "code",
        "outputId": "ba08d686-ffb4-4967-9a9a-acfad8bc42ca",
        "colab": {
          "base_uri": "https://localhost:8080/",
          "height": 952
        }
      },
      "source": [
        "from xgboost import XGBClassifier\n",
        "from xgboost import plot_importance\n",
        "from sklearn.model_selection import KFold, StratifiedKFold\n",
        "import xgboost as xgb\n",
        "from tqdm import tqdm\n",
        "folds = 4\n",
        "seed = 0\n",
        "kf = StratifiedKFold(n_splits=folds, shuffle=True, random_state=seed)\n",
        "models = []\n",
        "for tr_idx, val_idx in tqdm(kf.split(X_train,y_train)):\n",
        "    def fit_classifier(tr_idx, val_idx):\n",
        "        tr_x, tr_y = X_train[list(X_train)].iloc[tr_idx], y_train[tr_idx]\n",
        "        vl_x, vl_y = X_train[list(X_train)].iloc[val_idx], y_train[val_idx]\n",
        "        print({'train size':len(tr_x), 'eval size':len(vl_x)})\n",
        "\n",
        "        tr_data = xgb.DMatrix(tr_x, label=tr_y)\n",
        "        vl_data = xgb.DMatrix(vl_x, label=vl_y)  \n",
        "        clf = xgb.XGBClassifier(n_estimators=2000,\n",
        "                                learning_rate=0.01,\n",
        "                                feature_fraction=0.9,\n",
        "                                subsample=0.25,  # batches of 25% of the data\n",
        "                                subsample_freq=1,\n",
        "                                lambda_l2=0.2,\n",
        "                                num_leaves=30,\n",
        "                                tree_method = 'gpu_hist',\n",
        "                                metric='mse')\n",
        "        clf.fit(tr_x, tr_y,\n",
        "                eval_set=[(tr_x, tr_y),(vl_x, vl_y)],\n",
        "                early_stopping_rounds=150,\n",
        "                verbose=250)\n",
        "        return clf\n",
        "    clf = fit_classifier(tr_idx, val_idx)\n",
        "    models.append(clf)"
      ],
      "execution_count": 18,
      "outputs": [
        {
          "output_type": "stream",
          "text": [
            "\r0it [00:00, ?it/s]"
          ],
          "name": "stderr"
        },
        {
          "output_type": "stream",
          "text": [
            "{'train size': 37518, 'eval size': 12506}\n",
            "[0]\tvalidation_0-merror:0.503652\tvalidation_1-merror:0.514473\n",
            "Multiple eval metrics have been passed: 'validation_1-merror' will be used for early stopping.\n",
            "\n",
            "Will train until validation_1-merror hasn't improved in 150 rounds.\n",
            "[250]\tvalidation_0-merror:0.47833\tvalidation_1-merror:0.488645\n",
            "[500]\tvalidation_0-merror:0.469268\tvalidation_1-merror:0.480729\n",
            "[750]\tvalidation_0-merror:0.458313\tvalidation_1-merror:0.473853\n",
            "[1000]\tvalidation_0-merror:0.45117\tvalidation_1-merror:0.468655\n",
            "[1250]\tvalidation_0-merror:0.444747\tvalidation_1-merror:0.465776\n",
            "[1500]\tvalidation_0-merror:0.438989\tvalidation_1-merror:0.463617\n",
            "[1750]\tvalidation_0-merror:0.433579\tvalidation_1-merror:0.461778\n",
            "[1999]\tvalidation_0-merror:0.428488\tvalidation_1-merror:0.460419\n"
          ],
          "name": "stdout"
        },
        {
          "output_type": "stream",
          "text": [
            "\r1it [01:10, 70.42s/it]"
          ],
          "name": "stderr"
        },
        {
          "output_type": "stream",
          "text": [
            "{'train size': 37518, 'eval size': 12506}\n",
            "[0]\tvalidation_0-merror:0.508369\tvalidation_1-merror:0.511514\n",
            "Multiple eval metrics have been passed: 'validation_1-merror' will be used for early stopping.\n",
            "\n",
            "Will train until validation_1-merror hasn't improved in 150 rounds.\n",
            "[250]\tvalidation_0-merror:0.47897\tvalidation_1-merror:0.483848\n",
            "[500]\tvalidation_0-merror:0.467829\tvalidation_1-merror:0.477371\n",
            "[750]\tvalidation_0-merror:0.45898\tvalidation_1-merror:0.473373\n",
            "[1000]\tvalidation_0-merror:0.450344\tvalidation_1-merror:0.471294\n",
            "[1250]\tvalidation_0-merror:0.444453\tvalidation_1-merror:0.468335\n",
            "[1500]\tvalidation_0-merror:0.438483\tvalidation_1-merror:0.466176\n",
            "[1750]\tvalidation_0-merror:0.434245\tvalidation_1-merror:0.462498\n",
            "[1999]\tvalidation_0-merror:0.430487\tvalidation_1-merror:0.461139\n"
          ],
          "name": "stdout"
        },
        {
          "output_type": "stream",
          "text": [
            "\r2it [02:14, 68.44s/it]"
          ],
          "name": "stderr"
        },
        {
          "output_type": "stream",
          "text": [
            "{'train size': 37518, 'eval size': 12506}\n",
            "[0]\tvalidation_0-merror:0.504744\tvalidation_1-merror:0.509196\n",
            "Multiple eval metrics have been passed: 'validation_1-merror' will be used for early stopping.\n",
            "\n",
            "Will train until validation_1-merror hasn't improved in 150 rounds.\n",
            "[250]\tvalidation_0-merror:0.477584\tvalidation_1-merror:0.482408\n",
            "[500]\tvalidation_0-merror:0.468548\tvalidation_1-merror:0.474412\n",
            "[750]\tvalidation_0-merror:0.45922\tvalidation_1-merror:0.466096\n",
            "[1000]\tvalidation_0-merror:0.452396\tvalidation_1-merror:0.460739\n",
            "[1250]\tvalidation_0-merror:0.445866\tvalidation_1-merror:0.45754\n",
            "[1500]\tvalidation_0-merror:0.439442\tvalidation_1-merror:0.455222\n",
            "Stopping. Best iteration:\n",
            "[1435]\tvalidation_0-merror:0.441175\tvalidation_1-merror:0.454982\n",
            "\n"
          ],
          "name": "stdout"
        },
        {
          "output_type": "stream",
          "text": [
            "\r3it [03:04, 63.01s/it]"
          ],
          "name": "stderr"
        },
        {
          "output_type": "stream",
          "text": [
            "{'train size': 37518, 'eval size': 12506}\n",
            "[0]\tvalidation_0-merror:0.496535\tvalidation_1-merror:0.494962\n",
            "Multiple eval metrics have been passed: 'validation_1-merror' will be used for early stopping.\n",
            "\n",
            "Will train until validation_1-merror hasn't improved in 150 rounds.\n",
            "[250]\tvalidation_0-merror:0.480356\tvalidation_1-merror:0.47849\n",
            "[500]\tvalidation_0-merror:0.471187\tvalidation_1-merror:0.471454\n",
            "[750]\tvalidation_0-merror:0.460099\tvalidation_1-merror:0.467136\n",
            "[1000]\tvalidation_0-merror:0.451943\tvalidation_1-merror:0.463298\n",
            "[1250]\tvalidation_0-merror:0.446133\tvalidation_1-merror:0.459539\n",
            "[1500]\tvalidation_0-merror:0.440349\tvalidation_1-merror:0.45842\n",
            "Stopping. Best iteration:\n",
            "[1376]\tvalidation_0-merror:0.442694\tvalidation_1-merror:0.45794\n",
            "\n"
          ],
          "name": "stdout"
        },
        {
          "output_type": "stream",
          "text": [
            "\r4it [03:53, 58.64s/it]\n"
          ],
          "name": "stderr"
        }
      ]
    },
    {
      "cell_type": "code",
      "metadata": {
        "id": "ZKoASWLT46Ub",
        "colab_type": "code",
        "outputId": "73cd7455-bfd0-439c-ff8a-ec2c1b25adc6",
        "colab": {
          "base_uri": "https://localhost:8080/",
          "height": 34
        }
      },
      "source": [
        "res_preds = []\n",
        "for i in range(4):\n",
        "  res_preds.append(models[i].predict(X_validation))\n",
        "res = []\n",
        "for i in range(len(y_validation)):\n",
        "  res_temp = []\n",
        "  for j in range(4): \n",
        "    res_temp.append(res_preds[j][i])\n",
        "  res.append(np.argmax(np.bincount(res_temp)))\n",
        "from sklearn.metrics import accuracy_score\n",
        "print('test set precision 4 models hard voting:',accuracy_score(y_validation, res))"
      ],
      "execution_count": 19,
      "outputs": [
        {
          "output_type": "stream",
          "text": [
            "test set precision 4 models hard voting: 0.5414589941096511\n"
          ],
          "name": "stdout"
        }
      ]
    },
    {
      "cell_type": "code",
      "metadata": {
        "id": "IwQxeTaeddCu",
        "colab_type": "code",
        "outputId": "fd4a73a4-30be-4582-ddd6-c1216437e1c1",
        "colab": {
          "base_uri": "https://localhost:8080/",
          "height": 34
        }
      },
      "source": [
        "res_preds = []\n",
        "for i in range(4):\n",
        "  res_preds.append(models[i].predict(X_validation))\n",
        "res_preds.append(clf_rf.predict(X_validation))\n",
        "res = []\n",
        "for i in range(len(y_validation)):\n",
        "  res_temp = []\n",
        "  for j in range(5): \n",
        "    res_temp.append(res_preds[j][i])\n",
        "  res.append(np.argmax(np.bincount(res_temp)))\n",
        "from sklearn.metrics import accuracy_score\n",
        "print('test set precision 5 models hard voting:',accuracy_score(y_validation, res))"
      ],
      "execution_count": 20,
      "outputs": [
        {
          "output_type": "stream",
          "text": [
            "test set precision 5 models hard voting: 0.542931581332125\n"
          ],
          "name": "stdout"
        }
      ]
    },
    {
      "cell_type": "markdown",
      "metadata": {
        "id": "0HOxpuNPID5n",
        "colab_type": "text"
      },
      "source": [
        "#### Select features that appear in the top 20 rankings of feature importance of tree-based models (1 random forest model and 4 xgboost models) "
      ]
    },
    {
      "cell_type": "code",
      "metadata": {
        "id": "Xzuqyz5zmiFg",
        "colab_type": "code",
        "outputId": "f65d53b5-4d6f-456f-cdc7-ecae41c9370b",
        "colab": {
          "base_uri": "https://localhost:8080/",
          "height": 867
        }
      },
      "source": [
        "# random forest feature importance rank\n",
        "feat_labels = X_train.columns\n",
        "rf_importances = clf_rf.feature_importances_\n",
        "indices = np.argsort(rf_importances)[::-1]\n",
        "rf_important_features = []\n",
        "for f in range(50):\n",
        "    rf_important_features.append(feat_labels[indices[f]])\n",
        "    print(\"%2d) %-*s %f\" % (f + 1, 30, feat_labels[indices[f]], rf_importances[indices[f]]))"
      ],
      "execution_count": 36,
      "outputs": [
        {
          "output_type": "stream",
          "text": [
            " 1) BMI                            0.199846\n",
            " 2) Wt                             0.131212\n",
            " 3) Medical_History_4              0.084770\n",
            " 4) Medical_History_23             0.070095\n",
            " 5) Product_Info_4                 0.069168\n",
            " 6) Medical_Keyword_15             0.064412\n",
            " 7) Medical_Keyword_3              0.030821\n",
            " 8) Ins_Age                        0.030384\n",
            " 9) Male                           0.019738\n",
            "10) Female                         0.019179\n",
            "11) Family_Hist_4                  0.017882\n",
            "12) Medical_History_39             0.017842\n",
            "13) Product_Info_2                 0.015222\n",
            "14) Family_Hist_2                  0.014319\n",
            "15) Family_Hist_3                  0.012372\n",
            "16) Employment_Info_1              0.011982\n",
            "17) Medical_History_1              0.011337\n",
            "18) Employment_Info_6              0.009097\n",
            "19) Medical_History_30             0.007940\n",
            "20) Medical_History_2              0.007576\n",
            "21) Medical_History_33             0.007232\n",
            "22) Medical_Keyword_23             0.007103\n",
            "23) Employment_Info_2              0.006526\n",
            "24) Medical_History_40             0.006297\n",
            "25) Medical_History_6              0.005420\n",
            "26) Family_Hist_1                  0.005018\n",
            "27) InsuredInfo_3                  0.004963\n",
            "28) Medical_History_13             0.004916\n",
            "29) Medical_Keyword_48             0.004910\n",
            "30) Medical_History_28             0.004284\n",
            "31) Medical_History_16             0.004034\n",
            "32) Employment_Info_3              0.003779\n",
            "33) Product_Info_3                 0.003721\n",
            "34) Medical_Keyword_25             0.003313\n",
            "35) InsuredInfo_1                  0.003131\n",
            "36) Insurance_History_2            0.002904\n",
            "37) InsuredInfo_6                  0.002853\n",
            "38) Insurance_History_8            0.002819\n",
            "39) Insurance_History_7            0.002698\n",
            "40) InsuredInfo_2                  0.002404\n",
            "41) Insurance_History_9            0.002315\n",
            "42) InsuredInfo_5                  0.002286\n",
            "43) Insurance_History_3            0.002080\n",
            "44) Medical_History_18             0.001975\n",
            "45) Medical_History_29             0.001973\n",
            "46) Employment_Info_5              0.001962\n",
            "47) Medical_Keyword_38             0.001947\n",
            "48) Medical_History_41             0.001820\n",
            "49) Medical_History_3              0.001746\n",
            "50) Medical_Keyword_42             0.001744\n"
          ],
          "name": "stdout"
        }
      ]
    },
    {
      "cell_type": "code",
      "metadata": {
        "id": "_wr2INqQum7o",
        "colab_type": "code",
        "outputId": "ef135d7e-f75e-4943-8986-f95cf0636529",
        "colab": {
          "base_uri": "https://localhost:8080/",
          "height": 533
        }
      },
      "source": [
        "import matplotlib.pyplot as plt\n",
        "plt.rcParams['figure.figsize'] = (50, 8)\n",
        "_ = xgb.plot_importance(models[0], importance_type='total_gain',max_num_features=50)"
      ],
      "execution_count": 22,
      "outputs": [
        {
          "output_type": "display_data",
          "data": {
            "image/png": "[encoded data removed]",
            "text/plain": [
              "<Figure size 3600x576 with 1 Axes>"
            ]
          },
          "metadata": {
            "tags": []
          }
        }
      ]
    },
    {
      "cell_type": "code",
      "metadata": {
        "id": "daBdx4OJwBJr",
        "colab_type": "code",
        "colab": {}
      },
      "source": [
        "# xgb_importance1=pd.DataFrame({'importance':models[0].feature_importances_,'var':data.columns})\n",
        "feature_importance = [[],[],[],[]]\n",
        "for i in range(4):\n",
        "  xgb_importance = models[i].get_booster().get_score(importance_type=\"total_gain\")\n",
        "  xgb_importance = sorted(xgb_importance.items(),key=lambda item:item[-1],reverse=True)\n",
        "  for item in xgb_importance:\n",
        "    feature_importance[i].append(item[0])\n",
        "  feature_importance[i] = feature_importance[i][:40]"
      ],
      "execution_count": 0,
      "outputs": []
    },
    {
      "cell_type": "code",
      "metadata": {
        "id": "TBJ8MVxg2hQF",
        "colab_type": "code",
        "outputId": "99863401-6fb8-427f-9059-c4a11b1c4b54",
        "colab": {
          "base_uri": "https://localhost:8080/",
          "height": 71
        }
      },
      "source": [
        "important_features = [x for x in feature_importance[0] if (x in feature_importance[1])and(x in feature_importance[2])and(x in feature_importance[3]and(x in rf_important_features))]\n",
        "# important_features = [x for x in feature_importance[0] if (x in feature_importance[1])and(x in feature_importance[2])and(x in feature_importance[3])]\n",
        "print(important_features)\n",
        "print(len(important_features),'features')"
      ],
      "execution_count": 47,
      "outputs": [
        {
          "output_type": "stream",
          "text": [
            "['BMI', 'Product_Info_4', 'Medical_History_4', 'Ins_Age', 'Wt', 'Medical_History_23', 'Medical_Keyword_3', 'Medical_Keyword_15', 'Product_Info_2', 'Employment_Info_1', 'Family_Hist_3', 'Medical_History_1', 'Family_Hist_4', 'Employment_Info_6', 'Medical_History_2', 'Family_Hist_2', 'Employment_Info_2', 'Medical_History_30', 'Female', 'InsuredInfo_3', 'Medical_History_40', 'Medical_History_13', 'Medical_History_39', 'Medical_History_28', 'Insurance_History_2', 'Family_Hist_1', 'InsuredInfo_5', 'InsuredInfo_6', 'InsuredInfo_2', 'Medical_History_18', 'InsuredInfo_1', 'Product_Info_3', 'Insurance_History_8', 'Medical_History_33', 'Medical_Keyword_23']\n",
            "35 features\n"
          ],
          "name": "stdout"
        }
      ]
    },
    {
      "cell_type": "markdown",
      "metadata": {
        "id": "pilRaVfdDD-_",
        "colab_type": "text"
      },
      "source": [
        "#### Run XGBoost and Random Forest again using new set of features"
      ]
    },
    {
      "cell_type": "code",
      "metadata": {
        "id": "dIy6cebsAYdK",
        "colab_type": "code",
        "outputId": "9cdac884-75d5-4724-d913-20f1b256cb54",
        "colab": {
          "base_uri": "https://localhost:8080/",
          "height": 51
        }
      },
      "source": [
        "# here we can also use grid search to find the best hyperparameters to tune the model\n",
        "from sklearn.ensemble import RandomForestClassifier\n",
        "clf_rf = RandomForestClassifier(max_depth=10,n_estimators=800)\n",
        "clf_rf.fit(X_train[important_features],y_train)\n",
        "print('validation set presicion:',clf_rf.score(X_validation[important_features],y_validation))\n",
        "print('training set precision:',clf_rf.score(X_train[important_features],y_train))"
      ],
      "execution_count": 48,
      "outputs": [
        {
          "output_type": "stream",
          "text": [
            "validation set presicion: 0.5217489805165383\n",
            "training set precision: 0.5798016951863105\n"
          ],
          "name": "stdout"
        }
      ]
    },
    {
      "cell_type": "code",
      "metadata": {
        "id": "-q0Xej-IBQt3",
        "colab_type": "code",
        "outputId": "91fa4cf6-b1c1-4707-995d-12815b689171",
        "colab": {
          "base_uri": "https://localhost:8080/",
          "height": 748
        }
      },
      "source": [
        "from xgboost import XGBClassifier\n",
        "from xgboost import plot_importance\n",
        "from sklearn.model_selection import KFold, StratifiedKFold\n",
        "import xgboost as xgb\n",
        "from tqdm import tqdm\n",
        "folds = 4\n",
        "seed = 0\n",
        "kf = StratifiedKFold(n_splits=folds, shuffle=True, random_state=seed)\n",
        "models2 = []\n",
        "for tr_idx, val_idx in tqdm(kf.split(X_train[important_features],y_train)):\n",
        "    def fit_classifier(tr_idx, val_idx):\n",
        "        tr_x, tr_y = X_train[important_features][list(X_train[important_features])].iloc[tr_idx], y_train[tr_idx]\n",
        "        vl_x, vl_y = X_train[important_features][list(X_train[important_features])].iloc[val_idx], y_train[val_idx]\n",
        "        print({'train size':len(tr_x), 'eval size':len(vl_x)})\n",
        "\n",
        "        tr_data = xgb.DMatrix(tr_x, label=tr_y)\n",
        "        vl_data = xgb.DMatrix(vl_x, label=vl_y)  \n",
        "        xgb.XGBClassifier()\n",
        "        clf = xgb.XGBClassifier(n_estimators=1000,\n",
        "                                learning_rate=0.01,\n",
        "                                feature_fraction=1,\n",
        "                                max_depth = 10,\n",
        "                                subsample=0.25,  \n",
        "                                subsample_freq=1, \n",
        "                                lambda_l2=0.8,\n",
        "                                num_leaves=30,\n",
        "                                tree_method = 'gpu_hist',\n",
        "                                metric='mse')\n",
        "        clf.fit(tr_x, tr_y,\n",
        "                eval_set=[(tr_x, tr_y),(vl_x, vl_y)],\n",
        "                early_stopping_rounds=150,\n",
        "                verbose=250)\n",
        "        return clf\n",
        "    clf = fit_classifier(tr_idx, val_idx)\n",
        "    models2.append(clf)"
      ],
      "execution_count": 49,
      "outputs": [
        {
          "output_type": "stream",
          "text": [
            "\r0it [00:00, ?it/s]"
          ],
          "name": "stderr"
        },
        {
          "output_type": "stream",
          "text": [
            "{'train size': 37518, 'eval size': 12506}\n",
            "[0]\tvalidation_0-merror:0.466789\tvalidation_1-merror:0.512234\n",
            "Multiple eval metrics have been passed: 'validation_1-merror' will be used for early stopping.\n",
            "\n",
            "Will train until validation_1-merror hasn't improved in 150 rounds.\n",
            "[250]\tvalidation_0-merror:0.360547\tvalidation_1-merror:0.466816\n",
            "[500]\tvalidation_0-merror:0.317261\tvalidation_1-merror:0.465776\n",
            "Stopping. Best iteration:\n",
            "[527]\tvalidation_0-merror:0.31233\tvalidation_1-merror:0.464417\n",
            "\n"
          ],
          "name": "stdout"
        },
        {
          "output_type": "stream",
          "text": [
            "\r1it [01:25, 85.11s/it]"
          ],
          "name": "stderr"
        },
        {
          "output_type": "stream",
          "text": [
            "{'train size': 37518, 'eval size': 12506}\n",
            "[0]\tvalidation_0-merror:0.468708\tvalidation_1-merror:0.510235\n",
            "Multiple eval metrics have been passed: 'validation_1-merror' will be used for early stopping.\n",
            "\n",
            "Will train until validation_1-merror hasn't improved in 150 rounds.\n",
            "[250]\tvalidation_0-merror:0.363026\tvalidation_1-merror:0.459459\n",
            "[500]\tvalidation_0-merror:0.319447\tvalidation_1-merror:0.45786\n",
            "[750]\tvalidation_0-merror:0.273975\tvalidation_1-merror:0.456181\n",
            "Stopping. Best iteration:\n",
            "[656]\tvalidation_0-merror:0.290554\tvalidation_1-merror:0.454262\n",
            "\n"
          ],
          "name": "stdout"
        },
        {
          "output_type": "stream",
          "text": [
            "\r2it [03:05, 89.71s/it]"
          ],
          "name": "stderr"
        },
        {
          "output_type": "stream",
          "text": [
            "{'train size': 37518, 'eval size': 12506}\n",
            "[0]\tvalidation_0-merror:0.473746\tvalidation_1-merror:0.509515\n",
            "Multiple eval metrics have been passed: 'validation_1-merror' will be used for early stopping.\n",
            "\n",
            "Will train until validation_1-merror hasn't improved in 150 rounds.\n",
            "[250]\tvalidation_0-merror:0.362573\tvalidation_1-merror:0.45794\n",
            "[500]\tvalidation_0-merror:0.318114\tvalidation_1-merror:0.454582\n",
            "Stopping. Best iteration:\n",
            "[552]\tvalidation_0-merror:0.309372\tvalidation_1-merror:0.453382\n",
            "\n"
          ],
          "name": "stdout"
        },
        {
          "output_type": "stream",
          "text": [
            "\r3it [04:33, 89.17s/it]"
          ],
          "name": "stderr"
        },
        {
          "output_type": "stream",
          "text": [
            "{'train size': 37518, 'eval size': 12506}\n",
            "[0]\tvalidation_0-merror:0.471827\tvalidation_1-merror:0.507356\n",
            "Multiple eval metrics have been passed: 'validation_1-merror' will be used for early stopping.\n",
            "\n",
            "Will train until validation_1-merror hasn't improved in 150 rounds.\n",
            "[250]\tvalidation_0-merror:0.363372\tvalidation_1-merror:0.456581\n",
            "[500]\tvalidation_0-merror:0.317528\tvalidation_1-merror:0.453862\n",
            "[750]\tvalidation_0-merror:0.273602\tvalidation_1-merror:0.450744\n",
            "Stopping. Best iteration:\n",
            "[702]\tvalidation_0-merror:0.281678\tvalidation_1-merror:0.449464\n",
            "\n"
          ],
          "name": "stdout"
        },
        {
          "output_type": "stream",
          "text": [
            "\r4it [06:20, 94.40s/it]\n"
          ],
          "name": "stderr"
        }
      ]
    },
    {
      "cell_type": "code",
      "metadata": {
        "id": "ToBzUpnbg0Qz",
        "colab_type": "code",
        "outputId": "4125da0e-f244-478d-df50-9bf8178af8a4",
        "colab": {
          "base_uri": "https://localhost:8080/",
          "height": 102
        }
      },
      "source": [
        "for i in range(4):\n",
        "  print('model'+str(i),models2[i].score(X_validation[important_features],y_validation))\n",
        "print('model'+str(5),clf_rf.score(X_validation[important_features],y_validation))"
      ],
      "execution_count": 50,
      "outputs": [
        {
          "output_type": "stream",
          "text": [
            "model0 0.5478024467603081\n",
            "model1 0.5441776166742184\n",
            "model2 0.5451971001359311\n",
            "model3 0.5464431354780245\n",
            "model5 0.5217489805165383\n"
          ],
          "name": "stdout"
        }
      ]
    },
    {
      "cell_type": "code",
      "metadata": {
        "id": "bQHQDaHLX_9L",
        "colab_type": "code",
        "outputId": "41b48d7b-955e-4856-aca0-439eb6721e11",
        "colab": {
          "base_uri": "https://localhost:8080/",
          "height": 34
        }
      },
      "source": [
        "res_preds = []\n",
        "for i in range(4):\n",
        "  res_preds.append(models2[i].predict(X_validation[important_features]))\n",
        "res_preds.append(clf_rf.predict(X_validation[important_features]))\n",
        "res = []\n",
        "for i in range(len(y_validation)):\n",
        "  res_temp = []\n",
        "  for j in range(5): \n",
        "    res_temp.append(res_preds[j][i])\n",
        "  res.append(np.argmax(np.bincount(res_temp)))\n",
        "print('test set precision hard voting:',accuracy_score(y_validation, res))"
      ],
      "execution_count": 51,
      "outputs": [
        {
          "output_type": "stream",
          "text": [
            "test set precision hard voting: 0.5464431354780245\n"
          ],
          "name": "stdout"
        }
      ]
    },
    {
      "cell_type": "code",
      "metadata": {
        "id": "_fzpk3xUC4vQ",
        "colab_type": "code",
        "outputId": "c6e065e2-c0d0-4c7e-d7e2-12a5dac10080",
        "colab": {
          "base_uri": "https://localhost:8080/",
          "height": 34
        }
      },
      "source": [
        "res_preds = []\n",
        "for i in range(4):\n",
        "  res_preds.append(models2[i].predict(X_validation[important_features]))\n",
        "res = []\n",
        "for i in range(len(y_validation)):\n",
        "  res_temp = []\n",
        "  for j in range(4): \n",
        "    res_temp.append(res_preds[j][i])\n",
        "  res.append(np.argmax(np.bincount(res_temp)))\n",
        "print('test set precision hard voting:',accuracy_score(y_validation, res))"
      ],
      "execution_count": 52,
      "outputs": [
        {
          "output_type": "stream",
          "text": [
            "test set precision hard voting: 0.5479157227004984\n"
          ],
          "name": "stdout"
        }
      ]
    },
    {
      "cell_type": "code",
      "metadata": {
        "id": "tqF3aUh3yiuj",
        "colab_type": "code",
        "outputId": "a033eead-51d8-4a4d-f0c0-e7dc00d74040",
        "colab": {
          "base_uri": "https://localhost:8080/",
          "height": 272
        }
      },
      "source": [
        "from sklearn.metrics import classification_report as cr\n",
        "print(cr(y_validation,res))"
      ],
      "execution_count": 54,
      "outputs": [
        {
          "output_type": "stream",
          "text": [
            "              precision    recall  f1-score   support\n",
            "\n",
            "           1       0.45      0.28      0.34       923\n",
            "           2       0.47      0.26      0.34       974\n",
            "           3       0.44      0.05      0.08       151\n",
            "           4       0.33      0.17      0.22       213\n",
            "           5       0.56      0.50      0.53       808\n",
            "           6       0.44      0.52      0.48      1670\n",
            "           7       0.45      0.39      0.42      1192\n",
            "           8       0.66      0.88      0.75      2897\n",
            "\n",
            "    accuracy                           0.55      8828\n",
            "   macro avg       0.47      0.38      0.40      8828\n",
            "weighted avg       0.53      0.55      0.52      8828\n",
            "\n"
          ],
          "name": "stdout"
        }
      ]
    },
    {
      "cell_type": "markdown",
      "metadata": {
        "id": "aqayBWAzoQao",
        "colab_type": "text"
      },
      "source": [
        "# According to the results, hard voting by 5 models has the top accuracy: 54.7%\n"
      ]
    },
    {
      "cell_type": "markdown",
      "metadata": {
        "id": "pDwJb_AbLLux",
        "colab_type": "text"
      },
      "source": [
        "### It's time to dig into the important features and the same features in test set (prediction set)"
      ]
    },
    {
      "cell_type": "code",
      "metadata": {
        "id": "QWBL6-dyLcoE",
        "colab_type": "code",
        "colab": {
          "base_uri": "https://localhost:8080/",
          "height": 34
        },
        "outputId": "b8357be8-2cb9-4ad1-d6c8-75874157c421"
      },
      "source": [
        "X_test = pd.read_csv('predict.csv')\n",
        "X_test.head(5)\n",
        "print(X_test.shape)"
      ],
      "execution_count": 249,
      "outputs": [
        {
          "output_type": "stream",
          "text": [
            "(500, 128)\n"
          ],
          "name": "stdout"
        }
      ]
    },
    {
      "cell_type": "code",
      "metadata": {
        "id": "v3U5vP5Dt4O1",
        "colab_type": "code",
        "colab": {
          "base_uri": "https://localhost:8080/",
          "height": 34
        },
        "outputId": "01b43b47-0c8d-43bd-cc1d-61c1c8b894c1"
      },
      "source": [
        "import gc\n",
        "del X_test['Medical_History_10'],X_test['Medical_History_32'],X_test['Medical_History_24'],X_test['InsuredInfo_8'],X_test['Medical_History_15'],X_test['InsuredInfo_9'],X_test['Family_Hist_5']\n",
        "X_test = X_test.join(pd.get_dummies(X_test['InsuredInfo_7']))\n",
        "del X_test['InsuredInfo_7']\n",
        "from sklearn.preprocessing import LabelEncoder\n",
        "le = LabelEncoder().fit(X_test['Product_Info_2'])\n",
        "X_test['Product_Info_2'] = le.transform(X_test['Product_Info_2'])\n",
        "missing_features = pd.DataFrame(X_test.dtypes,columns=['dtypes'])\n",
        "missing_features = missing_features.reset_index()\n",
        "missing_features['Name'] = missing_features['index']\n",
        "del missing_features['index']\n",
        "missing_features.reset_index(drop=True,inplace=True)\n",
        "missing_features = missing_features[X_test.isnull().sum().values!=0]\n",
        "X_test.fillna(X_test.mean()[missing_features.Name],inplace=True)\n",
        "gc.collect()"
      ],
      "execution_count": 250,
      "outputs": [
        {
          "output_type": "execute_result",
          "data": {
            "text/plain": [
              "72"
            ]
          },
          "metadata": {
            "tags": []
          },
          "execution_count": 250
        }
      ]
    },
    {
      "cell_type": "code",
      "metadata": {
        "id": "24pcH9fnu2Kn",
        "colab_type": "code",
        "colab": {
          "base_uri": "https://localhost:8080/",
          "height": 224
        },
        "outputId": "7dd684b6-51df-4955-ec81-e12614d2f9c4"
      },
      "source": [
        "X_test = X_test[important_features]\n",
        "X_test.reset_index(drop=True,inplace=True)\n",
        "X_test.head(5)"
      ],
      "execution_count": 251,
      "outputs": [
        {
          "output_type": "execute_result",
          "data": {
            "text/html": [
              "<div>\n",
              "<style scoped>\n",
              "    .dataframe tbody tr th:only-of-type {\n",
              "        vertical-align: middle;\n",
              "    }\n",
              "\n",
              "    .dataframe tbody tr th {\n",
              "        vertical-align: top;\n",
              "    }\n",
              "\n",
              "    .dataframe thead th {\n",
              "        text-align: right;\n",
              "    }\n",
              "</style>\n",
              "<table border=\"1\" class=\"dataframe\">\n",
              "  <thead>\n",
              "    <tr style=\"text-align: right;\">\n",
              "      <th></th>\n",
              "      <th>BMI</th>\n",
              "      <th>Product_Info_4</th>\n",
              "      <th>Medical_History_4</th>\n",
              "      <th>Ins_Age</th>\n",
              "      <th>Wt</th>\n",
              "      <th>Medical_History_23</th>\n",
              "      <th>Medical_Keyword_3</th>\n",
              "      <th>Medical_Keyword_15</th>\n",
              "      <th>Product_Info_2</th>\n",
              "      <th>Employment_Info_1</th>\n",
              "      <th>Family_Hist_3</th>\n",
              "      <th>Medical_History_1</th>\n",
              "      <th>Family_Hist_4</th>\n",
              "      <th>Employment_Info_6</th>\n",
              "      <th>Medical_History_2</th>\n",
              "      <th>Family_Hist_2</th>\n",
              "      <th>Employment_Info_2</th>\n",
              "      <th>Medical_History_30</th>\n",
              "      <th>Female</th>\n",
              "      <th>InsuredInfo_3</th>\n",
              "      <th>Medical_History_40</th>\n",
              "      <th>Medical_History_13</th>\n",
              "      <th>Medical_History_39</th>\n",
              "      <th>Medical_History_28</th>\n",
              "      <th>Insurance_History_2</th>\n",
              "      <th>Family_Hist_1</th>\n",
              "      <th>InsuredInfo_5</th>\n",
              "      <th>InsuredInfo_6</th>\n",
              "      <th>InsuredInfo_2</th>\n",
              "      <th>Medical_History_18</th>\n",
              "      <th>InsuredInfo_1</th>\n",
              "      <th>Product_Info_3</th>\n",
              "      <th>Insurance_History_8</th>\n",
              "      <th>Medical_History_33</th>\n",
              "      <th>Medical_Keyword_23</th>\n",
              "    </tr>\n",
              "  </thead>\n",
              "  <tbody>\n",
              "    <tr>\n",
              "      <th>0</th>\n",
              "      <td>0.569405</td>\n",
              "      <td>0.230769</td>\n",
              "      <td>2</td>\n",
              "      <td>0.358209</td>\n",
              "      <td>0.349372</td>\n",
              "      <td>1</td>\n",
              "      <td>0</td>\n",
              "      <td>1</td>\n",
              "      <td>14</td>\n",
              "      <td>0.075</td>\n",
              "      <td>0.484435</td>\n",
              "      <td>7.0</td>\n",
              "      <td>0.549296</td>\n",
              "      <td>0.400000</td>\n",
              "      <td>112</td>\n",
              "      <td>0.478261</td>\n",
              "      <td>9</td>\n",
              "      <td>2</td>\n",
              "      <td>0</td>\n",
              "      <td>8</td>\n",
              "      <td>3</td>\n",
              "      <td>3</td>\n",
              "      <td>3</td>\n",
              "      <td>1</td>\n",
              "      <td>1</td>\n",
              "      <td>2</td>\n",
              "      <td>1</td>\n",
              "      <td>1</td>\n",
              "      <td>2</td>\n",
              "      <td>1</td>\n",
              "      <td>2</td>\n",
              "      <td>26</td>\n",
              "      <td>2</td>\n",
              "      <td>3</td>\n",
              "      <td>0</td>\n",
              "    </tr>\n",
              "    <tr>\n",
              "      <th>1</th>\n",
              "      <td>0.881763</td>\n",
              "      <td>1.000000</td>\n",
              "      <td>2</td>\n",
              "      <td>0.104478</td>\n",
              "      <td>0.665272</td>\n",
              "      <td>3</td>\n",
              "      <td>0</td>\n",
              "      <td>0</td>\n",
              "      <td>14</td>\n",
              "      <td>0.075</td>\n",
              "      <td>0.484435</td>\n",
              "      <td>5.0</td>\n",
              "      <td>0.225352</td>\n",
              "      <td>0.040000</td>\n",
              "      <td>335</td>\n",
              "      <td>0.202899</td>\n",
              "      <td>9</td>\n",
              "      <td>2</td>\n",
              "      <td>0</td>\n",
              "      <td>8</td>\n",
              "      <td>3</td>\n",
              "      <td>3</td>\n",
              "      <td>3</td>\n",
              "      <td>1</td>\n",
              "      <td>1</td>\n",
              "      <td>3</td>\n",
              "      <td>1</td>\n",
              "      <td>1</td>\n",
              "      <td>2</td>\n",
              "      <td>1</td>\n",
              "      <td>1</td>\n",
              "      <td>26</td>\n",
              "      <td>2</td>\n",
              "      <td>3</td>\n",
              "      <td>0</td>\n",
              "    </tr>\n",
              "    <tr>\n",
              "      <th>2</th>\n",
              "      <td>0.315225</td>\n",
              "      <td>0.025641</td>\n",
              "      <td>1</td>\n",
              "      <td>0.686567</td>\n",
              "      <td>0.236402</td>\n",
              "      <td>3</td>\n",
              "      <td>0</td>\n",
              "      <td>0</td>\n",
              "      <td>5</td>\n",
              "      <td>0.087</td>\n",
              "      <td>0.578431</td>\n",
              "      <td>14.0</td>\n",
              "      <td>0.774648</td>\n",
              "      <td>0.380111</td>\n",
              "      <td>112</td>\n",
              "      <td>0.461316</td>\n",
              "      <td>14</td>\n",
              "      <td>2</td>\n",
              "      <td>0</td>\n",
              "      <td>2</td>\n",
              "      <td>3</td>\n",
              "      <td>3</td>\n",
              "      <td>3</td>\n",
              "      <td>1</td>\n",
              "      <td>1</td>\n",
              "      <td>3</td>\n",
              "      <td>1</td>\n",
              "      <td>1</td>\n",
              "      <td>2</td>\n",
              "      <td>2</td>\n",
              "      <td>1</td>\n",
              "      <td>26</td>\n",
              "      <td>1</td>\n",
              "      <td>3</td>\n",
              "      <td>0</td>\n",
              "    </tr>\n",
              "    <tr>\n",
              "      <th>3</th>\n",
              "      <td>0.540174</td>\n",
              "      <td>1.000000</td>\n",
              "      <td>1</td>\n",
              "      <td>0.328358</td>\n",
              "      <td>0.320084</td>\n",
              "      <td>1</td>\n",
              "      <td>0</td>\n",
              "      <td>1</td>\n",
              "      <td>13</td>\n",
              "      <td>0.075</td>\n",
              "      <td>0.484435</td>\n",
              "      <td>4.0</td>\n",
              "      <td>0.436620</td>\n",
              "      <td>0.500000</td>\n",
              "      <td>407</td>\n",
              "      <td>0.492754</td>\n",
              "      <td>9</td>\n",
              "      <td>3</td>\n",
              "      <td>0</td>\n",
              "      <td>6</td>\n",
              "      <td>3</td>\n",
              "      <td>3</td>\n",
              "      <td>3</td>\n",
              "      <td>1</td>\n",
              "      <td>1</td>\n",
              "      <td>3</td>\n",
              "      <td>1</td>\n",
              "      <td>1</td>\n",
              "      <td>2</td>\n",
              "      <td>1</td>\n",
              "      <td>1</td>\n",
              "      <td>26</td>\n",
              "      <td>2</td>\n",
              "      <td>3</td>\n",
              "      <td>0</td>\n",
              "    </tr>\n",
              "    <tr>\n",
              "      <th>4</th>\n",
              "      <td>0.468262</td>\n",
              "      <td>0.230769</td>\n",
              "      <td>2</td>\n",
              "      <td>0.611940</td>\n",
              "      <td>0.372385</td>\n",
              "      <td>3</td>\n",
              "      <td>0</td>\n",
              "      <td>0</td>\n",
              "      <td>11</td>\n",
              "      <td>0.105</td>\n",
              "      <td>0.372549</td>\n",
              "      <td>3.0</td>\n",
              "      <td>0.676056</td>\n",
              "      <td>0.350000</td>\n",
              "      <td>233</td>\n",
              "      <td>0.461316</td>\n",
              "      <td>14</td>\n",
              "      <td>2</td>\n",
              "      <td>0</td>\n",
              "      <td>3</td>\n",
              "      <td>3</td>\n",
              "      <td>1</td>\n",
              "      <td>3</td>\n",
              "      <td>1</td>\n",
              "      <td>1</td>\n",
              "      <td>2</td>\n",
              "      <td>1</td>\n",
              "      <td>1</td>\n",
              "      <td>2</td>\n",
              "      <td>1</td>\n",
              "      <td>1</td>\n",
              "      <td>26</td>\n",
              "      <td>1</td>\n",
              "      <td>3</td>\n",
              "      <td>0</td>\n",
              "    </tr>\n",
              "  </tbody>\n",
              "</table>\n",
              "</div>"
            ],
            "text/plain": [
              "        BMI  Product_Info_4  ...  Medical_History_33  Medical_Keyword_23\n",
              "0  0.569405        0.230769  ...                   3                   0\n",
              "1  0.881763        1.000000  ...                   3                   0\n",
              "2  0.315225        0.025641  ...                   3                   0\n",
              "3  0.540174        1.000000  ...                   3                   0\n",
              "4  0.468262        0.230769  ...                   3                   0\n",
              "\n",
              "[5 rows x 35 columns]"
            ]
          },
          "metadata": {
            "tags": []
          },
          "execution_count": 251
        }
      ]
    },
    {
      "cell_type": "code",
      "metadata": {
        "id": "5ODXOHwDvV5M",
        "colab_type": "code",
        "colab": {
          "base_uri": "https://localhost:8080/",
          "height": 445
        },
        "outputId": "1fc1a087-f088-40e4-8f74-24a4e271147b"
      },
      "source": [
        "plt.rcParams['figure.figsize'] = (7, 7)\n",
        "# Employment_Info_2\n",
        "plt.subplot(2,1,1)\n",
        "plt.scatter(x=data.index,y=data.Employment_Info_2,marker='.')\n",
        "plt.subplot(2,1,2)\n",
        "plt.scatter(x=X_test.index,y=X_test.Employment_Info_2,marker='.')"
      ],
      "execution_count": 101,
      "outputs": [
        {
          "output_type": "execute_result",
          "data": {
            "text/plain": [
              "<matplotlib.collections.PathCollection at 0x7efe692fb4e0>"
            ]
          },
          "metadata": {
            "tags": []
          },
          "execution_count": 101
        },
        {
          "output_type": "display_data",
          "data": {
            "image/png": "[encoded data removed]",
            "text/plain": [
              "<Figure size 504x504 with 2 Axes>"
            ]
          },
          "metadata": {
            "tags": []
          }
        }
      ]
    },
    {
      "cell_type": "code",
      "metadata": {
        "id": "mVYpgpazv0nw",
        "colab_type": "code",
        "colab": {
          "base_uri": "https://localhost:8080/",
          "height": 445
        },
        "outputId": "53e2a208-03ca-4ca8-d979-375b5036126f"
      },
      "source": [
        "# Medical_History_30\n",
        "plt.subplot(3,1,1)\n",
        "plt.scatter(x=data.index,y=data.Medical_History_30,marker='.')\n",
        "plt.subplot(3,1,2)\n",
        "plt.scatter(x=X_test.index,y=X_test.Medical_History_30,marker='.')\n",
        "plt.subplot(3,1,3)\n",
        "plt.scatter(x=y_data,y=data.Medical_History_30,marker='.')"
      ],
      "execution_count": 103,
      "outputs": [
        {
          "output_type": "execute_result",
          "data": {
            "text/plain": [
              "<matplotlib.collections.PathCollection at 0x7efe68fc9438>"
            ]
          },
          "metadata": {
            "tags": []
          },
          "execution_count": 103
        },
        {
          "output_type": "display_data",
          "data": {
            "image/png": "[encoded data removed]",
            "text/plain": [
              "<Figure size 504x504 with 3 Axes>"
            ]
          },
          "metadata": {
            "tags": []
          }
        }
      ]
    },
    {
      "cell_type": "code",
      "metadata": {
        "id": "aWfggoAKvbVV",
        "colab_type": "code",
        "colab": {
          "base_uri": "https://localhost:8080/",
          "height": 445
        },
        "outputId": "19bd88ec-cb80-46a5-c945-07c0484de90a"
      },
      "source": [
        "# InsuredInfo_3\n",
        "plt.subplot(3,1,1)\n",
        "plt.scatter(x=data.index,y=data.InsuredInfo_3,marker='.')\n",
        "plt.subplot(3,1,2)\n",
        "plt.scatter(x=X_test.index,y=X_test.InsuredInfo_3,marker='.')\n",
        "plt.subplot(3,1,3)\n",
        "plt.scatter(x=y_data,y=data.InsuredInfo_3,marker='.')"
      ],
      "execution_count": 104,
      "outputs": [
        {
          "output_type": "execute_result",
          "data": {
            "text/plain": [
              "<matplotlib.collections.PathCollection at 0x7efe68ecbd68>"
            ]
          },
          "metadata": {
            "tags": []
          },
          "execution_count": 104
        },
        {
          "output_type": "display_data",
          "data": {
            "image/png": "[encoded data removed]",
            "text/plain": [
              "<Figure size 504x504 with 3 Axes>"
            ]
          },
          "metadata": {
            "tags": []
          }
        }
      ]
    },
    {
      "cell_type": "code",
      "metadata": {
        "id": "bEsV_eKnwQ3u",
        "colab_type": "code",
        "colab": {
          "base_uri": "https://localhost:8080/",
          "height": 445
        },
        "outputId": "2b5aabac-6b3e-4013-db49-22f2552e2b2e"
      },
      "source": [
        "# Medical_History_40\n",
        "plt.subplot(3,1,1)\n",
        "plt.scatter(x=data.index,y=data.Medical_History_40,marker='.')\n",
        "plt.subplot(3,1,2)\n",
        "plt.scatter(x=X_test.index,y=X_test.Medical_History_40,marker='.')\n",
        "plt.subplot(3,1,3)\n",
        "plt.scatter(x=y_data,y=data.Medical_History_40,marker='.')"
      ],
      "execution_count": 105,
      "outputs": [
        {
          "output_type": "execute_result",
          "data": {
            "text/plain": [
              "<matplotlib.collections.PathCollection at 0x7efe68dd65c0>"
            ]
          },
          "metadata": {
            "tags": []
          },
          "execution_count": 105
        },
        {
          "output_type": "display_data",
          "data": {
            "image/png": "[encoded data removed]",
            "text/plain": [
              "<Figure size 504x504 with 3 Axes>"
            ]
          },
          "metadata": {
            "tags": []
          }
        }
      ]
    },
    {
      "cell_type": "code",
      "metadata": {
        "id": "ivWAYC7jwZHR",
        "colab_type": "code",
        "colab": {
          "base_uri": "https://localhost:8080/",
          "height": 445
        },
        "outputId": "17dbf708-0bf3-49eb-903d-ef4d6f48a617"
      },
      "source": [
        "# Medical_History_13\n",
        "plt.subplot(3,1,1)\n",
        "plt.scatter(x=data.index,y=data.Medical_History_13,marker='.')\n",
        "plt.subplot(3,1,2)\n",
        "plt.scatter(x=X_test.index,y=X_test.Medical_History_13,marker='.')\n",
        "plt.subplot(3,1,3)\n",
        "plt.scatter(x=y_data,y=data.Medical_History_13,marker='.')"
      ],
      "execution_count": 106,
      "outputs": [
        {
          "output_type": "execute_result",
          "data": {
            "text/plain": [
              "<matplotlib.collections.PathCollection at 0x7efe68ce4d68>"
            ]
          },
          "metadata": {
            "tags": []
          },
          "execution_count": 106
        },
        {
          "output_type": "display_data",
          "data": {
            "image/png": "[encoded data removed]",
            "text/plain": [
              "<Figure size 504x504 with 3 Axes>"
            ]
          },
          "metadata": {
            "tags": []
          }
        }
      ]
    },
    {
      "cell_type": "code",
      "metadata": {
        "id": "6sL8lDIHwbv0",
        "colab_type": "code",
        "colab": {
          "base_uri": "https://localhost:8080/",
          "height": 445
        },
        "outputId": "1a0ae597-e41f-4cbd-fce3-e811eef53e3a"
      },
      "source": [
        "# Medical_History_39\n",
        "plt.subplot(3,1,1)\n",
        "plt.scatter(x=data.index,y=data.Medical_History_39,marker='.')\n",
        "plt.subplot(3,1,2)\n",
        "plt.scatter(x=X_test.index,y=X_test.Medical_History_39,marker='.')\n",
        "plt.subplot(3,1,3)\n",
        "plt.scatter(x=y_data,y=data.Medical_History_39,marker='.')"
      ],
      "execution_count": 107,
      "outputs": [
        {
          "output_type": "execute_result",
          "data": {
            "text/plain": [
              "<matplotlib.collections.PathCollection at 0x7efe68b80470>"
            ]
          },
          "metadata": {
            "tags": []
          },
          "execution_count": 107
        },
        {
          "output_type": "display_data",
          "data": {
            "image/png": "[encoded data removed]",
            "text/plain": [
              "<Figure size 504x504 with 3 Axes>"
            ]
          },
          "metadata": {
            "tags": []
          }
        }
      ]
    },
    {
      "cell_type": "code",
      "metadata": {
        "id": "n2KLPe2ZwiNP",
        "colab_type": "code",
        "colab": {
          "base_uri": "https://localhost:8080/",
          "height": 445
        },
        "outputId": "a23d592c-4859-443e-959a-3370abbcc43c"
      },
      "source": [
        "# Medical_History_28\n",
        "plt.subplot(3,1,1)\n",
        "plt.scatter(x=data.index,y=data.Medical_History_28,marker='.')\n",
        "plt.subplot(3,1,2)\n",
        "plt.scatter(x=X_test.index,y=X_test.Medical_History_28,marker='.')\n",
        "plt.subplot(3,1,3)\n",
        "plt.scatter(x=y_data,y=data.Medical_History_28,marker='.')"
      ],
      "execution_count": 108,
      "outputs": [
        {
          "output_type": "execute_result",
          "data": {
            "text/plain": [
              "<matplotlib.collections.PathCollection at 0x7efe694551d0>"
            ]
          },
          "metadata": {
            "tags": []
          },
          "execution_count": 108
        },
        {
          "output_type": "display_data",
          "data": {
            "image/png": "[encoded data removed]",
            "text/plain": [
              "<Figure size 504x504 with 3 Axes>"
            ]
          },
          "metadata": {
            "tags": []
          }
        }
      ]
    },
    {
      "cell_type": "code",
      "metadata": {
        "id": "CJeaJJ8cxQNk",
        "colab_type": "code",
        "colab": {
          "base_uri": "https://localhost:8080/",
          "height": 445
        },
        "outputId": "e7c25d8d-6b8f-478f-b8b2-efb8e4f56470"
      },
      "source": [
        "# Medical_History_18\n",
        "plt.subplot(3,1,1)\n",
        "plt.scatter(x=data.index,y=data.Medical_History_18,marker='.')\n",
        "plt.subplot(3,1,2)\n",
        "plt.scatter(x=X_test.index,y=X_test.Medical_History_18,marker='.')\n",
        "plt.subplot(3,1,3)\n",
        "plt.scatter(x=y_data,y=data.Medical_History_18,marker='.')"
      ],
      "execution_count": 109,
      "outputs": [
        {
          "output_type": "execute_result",
          "data": {
            "text/plain": [
              "<matplotlib.collections.PathCollection at 0x7efe68a815c0>"
            ]
          },
          "metadata": {
            "tags": []
          },
          "execution_count": 109
        },
        {
          "output_type": "display_data",
          "data": {
            "image/png": "[encoded data removed]",
            "text/plain": [
              "<Figure size 504x504 with 3 Axes>"
            ]
          },
          "metadata": {
            "tags": []
          }
        }
      ]
    },
    {
      "cell_type": "markdown",
      "metadata": {
        "id": "nJEfFK-zxTCp",
        "colab_type": "text"
      },
      "source": [
        "### Delete outliers in training set and re-train the models"
      ]
    },
    {
      "cell_type": "code",
      "metadata": {
        "id": "VB0veRGCzvyc",
        "colab_type": "code",
        "colab": {
          "base_uri": "https://localhost:8080/",
          "height": 51
        },
        "outputId": "236761c8-f130-4945-ef2d-608dafb0ad88"
      },
      "source": [
        "print(data['InsuredInfo_3'].unique())\n",
        "print(X_test['InsuredInfo_3'].unique())"
      ],
      "execution_count": 133,
      "outputs": [
        {
          "output_type": "stream",
          "text": [
            "[ 3  8  4  6 11  2 10  7  5  1]\n",
            "[ 8  2  6  3 11  4 10  5  7  1]\n"
          ],
          "name": "stdout"
        }
      ]
    },
    {
      "cell_type": "code",
      "metadata": {
        "id": "4tkP_XFO2khI",
        "colab_type": "code",
        "colab": {}
      },
      "source": [
        "data = data[important_features]\n",
        "data['Response'] = y_data"
      ],
      "execution_count": 0,
      "outputs": []
    },
    {
      "cell_type": "code",
      "metadata": {
        "id": "QHB2DPpnyqYc",
        "colab_type": "code",
        "colab": {
          "base_uri": "https://localhost:8080/",
          "height": 34
        },
        "outputId": "f1694abb-7e78-46be-b1c4-93271eaf9689"
      },
      "source": [
        "data.drop(data[data['Medical_History_18']==3].index,axis=0,inplace=True)\n",
        "data.drop(data[data['Medical_History_28']==3].index,axis=0,inplace=True)\n",
        "data.drop(data[data['Medical_History_39']==2].index,axis=0,inplace=True)\n",
        "data.drop(data[data['Medical_History_13']==2].index,axis=0,inplace=True)\n",
        "data.drop(data[data['Medical_History_40']==2].index,axis=0,inplace=True)\n",
        "data.drop(data[data['Medical_History_30']==1].index,axis=0,inplace=True)\n",
        "data.drop(data[data['InsuredInfo_3']==9].index,axis=0,inplace=True)\n",
        "\n",
        "gc.collect()"
      ],
      "execution_count": 164,
      "outputs": [
        {
          "output_type": "execute_result",
          "data": {
            "text/plain": [
              "0"
            ]
          },
          "metadata": {
            "tags": []
          },
          "execution_count": 164
        }
      ]
    },
    {
      "cell_type": "code",
      "metadata": {
        "id": "2DRhfST82MRy",
        "colab_type": "code",
        "colab": {
          "base_uri": "https://localhost:8080/",
          "height": 34
        },
        "outputId": "88fbb2c6-d724-45cc-f324-1488a7cf6ad9"
      },
      "source": [
        "data.reset_index(drop=True,inplace=True)\n",
        "y_data = data['Response']\n",
        "del data['Response']\n",
        "gc.collect()"
      ],
      "execution_count": 169,
      "outputs": [
        {
          "output_type": "execute_result",
          "data": {
            "text/plain": [
              "195"
            ]
          },
          "metadata": {
            "tags": []
          },
          "execution_count": 169
        }
      ]
    },
    {
      "cell_type": "code",
      "metadata": {
        "id": "GqMOAZMm2Rp_",
        "colab_type": "code",
        "colab": {
          "base_uri": "https://localhost:8080/",
          "height": 51
        },
        "outputId": "e4a11424-e02d-4f42-e11f-10c366553e1e"
      },
      "source": [
        "from sklearn.model_selection import train_test_split\n",
        "X_train, X_validation, y_train, y_validation = train_test_split(data, y_data, \n",
        "                                                                test_size=0.15, stratify=y_data,random_state=0)\n",
        "print(X_train.shape)\n",
        "print(X_validation.shape)"
      ],
      "execution_count": 170,
      "outputs": [
        {
          "output_type": "stream",
          "text": [
            "(49997, 35)\n",
            "(8824, 35)\n"
          ],
          "name": "stdout"
        }
      ]
    },
    {
      "cell_type": "code",
      "metadata": {
        "id": "ea-Qea2r3PA7",
        "colab_type": "code",
        "colab": {
          "base_uri": "https://localhost:8080/",
          "height": 51
        },
        "outputId": "c0bc87cb-216e-4e75-b6a3-4eef91b5f86a"
      },
      "source": [
        "# here we can also use grid search to find the best hyperparameters to tune the model\n",
        "from sklearn.ensemble import RandomForestClassifier\n",
        "clf_rf = RandomForestClassifier(max_depth=10,n_estimators=800)\n",
        "clf_rf.fit(X_train,y_train)\n",
        "print('validation set presicion:',clf_rf.score(X_validation,y_validation))\n",
        "print('training set precision:',clf_rf.score(X_train,y_train))"
      ],
      "execution_count": 171,
      "outputs": [
        {
          "output_type": "stream",
          "text": [
            "validation set presicion: 0.5304850407978241\n",
            "training set precision: 0.5810348620917255\n"
          ],
          "name": "stdout"
        }
      ]
    },
    {
      "cell_type": "code",
      "metadata": {
        "id": "AIU-ZsrC3Q8a",
        "colab_type": "code",
        "colab": {
          "base_uri": "https://localhost:8080/",
          "height": 782
        },
        "outputId": "ca54e113-dbef-4fde-e29b-6ee714c0907c"
      },
      "source": [
        "X_train.reset_index(drop=True,inplace=True)\n",
        "X_validation.reset_index(drop=True,inplace=True)\n",
        "y_train.reset_index(drop=True,inplace=True)\n",
        "y_validation.reset_index(drop=True,inplace=True)\n",
        "from xgboost import XGBClassifier\n",
        "from xgboost import plot_importance\n",
        "from sklearn.model_selection import KFold, StratifiedKFold\n",
        "import xgboost as xgb\n",
        "from tqdm import tqdm\n",
        "folds = 4\n",
        "seed = 0\n",
        "kf = StratifiedKFold(n_splits=folds, shuffle=True, random_state=seed)\n",
        "models = []\n",
        "for tr_idx, val_idx in tqdm(kf.split(X_train,y_train)):\n",
        "    def fit_classifier(tr_idx, val_idx):\n",
        "        tr_x, tr_y = X_train[list(X_train)].iloc[tr_idx], y_train[tr_idx]\n",
        "        vl_x, vl_y = X_train[list(X_train)].iloc[val_idx], y_train[val_idx]\n",
        "        print({'train size':len(tr_x), 'eval size':len(vl_x)})\n",
        "\n",
        "        tr_data = xgb.DMatrix(tr_x, label=tr_y)\n",
        "        vl_data = xgb.DMatrix(vl_x, label=vl_y)  \n",
        "        clf = xgb.XGBClassifier(n_estimators=1000,\n",
        "                                learning_rate=0.01,\n",
        "                                feature_fraction=0.8,\n",
        "                                max_depth = 10,\n",
        "                                subsample=0.25,  \n",
        "                                subsample_freq=1, \n",
        "                                lambda_l2=0.8,\n",
        "                                num_leaves=30,\n",
        "                                tree_method = 'gpu_hist',\n",
        "                                metric='mse')\n",
        "        clf.fit(tr_x, tr_y,\n",
        "                eval_set=[(tr_x, tr_y),(vl_x, vl_y)],\n",
        "                early_stopping_rounds=150,\n",
        "                verbose=250)\n",
        "        return clf\n",
        "    clf = fit_classifier(tr_idx, val_idx)\n",
        "    models.append(clf)"
      ],
      "execution_count": 190,
      "outputs": [
        {
          "output_type": "stream",
          "text": [
            "\r0it [00:00, ?it/s]"
          ],
          "name": "stderr"
        },
        {
          "output_type": "stream",
          "text": [
            "{'train size': 37497, 'eval size': 12500}\n",
            "[0]\tvalidation_0-merror:0.474651\tvalidation_1-merror:0.51232\n",
            "Multiple eval metrics have been passed: 'validation_1-merror' will be used for early stopping.\n",
            "\n",
            "Will train until validation_1-merror hasn't improved in 150 rounds.\n",
            "[250]\tvalidation_0-merror:0.364829\tvalidation_1-merror:0.46064\n",
            "[500]\tvalidation_0-merror:0.319866\tvalidation_1-merror:0.45376\n",
            "[750]\tvalidation_0-merror:0.274742\tvalidation_1-merror:0.45456\n",
            "Stopping. Best iteration:\n",
            "[601]\tvalidation_0-merror:0.301864\tvalidation_1-merror:0.45256\n",
            "\n"
          ],
          "name": "stdout"
        },
        {
          "output_type": "stream",
          "text": [
            "\r1it [01:35, 95.81s/it]"
          ],
          "name": "stderr"
        },
        {
          "output_type": "stream",
          "text": [
            "{'train size': 37498, 'eval size': 12499}\n",
            "[0]\tvalidation_0-merror:0.466105\tvalidation_1-merror:0.513081\n",
            "Multiple eval metrics have been passed: 'validation_1-merror' will be used for early stopping.\n",
            "\n",
            "Will train until validation_1-merror hasn't improved in 150 rounds.\n",
            "[250]\tvalidation_0-merror:0.362153\tvalidation_1-merror:0.464437\n",
            "[500]\tvalidation_0-merror:0.318924\tvalidation_1-merror:0.459397\n",
            "[750]\tvalidation_0-merror:0.273081\tvalidation_1-merror:0.456837\n",
            "Stopping. Best iteration:\n",
            "[701]\tvalidation_0-merror:0.282735\tvalidation_1-merror:0.456196\n",
            "\n"
          ],
          "name": "stdout"
        },
        {
          "output_type": "stream",
          "text": [
            "\r2it [03:24, 99.69s/it]"
          ],
          "name": "stderr"
        },
        {
          "output_type": "stream",
          "text": [
            "{'train size': 37498, 'eval size': 12499}\n",
            "[0]\tvalidation_0-merror:0.468905\tvalidation_1-merror:0.511641\n",
            "Multiple eval metrics have been passed: 'validation_1-merror' will be used for early stopping.\n",
            "\n",
            "Will train until validation_1-merror hasn't improved in 150 rounds.\n",
            "[250]\tvalidation_0-merror:0.359966\tvalidation_1-merror:0.460277\n",
            "[500]\tvalidation_0-merror:0.316497\tvalidation_1-merror:0.457237\n",
            "[750]\tvalidation_0-merror:0.272041\tvalidation_1-merror:0.458277\n",
            "Stopping. Best iteration:\n",
            "[624]\tvalidation_0-merror:0.294949\tvalidation_1-merror:0.455636\n",
            "\n"
          ],
          "name": "stdout"
        },
        {
          "output_type": "stream",
          "text": [
            "\r3it [05:03, 99.34s/it]"
          ],
          "name": "stderr"
        },
        {
          "output_type": "stream",
          "text": [
            "{'train size': 37498, 'eval size': 12499}\n",
            "[0]\tvalidation_0-merror:0.471198\tvalidation_1-merror:0.508601\n",
            "Multiple eval metrics have been passed: 'validation_1-merror' will be used for early stopping.\n",
            "\n",
            "Will train until validation_1-merror hasn't improved in 150 rounds.\n",
            "[250]\tvalidation_0-merror:0.362979\tvalidation_1-merror:0.461557\n",
            "[500]\tvalidation_0-merror:0.31959\tvalidation_1-merror:0.458437\n",
            "[750]\tvalidation_0-merror:0.273188\tvalidation_1-merror:0.454356\n",
            "Stopping. Best iteration:\n",
            "[844]\tvalidation_0-merror:0.2566\tvalidation_1-merror:0.452356\n",
            "\n"
          ],
          "name": "stdout"
        },
        {
          "output_type": "stream",
          "text": [
            "\r4it [07:10, 107.63s/it]\n"
          ],
          "name": "stderr"
        }
      ]
    },
    {
      "cell_type": "code",
      "metadata": {
        "id": "T4YncyTn5f5q",
        "colab_type": "code",
        "colab": {
          "base_uri": "https://localhost:8080/",
          "height": 102
        },
        "outputId": "022ca0c6-4033-4c5e-db6e-a4bb00dc1ef0"
      },
      "source": [
        "for i in range(4):\n",
        "  print('model'+str(i),models[i].score(X_validation,y_validation))\n",
        "print('model'+str(5),clf_rf.score(X_validation,y_validation))"
      ],
      "execution_count": 191,
      "outputs": [
        {
          "output_type": "stream",
          "text": [
            "model0 0.550090661831369\n",
            "model1 0.5523572076155938\n",
            "model2 0.5534904805077062\n",
            "model3 0.554283771532185\n",
            "model5 0.5304850407978241\n"
          ],
          "name": "stdout"
        }
      ]
    },
    {
      "cell_type": "code",
      "metadata": {
        "id": "2M9h4zTp5zIy",
        "colab_type": "code",
        "colab": {
          "base_uri": "https://localhost:8080/",
          "height": 51
        },
        "outputId": "3f6e709c-7cf9-43ae-b9da-1827a3d0d696"
      },
      "source": [
        "res_preds = []\n",
        "for i in range(4):\n",
        "  res_preds.append(models[i].predict(X_validation))\n",
        "res_preds.append(clf_rf.predict(X_validation))\n",
        "res = []\n",
        "for i in range(len(y_validation)):\n",
        "  res_temp = []\n",
        "  for j in range(5): \n",
        "    res_temp.append(res_preds[j][i])\n",
        "  res.append(np.argmax(np.bincount(res_temp)))\n",
        "print('test set precision hard voting:',accuracy_score(y_validation, res))\n",
        "\n",
        "res_preds = []\n",
        "for i in range(3):\n",
        "  res_preds.append(models[i+1].predict(X_validation))\n",
        "# res_preds.append(clf_rf.predict(X_validation))\n",
        "res = []\n",
        "for i in range(len(y_validation)):\n",
        "  res_temp = []\n",
        "  for j in range(3): \n",
        "    res_temp.append(res_preds[j][i])\n",
        "  res.append(np.argmax(np.bincount(res_temp)))\n",
        "print('test set precision hard voting:',accuracy_score(y_validation, res))"
      ],
      "execution_count": 252,
      "outputs": [
        {
          "output_type": "stream",
          "text": [
            "test set precision hard voting: 0.5540571169537625\n",
            "test set precision hard voting: 0.5546237533998187\n"
          ],
          "name": "stdout"
        }
      ]
    },
    {
      "cell_type": "code",
      "metadata": {
        "id": "Nbabk0no_X9C",
        "colab_type": "code",
        "colab": {}
      },
      "source": [
        "res_preds = []\n",
        "for i in range(3):\n",
        "  res_preds.append(models[i+1].predict(X_test))\n",
        "\n",
        "res = []\n",
        "for i in range(len(X_test)):\n",
        "  res_temp = []\n",
        "  for j in range(3): \n",
        "    res_temp.append(res_preds[j][i])\n",
        "  res.append(np.argmax(np.bincount(res_temp)))"
      ],
      "execution_count": 0,
      "outputs": []
    },
    {
      "cell_type": "code",
      "metadata": {
        "id": "h58eTq4x_rr3",
        "colab_type": "code",
        "colab": {
          "base_uri": "https://localhost:8080/",
          "height": 34
        },
        "outputId": "0a37c9c2-5ca0-46ca-c0e9-a49e74279932"
      },
      "source": [
        "pred = pd.DataFrame(res)\n",
        "pred.rename(columns={0:\"Response\"},inplace=True)\n",
        "print(pred.shape)"
      ],
      "execution_count": 254,
      "outputs": [
        {
          "output_type": "stream",
          "text": [
            "(500, 1)\n"
          ],
          "name": "stdout"
        }
      ]
    },
    {
      "cell_type": "code",
      "metadata": {
        "id": "hYDwPg5nElqj",
        "colab_type": "code",
        "colab": {
          "base_uri": "https://localhost:8080/",
          "height": 204
        },
        "outputId": "28092c8c-e579-419f-b70e-8aefa5dbcf06"
      },
      "source": [
        "pred.head(5)"
      ],
      "execution_count": 255,
      "outputs": [
        {
          "output_type": "execute_result",
          "data": {
            "text/html": [
              "<div>\n",
              "<style scoped>\n",
              "    .dataframe tbody tr th:only-of-type {\n",
              "        vertical-align: middle;\n",
              "    }\n",
              "\n",
              "    .dataframe tbody tr th {\n",
              "        vertical-align: top;\n",
              "    }\n",
              "\n",
              "    .dataframe thead th {\n",
              "        text-align: right;\n",
              "    }\n",
              "</style>\n",
              "<table border=\"1\" class=\"dataframe\">\n",
              "  <thead>\n",
              "    <tr style=\"text-align: right;\">\n",
              "      <th></th>\n",
              "      <th>Response</th>\n",
              "    </tr>\n",
              "  </thead>\n",
              "  <tbody>\n",
              "    <tr>\n",
              "      <th>0</th>\n",
              "      <td>6</td>\n",
              "    </tr>\n",
              "    <tr>\n",
              "      <th>1</th>\n",
              "      <td>2</td>\n",
              "    </tr>\n",
              "    <tr>\n",
              "      <th>2</th>\n",
              "      <td>5</td>\n",
              "    </tr>\n",
              "    <tr>\n",
              "      <th>3</th>\n",
              "      <td>6</td>\n",
              "    </tr>\n",
              "    <tr>\n",
              "      <th>4</th>\n",
              "      <td>8</td>\n",
              "    </tr>\n",
              "  </tbody>\n",
              "</table>\n",
              "</div>"
            ],
            "text/plain": [
              "   Response\n",
              "0         6\n",
              "1         2\n",
              "2         5\n",
              "3         6\n",
              "4         8"
            ]
          },
          "metadata": {
            "tags": []
          },
          "execution_count": 255
        }
      ]
    }
  ]
}