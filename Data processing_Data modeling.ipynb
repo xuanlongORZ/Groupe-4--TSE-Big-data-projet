{
 "cells": [
  {
   "cell_type": "code",
   "execution_count": 1,
   "metadata": {},
   "outputs": [],
   "source": [
    "import numpy as np\n",
    "import pandas as pd"
   ]
  },
  {
   "cell_type": "code",
   "execution_count": 2,
   "metadata": {
    "scrolled": false
   },
   "outputs": [
    {
     "name": "stdout",
     "output_type": "stream",
     "text": [
      "(58881, 129)\n"
     ]
    },
    {
     "data": {
      "text/html": [
       "<div>\n",
       "<style scoped>\n",
       "    .dataframe tbody tr th:only-of-type {\n",
       "        vertical-align: middle;\n",
       "    }\n",
       "\n",
       "    .dataframe tbody tr th {\n",
       "        vertical-align: top;\n",
       "    }\n",
       "\n",
       "    .dataframe thead th {\n",
       "        text-align: right;\n",
       "    }\n",
       "</style>\n",
       "<table border=\"1\" class=\"dataframe\">\n",
       "  <thead>\n",
       "    <tr style=\"text-align: right;\">\n",
       "      <th></th>\n",
       "      <th>Product_Info_1</th>\n",
       "      <th>Product_Info_2</th>\n",
       "      <th>Product_Info_3</th>\n",
       "      <th>Product_Info_4</th>\n",
       "      <th>Product_Info_5</th>\n",
       "      <th>Product_Info_6</th>\n",
       "      <th>Product_Info_7</th>\n",
       "      <th>Ins_Age</th>\n",
       "      <th>Ht</th>\n",
       "      <th>Wt</th>\n",
       "      <th>...</th>\n",
       "      <th>Medical_Keyword_40</th>\n",
       "      <th>Medical_Keyword_41</th>\n",
       "      <th>Medical_Keyword_42</th>\n",
       "      <th>Medical_Keyword_43</th>\n",
       "      <th>Medical_Keyword_44</th>\n",
       "      <th>Medical_Keyword_45</th>\n",
       "      <th>Medical_Keyword_46</th>\n",
       "      <th>Medical_Keyword_47</th>\n",
       "      <th>Medical_Keyword_48</th>\n",
       "      <th>Response</th>\n",
       "    </tr>\n",
       "  </thead>\n",
       "  <tbody>\n",
       "    <tr>\n",
       "      <th>0</th>\n",
       "      <td>1</td>\n",
       "      <td>A8</td>\n",
       "      <td>26</td>\n",
       "      <td>0.230769</td>\n",
       "      <td>2</td>\n",
       "      <td>3</td>\n",
       "      <td>1</td>\n",
       "      <td>0.492537</td>\n",
       "      <td>0.563636</td>\n",
       "      <td>0.225941</td>\n",
       "      <td>...</td>\n",
       "      <td>0</td>\n",
       "      <td>0</td>\n",
       "      <td>0</td>\n",
       "      <td>0</td>\n",
       "      <td>0</td>\n",
       "      <td>0</td>\n",
       "      <td>0</td>\n",
       "      <td>0</td>\n",
       "      <td>0</td>\n",
       "      <td>7</td>\n",
       "    </tr>\n",
       "    <tr>\n",
       "      <th>1</th>\n",
       "      <td>1</td>\n",
       "      <td>D2</td>\n",
       "      <td>26</td>\n",
       "      <td>1.000000</td>\n",
       "      <td>3</td>\n",
       "      <td>3</td>\n",
       "      <td>1</td>\n",
       "      <td>0.671642</td>\n",
       "      <td>0.781818</td>\n",
       "      <td>0.326360</td>\n",
       "      <td>...</td>\n",
       "      <td>0</td>\n",
       "      <td>0</td>\n",
       "      <td>0</td>\n",
       "      <td>0</td>\n",
       "      <td>0</td>\n",
       "      <td>0</td>\n",
       "      <td>0</td>\n",
       "      <td>0</td>\n",
       "      <td>0</td>\n",
       "      <td>6</td>\n",
       "    </tr>\n",
       "    <tr>\n",
       "      <th>2</th>\n",
       "      <td>1</td>\n",
       "      <td>D2</td>\n",
       "      <td>26</td>\n",
       "      <td>0.230769</td>\n",
       "      <td>2</td>\n",
       "      <td>3</td>\n",
       "      <td>1</td>\n",
       "      <td>0.626866</td>\n",
       "      <td>0.745455</td>\n",
       "      <td>0.393305</td>\n",
       "      <td>...</td>\n",
       "      <td>0</td>\n",
       "      <td>0</td>\n",
       "      <td>0</td>\n",
       "      <td>0</td>\n",
       "      <td>0</td>\n",
       "      <td>0</td>\n",
       "      <td>0</td>\n",
       "      <td>0</td>\n",
       "      <td>0</td>\n",
       "      <td>1</td>\n",
       "    </tr>\n",
       "    <tr>\n",
       "      <th>3</th>\n",
       "      <td>1</td>\n",
       "      <td>D4</td>\n",
       "      <td>26</td>\n",
       "      <td>0.230769</td>\n",
       "      <td>2</td>\n",
       "      <td>3</td>\n",
       "      <td>1</td>\n",
       "      <td>0.268657</td>\n",
       "      <td>0.690909</td>\n",
       "      <td>0.246862</td>\n",
       "      <td>...</td>\n",
       "      <td>0</td>\n",
       "      <td>0</td>\n",
       "      <td>0</td>\n",
       "      <td>0</td>\n",
       "      <td>0</td>\n",
       "      <td>0</td>\n",
       "      <td>0</td>\n",
       "      <td>0</td>\n",
       "      <td>0</td>\n",
       "      <td>4</td>\n",
       "    </tr>\n",
       "    <tr>\n",
       "      <th>4</th>\n",
       "      <td>1</td>\n",
       "      <td>E1</td>\n",
       "      <td>10</td>\n",
       "      <td>0.230769</td>\n",
       "      <td>2</td>\n",
       "      <td>3</td>\n",
       "      <td>1</td>\n",
       "      <td>0.641791</td>\n",
       "      <td>0.581818</td>\n",
       "      <td>0.466527</td>\n",
       "      <td>...</td>\n",
       "      <td>0</td>\n",
       "      <td>0</td>\n",
       "      <td>1</td>\n",
       "      <td>0</td>\n",
       "      <td>0</td>\n",
       "      <td>0</td>\n",
       "      <td>1</td>\n",
       "      <td>0</td>\n",
       "      <td>0</td>\n",
       "      <td>2</td>\n",
       "    </tr>\n",
       "  </tbody>\n",
       "</table>\n",
       "<p>5 rows × 129 columns</p>\n",
       "</div>"
      ],
      "text/plain": [
       "   Product_Info_1 Product_Info_2  Product_Info_3  Product_Info_4  \\\n",
       "0               1             A8              26        0.230769   \n",
       "1               1             D2              26        1.000000   \n",
       "2               1             D2              26        0.230769   \n",
       "3               1             D4              26        0.230769   \n",
       "4               1             E1              10        0.230769   \n",
       "\n",
       "   Product_Info_5  Product_Info_6  Product_Info_7   Ins_Age        Ht  \\\n",
       "0               2               3               1  0.492537  0.563636   \n",
       "1               3               3               1  0.671642  0.781818   \n",
       "2               2               3               1  0.626866  0.745455   \n",
       "3               2               3               1  0.268657  0.690909   \n",
       "4               2               3               1  0.641791  0.581818   \n",
       "\n",
       "         Wt  ...  Medical_Keyword_40  Medical_Keyword_41  Medical_Keyword_42  \\\n",
       "0  0.225941  ...                   0                   0                   0   \n",
       "1  0.326360  ...                   0                   0                   0   \n",
       "2  0.393305  ...                   0                   0                   0   \n",
       "3  0.246862  ...                   0                   0                   0   \n",
       "4  0.466527  ...                   0                   0                   1   \n",
       "\n",
       "   Medical_Keyword_43  Medical_Keyword_44  Medical_Keyword_45  \\\n",
       "0                   0                   0                   0   \n",
       "1                   0                   0                   0   \n",
       "2                   0                   0                   0   \n",
       "3                   0                   0                   0   \n",
       "4                   0                   0                   0   \n",
       "\n",
       "   Medical_Keyword_46  Medical_Keyword_47  Medical_Keyword_48  Response  \n",
       "0                   0                   0                   0         7  \n",
       "1                   0                   0                   0         6  \n",
       "2                   0                   0                   0         1  \n",
       "3                   0                   0                   0         4  \n",
       "4                   1                   0                   0         2  \n",
       "\n",
       "[5 rows x 129 columns]"
      ]
     },
     "execution_count": 2,
     "metadata": {},
     "output_type": "execute_result"
    }
   ],
   "source": [
    "X_train = pd.read_csv('input/train.csv')\n",
    "(nb_sample,nb_feature) = X_train.shape\n",
    "print(X_train.shape)\n",
    "X_train.head(5)"
   ]
  },
  {
   "cell_type": "markdown",
   "metadata": {},
   "source": [
    "### Plan:\n",
    "##### a. According to EDA, we decide to preprocess our raw training and test data as following steps:\n",
    "    1. Delete samples with 14 and 15 missing featrues;\n",
    "    2. Delete directly the features that have more than 70% missing values;\n",
    "    3. Encode object-type data;\n",
    "    4. Fill missing values by mean for other features;\n",
    "    5. See variance again and delete top5 features with the lowest variance;\n",
    "    6. See correlation again to delete top5 features with the lowest correlation to the target;\n",
    "##### b.  Set up a XGBoost model to see the performance and then select important features in using feature importance fonction.\n",
    "    1. We deceide to use 3-fold crossing validation to reduce uncertainty and aviod overfitting;\n",
    "    2. Select different number of improtant features to test model performance;\n",
    "##### c.  Chosse the best features and do preprocessing (only step 1 and 4)\n",
    "##### d. Predict results in using 3 models trained from 3-fold CV and then do a voting"
   ]
  },
  {
   "cell_type": "markdown",
   "metadata": {},
   "source": [
    "### Data Preprocessing:"
   ]
  },
  {
   "cell_type": "markdown",
   "metadata": {},
   "source": [
    "##### delete samples with 14 and 15 missing featrues"
   ]
  },
  {
   "cell_type": "code",
   "execution_count": 3,
   "metadata": {},
   "outputs": [
    {
     "name": "stdout",
     "output_type": "stream",
     "text": [
      "totally delete:  29 samples\n"
     ]
    },
    {
     "data": {
      "text/html": [
       "<div>\n",
       "<style scoped>\n",
       "    .dataframe tbody tr th:only-of-type {\n",
       "        vertical-align: middle;\n",
       "    }\n",
       "\n",
       "    .dataframe tbody tr th {\n",
       "        vertical-align: top;\n",
       "    }\n",
       "\n",
       "    .dataframe thead th {\n",
       "        text-align: right;\n",
       "    }\n",
       "</style>\n",
       "<table border=\"1\" class=\"dataframe\">\n",
       "  <thead>\n",
       "    <tr style=\"text-align: right;\">\n",
       "      <th></th>\n",
       "      <th>Product_Info_1</th>\n",
       "      <th>Product_Info_2</th>\n",
       "      <th>Product_Info_3</th>\n",
       "      <th>Product_Info_4</th>\n",
       "      <th>Product_Info_5</th>\n",
       "      <th>Product_Info_6</th>\n",
       "      <th>Product_Info_7</th>\n",
       "      <th>Ins_Age</th>\n",
       "      <th>Ht</th>\n",
       "      <th>Wt</th>\n",
       "      <th>...</th>\n",
       "      <th>Medical_Keyword_40</th>\n",
       "      <th>Medical_Keyword_41</th>\n",
       "      <th>Medical_Keyword_42</th>\n",
       "      <th>Medical_Keyword_43</th>\n",
       "      <th>Medical_Keyword_44</th>\n",
       "      <th>Medical_Keyword_45</th>\n",
       "      <th>Medical_Keyword_46</th>\n",
       "      <th>Medical_Keyword_47</th>\n",
       "      <th>Medical_Keyword_48</th>\n",
       "      <th>Response</th>\n",
       "    </tr>\n",
       "  </thead>\n",
       "  <tbody>\n",
       "    <tr>\n",
       "      <th>0</th>\n",
       "      <td>1</td>\n",
       "      <td>A8</td>\n",
       "      <td>26</td>\n",
       "      <td>0.230769</td>\n",
       "      <td>2</td>\n",
       "      <td>3</td>\n",
       "      <td>1</td>\n",
       "      <td>0.492537</td>\n",
       "      <td>0.563636</td>\n",
       "      <td>0.225941</td>\n",
       "      <td>...</td>\n",
       "      <td>0</td>\n",
       "      <td>0</td>\n",
       "      <td>0</td>\n",
       "      <td>0</td>\n",
       "      <td>0</td>\n",
       "      <td>0</td>\n",
       "      <td>0</td>\n",
       "      <td>0</td>\n",
       "      <td>0</td>\n",
       "      <td>7</td>\n",
       "    </tr>\n",
       "    <tr>\n",
       "      <th>1</th>\n",
       "      <td>1</td>\n",
       "      <td>D2</td>\n",
       "      <td>26</td>\n",
       "      <td>1.000000</td>\n",
       "      <td>3</td>\n",
       "      <td>3</td>\n",
       "      <td>1</td>\n",
       "      <td>0.671642</td>\n",
       "      <td>0.781818</td>\n",
       "      <td>0.326360</td>\n",
       "      <td>...</td>\n",
       "      <td>0</td>\n",
       "      <td>0</td>\n",
       "      <td>0</td>\n",
       "      <td>0</td>\n",
       "      <td>0</td>\n",
       "      <td>0</td>\n",
       "      <td>0</td>\n",
       "      <td>0</td>\n",
       "      <td>0</td>\n",
       "      <td>6</td>\n",
       "    </tr>\n",
       "    <tr>\n",
       "      <th>2</th>\n",
       "      <td>1</td>\n",
       "      <td>D2</td>\n",
       "      <td>26</td>\n",
       "      <td>0.230769</td>\n",
       "      <td>2</td>\n",
       "      <td>3</td>\n",
       "      <td>1</td>\n",
       "      <td>0.626866</td>\n",
       "      <td>0.745455</td>\n",
       "      <td>0.393305</td>\n",
       "      <td>...</td>\n",
       "      <td>0</td>\n",
       "      <td>0</td>\n",
       "      <td>0</td>\n",
       "      <td>0</td>\n",
       "      <td>0</td>\n",
       "      <td>0</td>\n",
       "      <td>0</td>\n",
       "      <td>0</td>\n",
       "      <td>0</td>\n",
       "      <td>1</td>\n",
       "    </tr>\n",
       "    <tr>\n",
       "      <th>3</th>\n",
       "      <td>1</td>\n",
       "      <td>D4</td>\n",
       "      <td>26</td>\n",
       "      <td>0.230769</td>\n",
       "      <td>2</td>\n",
       "      <td>3</td>\n",
       "      <td>1</td>\n",
       "      <td>0.268657</td>\n",
       "      <td>0.690909</td>\n",
       "      <td>0.246862</td>\n",
       "      <td>...</td>\n",
       "      <td>0</td>\n",
       "      <td>0</td>\n",
       "      <td>0</td>\n",
       "      <td>0</td>\n",
       "      <td>0</td>\n",
       "      <td>0</td>\n",
       "      <td>0</td>\n",
       "      <td>0</td>\n",
       "      <td>0</td>\n",
       "      <td>4</td>\n",
       "    </tr>\n",
       "    <tr>\n",
       "      <th>4</th>\n",
       "      <td>1</td>\n",
       "      <td>E1</td>\n",
       "      <td>10</td>\n",
       "      <td>0.230769</td>\n",
       "      <td>2</td>\n",
       "      <td>3</td>\n",
       "      <td>1</td>\n",
       "      <td>0.641791</td>\n",
       "      <td>0.581818</td>\n",
       "      <td>0.466527</td>\n",
       "      <td>...</td>\n",
       "      <td>0</td>\n",
       "      <td>0</td>\n",
       "      <td>1</td>\n",
       "      <td>0</td>\n",
       "      <td>0</td>\n",
       "      <td>0</td>\n",
       "      <td>1</td>\n",
       "      <td>0</td>\n",
       "      <td>0</td>\n",
       "      <td>2</td>\n",
       "    </tr>\n",
       "  </tbody>\n",
       "</table>\n",
       "<p>5 rows × 129 columns</p>\n",
       "</div>"
      ],
      "text/plain": [
       "   Product_Info_1 Product_Info_2  Product_Info_3  Product_Info_4  \\\n",
       "0               1             A8              26        0.230769   \n",
       "1               1             D2              26        1.000000   \n",
       "2               1             D2              26        0.230769   \n",
       "3               1             D4              26        0.230769   \n",
       "4               1             E1              10        0.230769   \n",
       "\n",
       "   Product_Info_5  Product_Info_6  Product_Info_7   Ins_Age        Ht  \\\n",
       "0               2               3               1  0.492537  0.563636   \n",
       "1               3               3               1  0.671642  0.781818   \n",
       "2               2               3               1  0.626866  0.745455   \n",
       "3               2               3               1  0.268657  0.690909   \n",
       "4               2               3               1  0.641791  0.581818   \n",
       "\n",
       "         Wt  ...  Medical_Keyword_40  Medical_Keyword_41  Medical_Keyword_42  \\\n",
       "0  0.225941  ...                   0                   0                   0   \n",
       "1  0.326360  ...                   0                   0                   0   \n",
       "2  0.393305  ...                   0                   0                   0   \n",
       "3  0.246862  ...                   0                   0                   0   \n",
       "4  0.466527  ...                   0                   0                   1   \n",
       "\n",
       "   Medical_Keyword_43  Medical_Keyword_44  Medical_Keyword_45  \\\n",
       "0                   0                   0                   0   \n",
       "1                   0                   0                   0   \n",
       "2                   0                   0                   0   \n",
       "3                   0                   0                   0   \n",
       "4                   0                   0                   0   \n",
       "\n",
       "   Medical_Keyword_46  Medical_Keyword_47  Medical_Keyword_48  Response  \n",
       "0                   0                   0                   0         7  \n",
       "1                   0                   0                   0         6  \n",
       "2                   0                   0                   0         1  \n",
       "3                   0                   0                   0         4  \n",
       "4                   1                   0                   0         2  \n",
       "\n",
       "[5 rows x 129 columns]"
      ]
     },
     "execution_count": 3,
     "metadata": {},
     "output_type": "execute_result"
    }
   ],
   "source": [
    "nb_delete_1415 = 0\n",
    "for i in range(nb_sample):\n",
    "    if i < (nb_sample-nb_delete_1415):\n",
    "        nb_missing = X_train.iloc[i,:].isnull().sum()\n",
    "        if nb_missing >= 13:\n",
    "            X_train.drop(index=[i],inplace=True)\n",
    "            nb_delete_1415+=1\n",
    "    else:\n",
    "        break\n",
    "print('totally delete: ',nb_delete_1415, 'samples')\n",
    "X_train.reset_index(drop = True,inplace = True)\n",
    "X_train.head(5)"
   ]
  },
  {
   "cell_type": "markdown",
   "metadata": {},
   "source": [
    "##### delete directly the features that have more than 70% missing values"
   ]
  },
  {
   "cell_type": "code",
   "execution_count": 4,
   "metadata": {},
   "outputs": [
    {
     "data": {
      "text/plain": [
       "20"
      ]
     },
     "execution_count": 4,
     "metadata": {},
     "output_type": "execute_result"
    }
   ],
   "source": [
    "# According to EDA, we will delete the features: \n",
    "#Medical_History_10,Medical_History_32,Medical_History_24,InsuredInfo_8,Medical_History_15,InsuredInfo_9,Family_Hist_5 \n",
    "import gc\n",
    "del X_train['Medical_History_10'],X_train['Medical_History_32'],X_train['Medical_History_24'],X_train['InsuredInfo_8'],X_train['Medical_History_15'],X_train['InsuredInfo_9'],X_train['Family_Hist_5']\n",
    "gc.collect()"
   ]
  },
  {
   "cell_type": "markdown",
   "metadata": {},
   "source": [
    "##### encode object-type data"
   ]
  },
  {
   "cell_type": "code",
   "execution_count": 5,
   "metadata": {},
   "outputs": [
    {
     "name": "stdout",
     "output_type": "stream",
     "text": [
      "Index(['Product_Info_2', 'InsuredInfo_7'], dtype='object')\n",
      "['A8' 'D2' 'D4' 'E1' 'A3' 'A6' 'B2' 'D1' 'D3' 'A2' 'A1' 'C4' 'B1' 'A5'\n",
      " 'C3' 'C1' 'A7' 'A4' 'C2']\n",
      "['Female' 'Male']\n"
     ]
    }
   ],
   "source": [
    "print(X_train[X_train.columns[(X_train.dtypes == 'object')==True]].columns)\n",
    "print(X_train['Product_Info_2'].unique())\n",
    "print(X_train['InsuredInfo_7'].unique())"
   ]
  },
  {
   "cell_type": "code",
   "execution_count": 6,
   "metadata": {},
   "outputs": [
    {
     "data": {
      "text/html": [
       "<div>\n",
       "<style scoped>\n",
       "    .dataframe tbody tr th:only-of-type {\n",
       "        vertical-align: middle;\n",
       "    }\n",
       "\n",
       "    .dataframe tbody tr th {\n",
       "        vertical-align: top;\n",
       "    }\n",
       "\n",
       "    .dataframe thead th {\n",
       "        text-align: right;\n",
       "    }\n",
       "</style>\n",
       "<table border=\"1\" class=\"dataframe\">\n",
       "  <thead>\n",
       "    <tr style=\"text-align: right;\">\n",
       "      <th></th>\n",
       "      <th>Product_Info_1</th>\n",
       "      <th>Product_Info_2</th>\n",
       "      <th>Product_Info_3</th>\n",
       "      <th>Product_Info_4</th>\n",
       "      <th>Product_Info_5</th>\n",
       "      <th>Product_Info_6</th>\n",
       "      <th>Product_Info_7</th>\n",
       "      <th>Ins_Age</th>\n",
       "      <th>Ht</th>\n",
       "      <th>Wt</th>\n",
       "      <th>...</th>\n",
       "      <th>Medical_Keyword_42</th>\n",
       "      <th>Medical_Keyword_43</th>\n",
       "      <th>Medical_Keyword_44</th>\n",
       "      <th>Medical_Keyword_45</th>\n",
       "      <th>Medical_Keyword_46</th>\n",
       "      <th>Medical_Keyword_47</th>\n",
       "      <th>Medical_Keyword_48</th>\n",
       "      <th>Response</th>\n",
       "      <th>Female</th>\n",
       "      <th>Male</th>\n",
       "    </tr>\n",
       "  </thead>\n",
       "  <tbody>\n",
       "    <tr>\n",
       "      <th>0</th>\n",
       "      <td>1</td>\n",
       "      <td>7</td>\n",
       "      <td>26</td>\n",
       "      <td>0.230769</td>\n",
       "      <td>2</td>\n",
       "      <td>3</td>\n",
       "      <td>1</td>\n",
       "      <td>0.492537</td>\n",
       "      <td>0.563636</td>\n",
       "      <td>0.225941</td>\n",
       "      <td>...</td>\n",
       "      <td>0</td>\n",
       "      <td>0</td>\n",
       "      <td>0</td>\n",
       "      <td>0</td>\n",
       "      <td>0</td>\n",
       "      <td>0</td>\n",
       "      <td>0</td>\n",
       "      <td>7</td>\n",
       "      <td>1</td>\n",
       "      <td>0</td>\n",
       "    </tr>\n",
       "    <tr>\n",
       "      <th>1</th>\n",
       "      <td>1</td>\n",
       "      <td>15</td>\n",
       "      <td>26</td>\n",
       "      <td>1.000000</td>\n",
       "      <td>3</td>\n",
       "      <td>3</td>\n",
       "      <td>1</td>\n",
       "      <td>0.671642</td>\n",
       "      <td>0.781818</td>\n",
       "      <td>0.326360</td>\n",
       "      <td>...</td>\n",
       "      <td>0</td>\n",
       "      <td>0</td>\n",
       "      <td>0</td>\n",
       "      <td>0</td>\n",
       "      <td>0</td>\n",
       "      <td>0</td>\n",
       "      <td>0</td>\n",
       "      <td>6</td>\n",
       "      <td>0</td>\n",
       "      <td>1</td>\n",
       "    </tr>\n",
       "    <tr>\n",
       "      <th>2</th>\n",
       "      <td>1</td>\n",
       "      <td>15</td>\n",
       "      <td>26</td>\n",
       "      <td>0.230769</td>\n",
       "      <td>2</td>\n",
       "      <td>3</td>\n",
       "      <td>1</td>\n",
       "      <td>0.626866</td>\n",
       "      <td>0.745455</td>\n",
       "      <td>0.393305</td>\n",
       "      <td>...</td>\n",
       "      <td>0</td>\n",
       "      <td>0</td>\n",
       "      <td>0</td>\n",
       "      <td>0</td>\n",
       "      <td>0</td>\n",
       "      <td>0</td>\n",
       "      <td>0</td>\n",
       "      <td>1</td>\n",
       "      <td>0</td>\n",
       "      <td>1</td>\n",
       "    </tr>\n",
       "    <tr>\n",
       "      <th>3</th>\n",
       "      <td>1</td>\n",
       "      <td>17</td>\n",
       "      <td>26</td>\n",
       "      <td>0.230769</td>\n",
       "      <td>2</td>\n",
       "      <td>3</td>\n",
       "      <td>1</td>\n",
       "      <td>0.268657</td>\n",
       "      <td>0.690909</td>\n",
       "      <td>0.246862</td>\n",
       "      <td>...</td>\n",
       "      <td>0</td>\n",
       "      <td>0</td>\n",
       "      <td>0</td>\n",
       "      <td>0</td>\n",
       "      <td>0</td>\n",
       "      <td>0</td>\n",
       "      <td>0</td>\n",
       "      <td>4</td>\n",
       "      <td>1</td>\n",
       "      <td>0</td>\n",
       "    </tr>\n",
       "    <tr>\n",
       "      <th>4</th>\n",
       "      <td>1</td>\n",
       "      <td>18</td>\n",
       "      <td>10</td>\n",
       "      <td>0.230769</td>\n",
       "      <td>2</td>\n",
       "      <td>3</td>\n",
       "      <td>1</td>\n",
       "      <td>0.641791</td>\n",
       "      <td>0.581818</td>\n",
       "      <td>0.466527</td>\n",
       "      <td>...</td>\n",
       "      <td>1</td>\n",
       "      <td>0</td>\n",
       "      <td>0</td>\n",
       "      <td>0</td>\n",
       "      <td>1</td>\n",
       "      <td>0</td>\n",
       "      <td>0</td>\n",
       "      <td>2</td>\n",
       "      <td>1</td>\n",
       "      <td>0</td>\n",
       "    </tr>\n",
       "  </tbody>\n",
       "</table>\n",
       "<p>5 rows × 123 columns</p>\n",
       "</div>"
      ],
      "text/plain": [
       "   Product_Info_1  Product_Info_2  Product_Info_3  Product_Info_4  \\\n",
       "0               1               7              26        0.230769   \n",
       "1               1              15              26        1.000000   \n",
       "2               1              15              26        0.230769   \n",
       "3               1              17              26        0.230769   \n",
       "4               1              18              10        0.230769   \n",
       "\n",
       "   Product_Info_5  Product_Info_6  Product_Info_7   Ins_Age        Ht  \\\n",
       "0               2               3               1  0.492537  0.563636   \n",
       "1               3               3               1  0.671642  0.781818   \n",
       "2               2               3               1  0.626866  0.745455   \n",
       "3               2               3               1  0.268657  0.690909   \n",
       "4               2               3               1  0.641791  0.581818   \n",
       "\n",
       "         Wt  ...  Medical_Keyword_42  Medical_Keyword_43  Medical_Keyword_44  \\\n",
       "0  0.225941  ...                   0                   0                   0   \n",
       "1  0.326360  ...                   0                   0                   0   \n",
       "2  0.393305  ...                   0                   0                   0   \n",
       "3  0.246862  ...                   0                   0                   0   \n",
       "4  0.466527  ...                   1                   0                   0   \n",
       "\n",
       "   Medical_Keyword_45  Medical_Keyword_46  Medical_Keyword_47  \\\n",
       "0                   0                   0                   0   \n",
       "1                   0                   0                   0   \n",
       "2                   0                   0                   0   \n",
       "3                   0                   0                   0   \n",
       "4                   0                   1                   0   \n",
       "\n",
       "   Medical_Keyword_48  Response  Female  Male  \n",
       "0                   0         7       1     0  \n",
       "1                   0         6       0     1  \n",
       "2                   0         1       0     1  \n",
       "3                   0         4       1     0  \n",
       "4                   0         2       1     0  \n",
       "\n",
       "[5 rows x 123 columns]"
      ]
     },
     "execution_count": 6,
     "metadata": {},
     "output_type": "execute_result"
    }
   ],
   "source": [
    "# As we can see above, we decide to:\n",
    "# onehot encoding: InsuredInfo_7; label encoding: Product_Info_2\n",
    "X_train = X_train.join(pd.get_dummies(X_train['InsuredInfo_7']))\n",
    "del X_train['InsuredInfo_7']\n",
    "from sklearn.preprocessing import LabelEncoder\n",
    "le = LabelEncoder().fit(X_train['Product_Info_2'])\n",
    "X_train['Product_Info_2'] = le.transform(X_train['Product_Info_2'])\n",
    "X_train.head(5)"
   ]
  },
  {
   "cell_type": "markdown",
   "metadata": {},
   "source": [
    "##### Fill missing values by mean for other features;"
   ]
  },
  {
   "cell_type": "code",
   "execution_count": 7,
   "metadata": {
    "scrolled": true
   },
   "outputs": [
    {
     "data": {
      "text/html": [
       "<div>\n",
       "<style scoped>\n",
       "    .dataframe tbody tr th:only-of-type {\n",
       "        vertical-align: middle;\n",
       "    }\n",
       "\n",
       "    .dataframe tbody tr th {\n",
       "        vertical-align: top;\n",
       "    }\n",
       "\n",
       "    .dataframe thead th {\n",
       "        text-align: right;\n",
       "    }\n",
       "</style>\n",
       "<table border=\"1\" class=\"dataframe\">\n",
       "  <thead>\n",
       "    <tr style=\"text-align: right;\">\n",
       "      <th></th>\n",
       "      <th>dtypes</th>\n",
       "      <th>Name</th>\n",
       "    </tr>\n",
       "  </thead>\n",
       "  <tbody>\n",
       "    <tr>\n",
       "      <th>11</th>\n",
       "      <td>float64</td>\n",
       "      <td>Employment_Info_1</td>\n",
       "    </tr>\n",
       "    <tr>\n",
       "      <th>14</th>\n",
       "      <td>float64</td>\n",
       "      <td>Employment_Info_4</td>\n",
       "    </tr>\n",
       "    <tr>\n",
       "      <th>16</th>\n",
       "      <td>float64</td>\n",
       "      <td>Employment_Info_6</td>\n",
       "    </tr>\n",
       "    <tr>\n",
       "      <th>27</th>\n",
       "      <td>float64</td>\n",
       "      <td>Insurance_History_5</td>\n",
       "    </tr>\n",
       "    <tr>\n",
       "      <th>32</th>\n",
       "      <td>float64</td>\n",
       "      <td>Family_Hist_2</td>\n",
       "    </tr>\n",
       "    <tr>\n",
       "      <th>33</th>\n",
       "      <td>float64</td>\n",
       "      <td>Family_Hist_3</td>\n",
       "    </tr>\n",
       "    <tr>\n",
       "      <th>34</th>\n",
       "      <td>float64</td>\n",
       "      <td>Family_Hist_4</td>\n",
       "    </tr>\n",
       "    <tr>\n",
       "      <th>35</th>\n",
       "      <td>float64</td>\n",
       "      <td>Medical_History_1</td>\n",
       "    </tr>\n",
       "  </tbody>\n",
       "</table>\n",
       "</div>"
      ],
      "text/plain": [
       "     dtypes                 Name\n",
       "11  float64    Employment_Info_1\n",
       "14  float64    Employment_Info_4\n",
       "16  float64    Employment_Info_6\n",
       "27  float64  Insurance_History_5\n",
       "32  float64        Family_Hist_2\n",
       "33  float64        Family_Hist_3\n",
       "34  float64        Family_Hist_4\n",
       "35  float64    Medical_History_1"
      ]
     },
     "execution_count": 7,
     "metadata": {},
     "output_type": "execute_result"
    }
   ],
   "source": [
    "missing_features = pd.DataFrame(X_train.dtypes,columns=['dtypes'])\n",
    "missing_features = missing_features.reset_index()\n",
    "missing_features['Name'] = missing_features['index']\n",
    "del missing_features['index']\n",
    "missing_features.reset_index(drop=True,inplace=True)\n",
    "missing_features = missing_features[X_train.isnull().sum().values!=0]\n",
    "missing_features"
   ]
  },
  {
   "cell_type": "code",
   "execution_count": 8,
   "metadata": {},
   "outputs": [
    {
     "name": "stdout",
     "output_type": "stream",
     "text": [
      "now we have  0  missing value\n"
     ]
    }
   ],
   "source": [
    "# as they are all float data, we can then fill them by mean directly\n",
    "X_train.fillna(X_train.mean()[missing_features.Name],inplace=True)\n",
    "print('now we have ',X_train.isnull().sum().values.sum(),' missing value')"
   ]
  },
  {
   "cell_type": "markdown",
   "metadata": {},
   "source": [
    "##### See variance again and delete top5 features with the lowest variance"
   ]
  },
  {
   "cell_type": "code",
   "execution_count": 9,
   "metadata": {
    "scrolled": true
   },
   "outputs": [
    {
     "name": "stdout",
     "output_type": "stream",
     "text": [
      "Insurance_History_5    0.000031\n",
      "Employment_Info_4      0.000960\n",
      "Medical_History_35     0.004108\n",
      "Medical_History_38     0.004819\n",
      "Ht                     0.005513\n",
      "dtype: float64\n"
     ]
    },
    {
     "data": {
      "text/plain": [
       "60"
      ]
     },
     "execution_count": 9,
     "metadata": {},
     "output_type": "execute_result"
    }
   ],
   "source": [
    "tabel_var = X_train[X_train.columns].var().sort_values(ascending=True)\n",
    "tabel_var = tabel_var.head(5)\n",
    "print(tabel_var)\n",
    "tabel_var.reset_index()\n",
    "for column in tabel_var.index.tolist():\n",
    "    del X_train[column]\n",
    "gc.collect()"
   ]
  },
  {
   "cell_type": "markdown",
   "metadata": {},
   "source": [
    "##### See correlation again to delete top5 features with the lowest correlation to the targe"
   ]
  },
  {
   "cell_type": "code",
   "execution_count": 10,
   "metadata": {},
   "outputs": [
    {
     "name": "stdout",
     "output_type": "stream",
     "text": [
      "                     Response\n",
      "Insurance_History_4  0.000594\n",
      "Medical_History_25   0.000598\n",
      "Medical_History_36   0.000748\n",
      "Medical_History_26   0.000777\n",
      "Insurance_History_1  0.000885\n"
     ]
    },
    {
     "data": {
      "text/plain": [
       "20"
      ]
     },
     "execution_count": 10,
     "metadata": {},
     "output_type": "execute_result"
    }
   ],
   "source": [
    "X_temp = X_train\n",
    "# X_temp['Response'] = y_train\n",
    "X_temp = X_temp.corr()\n",
    "tabel_corr = abs(X_temp[['Response']]).sort_values(by=['Response'],ascending=True)\n",
    "tabel_corr = tabel_corr.head(5)\n",
    "print(tabel_corr)\n",
    "tabel_corr.reset_index()\n",
    "for column in tabel_corr.index.tolist():\n",
    "    del X_train[column]\n",
    "del X_temp\n",
    "gc.collect()"
   ]
  },
  {
   "cell_type": "code",
   "execution_count": 11,
   "metadata": {},
   "outputs": [
    {
     "name": "stdout",
     "output_type": "stream",
     "text": [
      "(58852, 113)\n"
     ]
    },
    {
     "data": {
      "text/plain": [
       "20"
      ]
     },
     "execution_count": 11,
     "metadata": {},
     "output_type": "execute_result"
    }
   ],
   "source": [
    "print(X_train.shape)\n",
    "y_train = X_train['Response']\n",
    "del X_train['Response']\n",
    "gc.collect()"
   ]
  },
  {
   "cell_type": "markdown",
   "metadata": {},
   "source": [
    "##### Same operations on  test set"
   ]
  },
  {
   "cell_type": "code",
   "execution_count": 12,
   "metadata": {},
   "outputs": [
    {
     "name": "stdout",
     "output_type": "stream",
     "text": [
      "test set shape: (500, 112)\n"
     ]
    },
    {
     "data": {
      "text/plain": [
       "0"
      ]
     },
     "execution_count": 12,
     "metadata": {},
     "output_type": "execute_result"
    }
   ],
   "source": [
    "X_test = pd.read_csv('input/predict.csv')\n",
    "del X_test['Medical_History_10'],X_test['Medical_History_32'],X_test['Medical_History_24'],X_test['InsuredInfo_8'],X_test['Medical_History_15'],X_test['InsuredInfo_9'],X_test['Family_Hist_5']\n",
    "X_test = X_test.join(pd.get_dummies(X_test['InsuredInfo_7']))\n",
    "del X_test['InsuredInfo_7']\n",
    "le = LabelEncoder().fit(X_test['Product_Info_2'])\n",
    "X_test['Product_Info_2'] = le.transform(X_test['Product_Info_2'])\n",
    "missing_features = pd.DataFrame(X_test.dtypes,columns=['dtypes'])\n",
    "missing_features = missing_features.reset_index()\n",
    "missing_features['Name'] = missing_features['index']\n",
    "del missing_features['index']\n",
    "missing_features.reset_index(drop=True,inplace=True)\n",
    "missing_features = missing_features[X_test.isnull().sum().values!=0]\n",
    "X_test.fillna(X_test.mean()[missing_features.Name],inplace=True)\n",
    "\n",
    "for column in tabel_var.index.tolist():\n",
    "    del X_test[column]\n",
    "for column in tabel_corr.index.tolist():\n",
    "    del X_test[column]\n",
    "print('test set shape:',X_test.shape)\n",
    "gc.collect()"
   ]
  },
  {
   "cell_type": "markdown",
   "metadata": {},
   "source": [
    "### Data Modeling:¶"
   ]
  },
  {
   "cell_type": "markdown",
   "metadata": {},
   "source": [
    "#### Plan:\n",
    "    a. Seperate training set into training set and validation set (used in step b,c);\n",
    "    b. Use some simple models like SVC, KNN to see the baseline;\n",
    "    c. Use some avanced models like random forest;\n",
    "    d. If the result isn't good enough, we will try to use xgboost and cross validation to make a voting."
   ]
  },
  {
   "cell_type": "code",
   "execution_count": 13,
   "metadata": {
    "scrolled": true
   },
   "outputs": [
    {
     "name": "stdout",
     "output_type": "stream",
     "text": [
      "(50024, 112)\n",
      "(8828, 112)\n"
     ]
    }
   ],
   "source": [
    "from sklearn.model_selection import train_test_split\n",
    "X_train, X_validation, y_train, y_validation = train_test_split(X_train, y_train, \n",
    "                                                                test_size=0.15, stratify=y_train,random_state=27)\n",
    "print(X_train.shape)\n",
    "print(X_validation.shape)"
   ]
  },
  {
   "cell_type": "markdown",
   "metadata": {},
   "source": [
    "##### SVC"
   ]
  },
  {
   "cell_type": "code",
   "execution_count": null,
   "metadata": {
    "scrolled": true
   },
   "outputs": [],
   "source": [
    "# wait for five minutes still no result, maybe it's memory issue\n",
    "from sklearn.svm import SVC\n",
    "clf = SVC(C=0.5)\n",
    "clf.fit(X_train,y_train)\n",
    "print('validation set presicion:',clf.score(X_validation,y_validation))\n",
    "print('training set precision:',clf.score(X_train,y_train))"
   ]
  },
  {
   "cell_type": "markdown",
   "metadata": {},
   "source": [
    "##### KNN"
   ]
  },
  {
   "cell_type": "code",
   "execution_count": 14,
   "metadata": {},
   "outputs": [
    {
     "name": "stdout",
     "output_type": "stream",
     "text": [
      "validation set presicion: 0.32396918894426824\n",
      "training set precision: 0.48116903886134654\n"
     ]
    }
   ],
   "source": [
    "from sklearn.metrics import accuracy_score\n",
    "from sklearn.neighbors import KNeighborsClassifier\n",
    "clf = KNeighborsClassifier(n_neighbors=7)\n",
    "clf.fit(X_train, y_train)\n",
    "y_pred = clf.predict(X_validation)\n",
    "print('validation set presicion:',accuracy_score(y_validation, y_pred))\n",
    "y_pred = clf.predict(X_train)\n",
    "print('training set precision:',accuracy_score(y_train, y_pred))"
   ]
  },
  {
   "cell_type": "markdown",
   "metadata": {},
   "source": [
    "##### Random forest"
   ]
  },
  {
   "cell_type": "code",
   "execution_count": 25,
   "metadata": {
    "scrolled": true
   },
   "outputs": [
    {
     "name": "stdout",
     "output_type": "stream",
     "text": [
      "validation set presicion: 0.5111010421386497\n",
      "training set precision: 0.5674476251399329\n"
     ]
    }
   ],
   "source": [
    "# here we can also use grid search to find the best hyperparameters to tune the model\n",
    "from sklearn.ensemble import RandomForestClassifier\n",
    "clf = RandomForestClassifier(max_depth=10,n_estimators=2000)\n",
    "clf.fit(X_train,y_train)\n",
    "print('validation set presicion:',clf.score(X_validation,y_validation))\n",
    "print('training set precision:',clf.score(X_train,y_train))"
   ]
  },
  {
   "cell_type": "markdown",
   "metadata": {},
   "source": [
    "##### As we can see, the score is not good enough (validation score is low with a little bit overfitting), so we will next test xgboost + cross validation then select important features and run it again "
   ]
  },
  {
   "cell_type": "markdown",
   "metadata": {},
   "source": [
    "##### Xgboost (will be finished later)"
   ]
  },
  {
   "cell_type": "code",
   "execution_count": 17,
   "metadata": {},
   "outputs": [],
   "source": [
    "# from sklearn.model_selection import KFold\n",
    "# from sklearn.metrics import roc_auc_score\n",
    "# from tqdm import tqdm\n",
    "# from xgboost import XGBClassifier\n",
    "# import xgboost as xgb\n",
    "\n",
    "# folds = KFold(n_splits=3, shuffle=True, random_state=123)\n",
    "# oof_preds = np.zeros(X_train.shape[0])\n",
    "# # sub_preds = np.zeros(test.shape[0])\n",
    "# features = X_train.columns.to_list()\n",
    "# for n_fold, (trn_idx, val_idx) in tqdm(enumerate(folds.split(X_train))):\n",
    "#     trn_x, trn_y = X_train.iloc[trn_idx], y_train.iloc[trn_idx]\n",
    "#     val_x, val_y = X_train.iloc[val_idx], y_train.iloc[val_idx]\n",
    "\n",
    "\n",
    "#     xgb_params ={'objective':\"multi:softmax\",\n",
    "#         'n_estimators':900,\n",
    "#         'learning_rate':0.01,\n",
    "#         'num_leaves':30,\n",
    "#         'colsample_bytree':.8,\n",
    "#         'subsample':.9,\n",
    "#         'max_depth':15,\n",
    "#         'reg_alpha':.1,\n",
    "#         'reg_lambda':.1,\n",
    "#         'min_split_gain':.01,\n",
    "#         'min_child_weight':1,\n",
    "#         'eval_metric':\"mlogloss\"}\n",
    "#     d_train = xgb.DMatrix(trn_x, trn_y)\n",
    "#     d_valid = xgb.DMatrix(val_x, val_y)\n",
    "# #     d_test = xgb.DMatrix(test)\n",
    "    \n",
    "#     watchlist = [(d_train, 'train'), (d_valid, 'valid')]\n",
    "\n",
    "#     model = xgb.train(xgb_params, d_train,\n",
    "#                       watchlist, maximize=True, \n",
    "#                       verbose_eval=250, early_stopping_rounds=150)\n",
    "    \n",
    "#     print('Fold %2d AUC : %.6f' % (n_fold + 1, roc_auc_score(val_y, oof_preds[val_idx])))\n",
    "#     del clf, trn_x, trn_y, val_x, val_y\n",
    "#     gc.collect()\n",
    "    \n",
    "# print('Full AUC score %.6f' % roc_auc_score(y_train, oof_preds))  "
   ]
  }
 ],
 "metadata": {
  "kernelspec": {
   "display_name": "Python 3",
   "language": "python",
   "name": "python3"
  },
  "language_info": {
   "codemirror_mode": {
    "name": "ipython",
    "version": 3
   },
   "file_extension": ".py",
   "mimetype": "text/x-python",
   "name": "python",
   "nbconvert_exporter": "python",
   "pygments_lexer": "ipython3",
   "version": "3.7.5"
  }
 },
 "nbformat": 4,
 "nbformat_minor": 2
}
