{
  "nbformat": 4,
  "nbformat_minor": 0,
  "metadata": {
    "colab": {
      "name": "bigdata_project.ipynb",
      "provenance": [],
      "collapsed_sections": []
    },
    "kernelspec": {
      "name": "python3",
      "display_name": "Python 3"
    },
    "accelerator": "GPU"
  },
  "cells": [
    {
      "cell_type": "code",
      "metadata": {
        "id": "JpOPUBDem8cg",
        "colab_type": "code",
        "outputId": "1634a0b1-b54e-4779-fa31-fbfa11713cfc",
        "colab": {
          "base_uri": "https://localhost:8080/",
          "height": 221
        }
      },
      "source": [
        "!pip uninstall xgboost\n",
        "!pip install xgboost-0.80-py2.py3-none-manylinux1_x86_64.whl"
      ],
      "execution_count": 0,
      "outputs": [
        {
          "output_type": "stream",
          "text": [
            "Uninstalling xgboost-0.80:\n",
            "  Would remove:\n",
            "    /usr/local/lib/python3.6/dist-packages/xgboost-0.80.dist-info/*\n",
            "    /usr/local/lib/python3.6/dist-packages/xgboost/*\n",
            "    /usr/local/xgboost/libxgboost.so\n",
            "Proceed (y/n)? y\n",
            "  Successfully uninstalled xgboost-0.80\n",
            "Processing ./xgboost-0.80-py2.py3-none-manylinux1_x86_64.whl\n",
            "Requirement already satisfied: scipy in /usr/local/lib/python3.6/dist-packages (from xgboost==0.80) (1.4.1)\n",
            "Requirement already satisfied: numpy in /usr/local/lib/python3.6/dist-packages (from xgboost==0.80) (1.17.5)\n",
            "Installing collected packages: xgboost\n",
            "Successfully installed xgboost-0.80\n"
          ],
          "name": "stdout"
        }
      ]
    },
    {
      "cell_type": "code",
      "metadata": {
        "id": "4_7a1uv81Rp8",
        "colab_type": "code",
        "colab": {}
      },
      "source": [
        "import numpy as np\n",
        "import pandas as pd"
      ],
      "execution_count": 0,
      "outputs": []
    },
    {
      "cell_type": "code",
      "metadata": {
        "id": "-clFQmMeRZvX",
        "colab_type": "code",
        "outputId": "35b07410-ed26-46dc-ae92-512786deefb7",
        "colab": {
          "base_uri": "https://localhost:8080/",
          "height": 34
        }
      },
      "source": [
        "from google.colab import drive\n",
        "drive.mount('/content/drive')"
      ],
      "execution_count": 0,
      "outputs": [
        {
          "output_type": "stream",
          "text": [
            "Drive already mounted at /content/drive; to attempt to forcibly remount, call drive.mount(\"/content/drive\", force_remount=True).\n"
          ],
          "name": "stdout"
        }
      ]
    },
    {
      "cell_type": "code",
      "metadata": {
        "id": "JEuJHRDURYb-",
        "colab_type": "code",
        "outputId": "d6800c25-5b6f-4c6f-eb6e-6ecb1427987a",
        "colab": {
          "base_uri": "https://localhost:8080/",
          "height": 270
        }
      },
      "source": [
        "data = pd.read_csv('drive/My Drive/train.csv')\n",
        "(nb_sample,nb_feature) = data.shape\n",
        "print(data.shape)\n",
        "data.head(5)"
      ],
      "execution_count": 0,
      "outputs": [
        {
          "output_type": "stream",
          "text": [
            "(58881, 129)\n"
          ],
          "name": "stdout"
        },
        {
          "output_type": "execute_result",
          "data": {
            "text/html": [
              "<div>\n",
              "<style scoped>\n",
              "    .dataframe tbody tr th:only-of-type {\n",
              "        vertical-align: middle;\n",
              "    }\n",
              "\n",
              "    .dataframe tbody tr th {\n",
              "        vertical-align: top;\n",
              "    }\n",
              "\n",
              "    .dataframe thead th {\n",
              "        text-align: right;\n",
              "    }\n",
              "</style>\n",
              "<table border=\"1\" class=\"dataframe\">\n",
              "  <thead>\n",
              "    <tr style=\"text-align: right;\">\n",
              "      <th></th>\n",
              "      <th>Product_Info_1</th>\n",
              "      <th>Product_Info_2</th>\n",
              "      <th>Product_Info_3</th>\n",
              "      <th>Product_Info_4</th>\n",
              "      <th>Product_Info_5</th>\n",
              "      <th>Product_Info_6</th>\n",
              "      <th>Product_Info_7</th>\n",
              "      <th>Ins_Age</th>\n",
              "      <th>Ht</th>\n",
              "      <th>Wt</th>\n",
              "      <th>BMI</th>\n",
              "      <th>Employment_Info_1</th>\n",
              "      <th>Employment_Info_2</th>\n",
              "      <th>Employment_Info_3</th>\n",
              "      <th>Employment_Info_4</th>\n",
              "      <th>Employment_Info_5</th>\n",
              "      <th>Employment_Info_6</th>\n",
              "      <th>InsuredInfo_1</th>\n",
              "      <th>InsuredInfo_2</th>\n",
              "      <th>InsuredInfo_3</th>\n",
              "      <th>InsuredInfo_4</th>\n",
              "      <th>InsuredInfo_5</th>\n",
              "      <th>InsuredInfo_6</th>\n",
              "      <th>InsuredInfo_7</th>\n",
              "      <th>InsuredInfo_8</th>\n",
              "      <th>InsuredInfo_9</th>\n",
              "      <th>Insurance_History_1</th>\n",
              "      <th>Insurance_History_2</th>\n",
              "      <th>Insurance_History_3</th>\n",
              "      <th>Insurance_History_4</th>\n",
              "      <th>Insurance_History_5</th>\n",
              "      <th>Insurance_History_7</th>\n",
              "      <th>Insurance_History_8</th>\n",
              "      <th>Insurance_History_9</th>\n",
              "      <th>Family_Hist_1</th>\n",
              "      <th>Family_Hist_2</th>\n",
              "      <th>Family_Hist_3</th>\n",
              "      <th>Family_Hist_4</th>\n",
              "      <th>Family_Hist_5</th>\n",
              "      <th>Medical_History_1</th>\n",
              "      <th>...</th>\n",
              "      <th>Medical_Keyword_10</th>\n",
              "      <th>Medical_Keyword_11</th>\n",
              "      <th>Medical_Keyword_12</th>\n",
              "      <th>Medical_Keyword_13</th>\n",
              "      <th>Medical_Keyword_14</th>\n",
              "      <th>Medical_Keyword_15</th>\n",
              "      <th>Medical_Keyword_16</th>\n",
              "      <th>Medical_Keyword_17</th>\n",
              "      <th>Medical_Keyword_18</th>\n",
              "      <th>Medical_Keyword_19</th>\n",
              "      <th>Medical_Keyword_20</th>\n",
              "      <th>Medical_Keyword_21</th>\n",
              "      <th>Medical_Keyword_22</th>\n",
              "      <th>Medical_Keyword_23</th>\n",
              "      <th>Medical_Keyword_24</th>\n",
              "      <th>Medical_Keyword_25</th>\n",
              "      <th>Medical_Keyword_26</th>\n",
              "      <th>Medical_Keyword_27</th>\n",
              "      <th>Medical_Keyword_28</th>\n",
              "      <th>Medical_Keyword_29</th>\n",
              "      <th>Medical_Keyword_30</th>\n",
              "      <th>Medical_Keyword_31</th>\n",
              "      <th>Medical_Keyword_32</th>\n",
              "      <th>Medical_Keyword_33</th>\n",
              "      <th>Medical_Keyword_34</th>\n",
              "      <th>Medical_Keyword_35</th>\n",
              "      <th>Medical_Keyword_36</th>\n",
              "      <th>Medical_Keyword_37</th>\n",
              "      <th>Medical_Keyword_38</th>\n",
              "      <th>Medical_Keyword_39</th>\n",
              "      <th>Medical_Keyword_40</th>\n",
              "      <th>Medical_Keyword_41</th>\n",
              "      <th>Medical_Keyword_42</th>\n",
              "      <th>Medical_Keyword_43</th>\n",
              "      <th>Medical_Keyword_44</th>\n",
              "      <th>Medical_Keyword_45</th>\n",
              "      <th>Medical_Keyword_46</th>\n",
              "      <th>Medical_Keyword_47</th>\n",
              "      <th>Medical_Keyword_48</th>\n",
              "      <th>Response</th>\n",
              "    </tr>\n",
              "  </thead>\n",
              "  <tbody>\n",
              "    <tr>\n",
              "      <th>0</th>\n",
              "      <td>1</td>\n",
              "      <td>A8</td>\n",
              "      <td>26</td>\n",
              "      <td>0.230769</td>\n",
              "      <td>2</td>\n",
              "      <td>3</td>\n",
              "      <td>1</td>\n",
              "      <td>0.492537</td>\n",
              "      <td>0.563636</td>\n",
              "      <td>0.225941</td>\n",
              "      <td>0.510720</td>\n",
              "      <td>0.0244</td>\n",
              "      <td>9</td>\n",
              "      <td>1</td>\n",
              "      <td>0.0</td>\n",
              "      <td>2</td>\n",
              "      <td>0.05</td>\n",
              "      <td>2</td>\n",
              "      <td>2</td>\n",
              "      <td>3</td>\n",
              "      <td>3</td>\n",
              "      <td>1</td>\n",
              "      <td>1</td>\n",
              "      <td>Female</td>\n",
              "      <td>NaN</td>\n",
              "      <td>Muslim</td>\n",
              "      <td>2</td>\n",
              "      <td>1</td>\n",
              "      <td>1</td>\n",
              "      <td>3</td>\n",
              "      <td>NaN</td>\n",
              "      <td>3</td>\n",
              "      <td>2</td>\n",
              "      <td>3</td>\n",
              "      <td>3</td>\n",
              "      <td>0.681159</td>\n",
              "      <td>NaN</td>\n",
              "      <td>0.492958</td>\n",
              "      <td>NaN</td>\n",
              "      <td>0.0</td>\n",
              "      <td>...</td>\n",
              "      <td>0</td>\n",
              "      <td>0</td>\n",
              "      <td>0</td>\n",
              "      <td>0</td>\n",
              "      <td>0</td>\n",
              "      <td>0</td>\n",
              "      <td>0</td>\n",
              "      <td>0</td>\n",
              "      <td>0</td>\n",
              "      <td>0</td>\n",
              "      <td>0</td>\n",
              "      <td>0</td>\n",
              "      <td>0</td>\n",
              "      <td>0</td>\n",
              "      <td>0</td>\n",
              "      <td>0</td>\n",
              "      <td>0</td>\n",
              "      <td>0</td>\n",
              "      <td>0</td>\n",
              "      <td>0</td>\n",
              "      <td>0</td>\n",
              "      <td>0</td>\n",
              "      <td>0</td>\n",
              "      <td>0</td>\n",
              "      <td>0</td>\n",
              "      <td>0</td>\n",
              "      <td>0</td>\n",
              "      <td>0</td>\n",
              "      <td>0</td>\n",
              "      <td>0</td>\n",
              "      <td>0</td>\n",
              "      <td>0</td>\n",
              "      <td>0</td>\n",
              "      <td>0</td>\n",
              "      <td>0</td>\n",
              "      <td>0</td>\n",
              "      <td>0</td>\n",
              "      <td>0</td>\n",
              "      <td>0</td>\n",
              "      <td>7</td>\n",
              "    </tr>\n",
              "    <tr>\n",
              "      <th>1</th>\n",
              "      <td>1</td>\n",
              "      <td>D2</td>\n",
              "      <td>26</td>\n",
              "      <td>1.000000</td>\n",
              "      <td>3</td>\n",
              "      <td>3</td>\n",
              "      <td>1</td>\n",
              "      <td>0.671642</td>\n",
              "      <td>0.781818</td>\n",
              "      <td>0.326360</td>\n",
              "      <td>0.453033</td>\n",
              "      <td>0.5000</td>\n",
              "      <td>3</td>\n",
              "      <td>1</td>\n",
              "      <td>0.5</td>\n",
              "      <td>2</td>\n",
              "      <td>1.00</td>\n",
              "      <td>1</td>\n",
              "      <td>2</td>\n",
              "      <td>8</td>\n",
              "      <td>3</td>\n",
              "      <td>1</td>\n",
              "      <td>1</td>\n",
              "      <td>Male</td>\n",
              "      <td>NaN</td>\n",
              "      <td>NaN</td>\n",
              "      <td>2</td>\n",
              "      <td>1</td>\n",
              "      <td>3</td>\n",
              "      <td>1</td>\n",
              "      <td>0.006667</td>\n",
              "      <td>1</td>\n",
              "      <td>3</td>\n",
              "      <td>2</td>\n",
              "      <td>2</td>\n",
              "      <td>NaN</td>\n",
              "      <td>0.490196</td>\n",
              "      <td>NaN</td>\n",
              "      <td>0.589286</td>\n",
              "      <td>4.0</td>\n",
              "      <td>...</td>\n",
              "      <td>0</td>\n",
              "      <td>0</td>\n",
              "      <td>0</td>\n",
              "      <td>0</td>\n",
              "      <td>0</td>\n",
              "      <td>0</td>\n",
              "      <td>0</td>\n",
              "      <td>0</td>\n",
              "      <td>0</td>\n",
              "      <td>0</td>\n",
              "      <td>0</td>\n",
              "      <td>0</td>\n",
              "      <td>0</td>\n",
              "      <td>0</td>\n",
              "      <td>0</td>\n",
              "      <td>0</td>\n",
              "      <td>0</td>\n",
              "      <td>0</td>\n",
              "      <td>0</td>\n",
              "      <td>0</td>\n",
              "      <td>0</td>\n",
              "      <td>0</td>\n",
              "      <td>0</td>\n",
              "      <td>0</td>\n",
              "      <td>0</td>\n",
              "      <td>0</td>\n",
              "      <td>0</td>\n",
              "      <td>0</td>\n",
              "      <td>0</td>\n",
              "      <td>0</td>\n",
              "      <td>0</td>\n",
              "      <td>0</td>\n",
              "      <td>0</td>\n",
              "      <td>0</td>\n",
              "      <td>0</td>\n",
              "      <td>0</td>\n",
              "      <td>0</td>\n",
              "      <td>0</td>\n",
              "      <td>0</td>\n",
              "      <td>6</td>\n",
              "    </tr>\n",
              "    <tr>\n",
              "      <th>2</th>\n",
              "      <td>1</td>\n",
              "      <td>D2</td>\n",
              "      <td>26</td>\n",
              "      <td>0.230769</td>\n",
              "      <td>2</td>\n",
              "      <td>3</td>\n",
              "      <td>1</td>\n",
              "      <td>0.626866</td>\n",
              "      <td>0.745455</td>\n",
              "      <td>0.393305</td>\n",
              "      <td>0.598310</td>\n",
              "      <td>0.0400</td>\n",
              "      <td>9</td>\n",
              "      <td>1</td>\n",
              "      <td>0.0</td>\n",
              "      <td>2</td>\n",
              "      <td>0.60</td>\n",
              "      <td>1</td>\n",
              "      <td>2</td>\n",
              "      <td>4</td>\n",
              "      <td>3</td>\n",
              "      <td>1</td>\n",
              "      <td>1</td>\n",
              "      <td>Male</td>\n",
              "      <td>Caucasian</td>\n",
              "      <td>Jewish</td>\n",
              "      <td>1</td>\n",
              "      <td>3</td>\n",
              "      <td>3</td>\n",
              "      <td>1</td>\n",
              "      <td>0.000833</td>\n",
              "      <td>1</td>\n",
              "      <td>1</td>\n",
              "      <td>2</td>\n",
              "      <td>3</td>\n",
              "      <td>NaN</td>\n",
              "      <td>0.558824</td>\n",
              "      <td>NaN</td>\n",
              "      <td>0.598214</td>\n",
              "      <td>3.0</td>\n",
              "      <td>...</td>\n",
              "      <td>0</td>\n",
              "      <td>0</td>\n",
              "      <td>0</td>\n",
              "      <td>0</td>\n",
              "      <td>0</td>\n",
              "      <td>0</td>\n",
              "      <td>0</td>\n",
              "      <td>0</td>\n",
              "      <td>0</td>\n",
              "      <td>0</td>\n",
              "      <td>0</td>\n",
              "      <td>0</td>\n",
              "      <td>0</td>\n",
              "      <td>1</td>\n",
              "      <td>0</td>\n",
              "      <td>1</td>\n",
              "      <td>0</td>\n",
              "      <td>0</td>\n",
              "      <td>0</td>\n",
              "      <td>0</td>\n",
              "      <td>0</td>\n",
              "      <td>0</td>\n",
              "      <td>1</td>\n",
              "      <td>0</td>\n",
              "      <td>0</td>\n",
              "      <td>1</td>\n",
              "      <td>0</td>\n",
              "      <td>1</td>\n",
              "      <td>0</td>\n",
              "      <td>0</td>\n",
              "      <td>0</td>\n",
              "      <td>0</td>\n",
              "      <td>0</td>\n",
              "      <td>0</td>\n",
              "      <td>0</td>\n",
              "      <td>0</td>\n",
              "      <td>0</td>\n",
              "      <td>0</td>\n",
              "      <td>0</td>\n",
              "      <td>1</td>\n",
              "    </tr>\n",
              "    <tr>\n",
              "      <th>3</th>\n",
              "      <td>1</td>\n",
              "      <td>D4</td>\n",
              "      <td>26</td>\n",
              "      <td>0.230769</td>\n",
              "      <td>2</td>\n",
              "      <td>3</td>\n",
              "      <td>1</td>\n",
              "      <td>0.268657</td>\n",
              "      <td>0.690909</td>\n",
              "      <td>0.246862</td>\n",
              "      <td>0.410638</td>\n",
              "      <td>0.0300</td>\n",
              "      <td>9</td>\n",
              "      <td>1</td>\n",
              "      <td>0.0</td>\n",
              "      <td>2</td>\n",
              "      <td>0.00</td>\n",
              "      <td>1</td>\n",
              "      <td>2</td>\n",
              "      <td>6</td>\n",
              "      <td>2</td>\n",
              "      <td>1</td>\n",
              "      <td>1</td>\n",
              "      <td>Female</td>\n",
              "      <td>NaN</td>\n",
              "      <td>NaN</td>\n",
              "      <td>2</td>\n",
              "      <td>1</td>\n",
              "      <td>1</td>\n",
              "      <td>3</td>\n",
              "      <td>NaN</td>\n",
              "      <td>3</td>\n",
              "      <td>2</td>\n",
              "      <td>3</td>\n",
              "      <td>2</td>\n",
              "      <td>0.536232</td>\n",
              "      <td>NaN</td>\n",
              "      <td>0.478873</td>\n",
              "      <td>NaN</td>\n",
              "      <td>12.0</td>\n",
              "      <td>...</td>\n",
              "      <td>0</td>\n",
              "      <td>0</td>\n",
              "      <td>0</td>\n",
              "      <td>0</td>\n",
              "      <td>0</td>\n",
              "      <td>0</td>\n",
              "      <td>0</td>\n",
              "      <td>0</td>\n",
              "      <td>0</td>\n",
              "      <td>0</td>\n",
              "      <td>0</td>\n",
              "      <td>0</td>\n",
              "      <td>0</td>\n",
              "      <td>0</td>\n",
              "      <td>0</td>\n",
              "      <td>0</td>\n",
              "      <td>0</td>\n",
              "      <td>0</td>\n",
              "      <td>0</td>\n",
              "      <td>0</td>\n",
              "      <td>0</td>\n",
              "      <td>0</td>\n",
              "      <td>0</td>\n",
              "      <td>0</td>\n",
              "      <td>0</td>\n",
              "      <td>0</td>\n",
              "      <td>0</td>\n",
              "      <td>0</td>\n",
              "      <td>0</td>\n",
              "      <td>0</td>\n",
              "      <td>0</td>\n",
              "      <td>0</td>\n",
              "      <td>0</td>\n",
              "      <td>0</td>\n",
              "      <td>0</td>\n",
              "      <td>0</td>\n",
              "      <td>0</td>\n",
              "      <td>0</td>\n",
              "      <td>0</td>\n",
              "      <td>4</td>\n",
              "    </tr>\n",
              "    <tr>\n",
              "      <th>4</th>\n",
              "      <td>1</td>\n",
              "      <td>E1</td>\n",
              "      <td>10</td>\n",
              "      <td>0.230769</td>\n",
              "      <td>2</td>\n",
              "      <td>3</td>\n",
              "      <td>1</td>\n",
              "      <td>0.641791</td>\n",
              "      <td>0.581818</td>\n",
              "      <td>0.466527</td>\n",
              "      <td>1.000000</td>\n",
              "      <td>0.0280</td>\n",
              "      <td>9</td>\n",
              "      <td>1</td>\n",
              "      <td>0.0</td>\n",
              "      <td>3</td>\n",
              "      <td>1.00</td>\n",
              "      <td>1</td>\n",
              "      <td>2</td>\n",
              "      <td>8</td>\n",
              "      <td>3</td>\n",
              "      <td>1</td>\n",
              "      <td>1</td>\n",
              "      <td>Female</td>\n",
              "      <td>NaN</td>\n",
              "      <td>NaN</td>\n",
              "      <td>2</td>\n",
              "      <td>1</td>\n",
              "      <td>3</td>\n",
              "      <td>1</td>\n",
              "      <td>0.000039</td>\n",
              "      <td>1</td>\n",
              "      <td>3</td>\n",
              "      <td>2</td>\n",
              "      <td>2</td>\n",
              "      <td>NaN</td>\n",
              "      <td>0.647059</td>\n",
              "      <td>NaN</td>\n",
              "      <td>0.160714</td>\n",
              "      <td>1.0</td>\n",
              "      <td>...</td>\n",
              "      <td>0</td>\n",
              "      <td>1</td>\n",
              "      <td>0</td>\n",
              "      <td>0</td>\n",
              "      <td>0</td>\n",
              "      <td>1</td>\n",
              "      <td>0</td>\n",
              "      <td>0</td>\n",
              "      <td>0</td>\n",
              "      <td>0</td>\n",
              "      <td>0</td>\n",
              "      <td>0</td>\n",
              "      <td>0</td>\n",
              "      <td>0</td>\n",
              "      <td>0</td>\n",
              "      <td>1</td>\n",
              "      <td>0</td>\n",
              "      <td>0</td>\n",
              "      <td>0</td>\n",
              "      <td>0</td>\n",
              "      <td>0</td>\n",
              "      <td>0</td>\n",
              "      <td>0</td>\n",
              "      <td>0</td>\n",
              "      <td>0</td>\n",
              "      <td>0</td>\n",
              "      <td>0</td>\n",
              "      <td>0</td>\n",
              "      <td>0</td>\n",
              "      <td>0</td>\n",
              "      <td>0</td>\n",
              "      <td>0</td>\n",
              "      <td>1</td>\n",
              "      <td>0</td>\n",
              "      <td>0</td>\n",
              "      <td>0</td>\n",
              "      <td>1</td>\n",
              "      <td>0</td>\n",
              "      <td>0</td>\n",
              "      <td>2</td>\n",
              "    </tr>\n",
              "  </tbody>\n",
              "</table>\n",
              "<p>5 rows × 129 columns</p>\n",
              "</div>"
            ],
            "text/plain": [
              "   Product_Info_1 Product_Info_2  ...  Medical_Keyword_48  Response\n",
              "0               1             A8  ...                   0         7\n",
              "1               1             D2  ...                   0         6\n",
              "2               1             D2  ...                   0         1\n",
              "3               1             D4  ...                   0         4\n",
              "4               1             E1  ...                   0         2\n",
              "\n",
              "[5 rows x 129 columns]"
            ]
          },
          "metadata": {
            "tags": []
          },
          "execution_count": 4
        }
      ]
    },
    {
      "cell_type": "markdown",
      "metadata": {
        "id": "uPj4ZOMpnAqS",
        "colab_type": "text"
      },
      "source": [
        "### Plan:\n",
        "##### a. According to EDA, we decide to preprocess our raw training and test data as following steps:\n",
        "    1. Delete samples with 14 and 15 missing featrues;\n",
        "    2. Delete directly the features that have more than 70% missing values;\n",
        "    3. Encode object-type data;\n",
        "    4. Fill missing values by mean for other features;\n",
        "    5. See variance again and delete top5 features with the lowest variance;\n",
        "    6. See correlation again to delete top5 features with the lowest correlation to the target;\n",
        "##### b.  Set up a XGBoost model to see the performance and then select important features in using feature importance fonction.\n",
        "    1. We deceide to use 3-fold crossing validation to reduce uncertainty and aviod overfitting;\n",
        "    2. Select different number of improtant features to test model performance;\n",
        "##### c.  Chosse the best features and do preprocessing (only step 1 and 4)\n",
        "##### d. Predict results in using 3 models trained from 3-fold CV and then do a voting"
      ]
    },
    {
      "cell_type": "markdown",
      "metadata": {
        "id": "qVCbHh8QnNzI",
        "colab_type": "text"
      },
      "source": [
        "### Data Preprocessing:"
      ]
    },
    {
      "cell_type": "markdown",
      "metadata": {
        "id": "RUXIJFlKnNah",
        "colab_type": "text"
      },
      "source": [
        "##### delete samples with 14 and 15 missing featrues"
      ]
    },
    {
      "cell_type": "code",
      "metadata": {
        "id": "NcibwJgnRex1",
        "colab_type": "code",
        "outputId": "6db99c61-b54c-4198-f3b6-6fc1b46f8209",
        "colab": {
          "base_uri": "https://localhost:8080/",
          "height": 270
        }
      },
      "source": [
        "nb_delete_1415 = 0\n",
        "for i in range(nb_sample):\n",
        "    if i < (nb_sample-nb_delete_1415):\n",
        "        nb_missing = data.iloc[i,:].isnull().sum()\n",
        "        if nb_missing >= 13:\n",
        "            data.drop(index=[i],inplace=True)\n",
        "            nb_delete_1415+=1\n",
        "    else:\n",
        "        break\n",
        "print('totally delete: ',nb_delete_1415, 'samples')\n",
        "data.reset_index(drop = True,inplace = True)\n",
        "data.head(5)"
      ],
      "execution_count": 0,
      "outputs": [
        {
          "output_type": "stream",
          "text": [
            "totally delete:  29 samples\n"
          ],
          "name": "stdout"
        },
        {
          "output_type": "execute_result",
          "data": {
            "text/html": [
              "<div>\n",
              "<style scoped>\n",
              "    .dataframe tbody tr th:only-of-type {\n",
              "        vertical-align: middle;\n",
              "    }\n",
              "\n",
              "    .dataframe tbody tr th {\n",
              "        vertical-align: top;\n",
              "    }\n",
              "\n",
              "    .dataframe thead th {\n",
              "        text-align: right;\n",
              "    }\n",
              "</style>\n",
              "<table border=\"1\" class=\"dataframe\">\n",
              "  <thead>\n",
              "    <tr style=\"text-align: right;\">\n",
              "      <th></th>\n",
              "      <th>Product_Info_1</th>\n",
              "      <th>Product_Info_2</th>\n",
              "      <th>Product_Info_3</th>\n",
              "      <th>Product_Info_4</th>\n",
              "      <th>Product_Info_5</th>\n",
              "      <th>Product_Info_6</th>\n",
              "      <th>Product_Info_7</th>\n",
              "      <th>Ins_Age</th>\n",
              "      <th>Ht</th>\n",
              "      <th>Wt</th>\n",
              "      <th>BMI</th>\n",
              "      <th>Employment_Info_1</th>\n",
              "      <th>Employment_Info_2</th>\n",
              "      <th>Employment_Info_3</th>\n",
              "      <th>Employment_Info_4</th>\n",
              "      <th>Employment_Info_5</th>\n",
              "      <th>Employment_Info_6</th>\n",
              "      <th>InsuredInfo_1</th>\n",
              "      <th>InsuredInfo_2</th>\n",
              "      <th>InsuredInfo_3</th>\n",
              "      <th>InsuredInfo_4</th>\n",
              "      <th>InsuredInfo_5</th>\n",
              "      <th>InsuredInfo_6</th>\n",
              "      <th>InsuredInfo_7</th>\n",
              "      <th>InsuredInfo_8</th>\n",
              "      <th>InsuredInfo_9</th>\n",
              "      <th>Insurance_History_1</th>\n",
              "      <th>Insurance_History_2</th>\n",
              "      <th>Insurance_History_3</th>\n",
              "      <th>Insurance_History_4</th>\n",
              "      <th>Insurance_History_5</th>\n",
              "      <th>Insurance_History_7</th>\n",
              "      <th>Insurance_History_8</th>\n",
              "      <th>Insurance_History_9</th>\n",
              "      <th>Family_Hist_1</th>\n",
              "      <th>Family_Hist_2</th>\n",
              "      <th>Family_Hist_3</th>\n",
              "      <th>Family_Hist_4</th>\n",
              "      <th>Family_Hist_5</th>\n",
              "      <th>Medical_History_1</th>\n",
              "      <th>...</th>\n",
              "      <th>Medical_Keyword_10</th>\n",
              "      <th>Medical_Keyword_11</th>\n",
              "      <th>Medical_Keyword_12</th>\n",
              "      <th>Medical_Keyword_13</th>\n",
              "      <th>Medical_Keyword_14</th>\n",
              "      <th>Medical_Keyword_15</th>\n",
              "      <th>Medical_Keyword_16</th>\n",
              "      <th>Medical_Keyword_17</th>\n",
              "      <th>Medical_Keyword_18</th>\n",
              "      <th>Medical_Keyword_19</th>\n",
              "      <th>Medical_Keyword_20</th>\n",
              "      <th>Medical_Keyword_21</th>\n",
              "      <th>Medical_Keyword_22</th>\n",
              "      <th>Medical_Keyword_23</th>\n",
              "      <th>Medical_Keyword_24</th>\n",
              "      <th>Medical_Keyword_25</th>\n",
              "      <th>Medical_Keyword_26</th>\n",
              "      <th>Medical_Keyword_27</th>\n",
              "      <th>Medical_Keyword_28</th>\n",
              "      <th>Medical_Keyword_29</th>\n",
              "      <th>Medical_Keyword_30</th>\n",
              "      <th>Medical_Keyword_31</th>\n",
              "      <th>Medical_Keyword_32</th>\n",
              "      <th>Medical_Keyword_33</th>\n",
              "      <th>Medical_Keyword_34</th>\n",
              "      <th>Medical_Keyword_35</th>\n",
              "      <th>Medical_Keyword_36</th>\n",
              "      <th>Medical_Keyword_37</th>\n",
              "      <th>Medical_Keyword_38</th>\n",
              "      <th>Medical_Keyword_39</th>\n",
              "      <th>Medical_Keyword_40</th>\n",
              "      <th>Medical_Keyword_41</th>\n",
              "      <th>Medical_Keyword_42</th>\n",
              "      <th>Medical_Keyword_43</th>\n",
              "      <th>Medical_Keyword_44</th>\n",
              "      <th>Medical_Keyword_45</th>\n",
              "      <th>Medical_Keyword_46</th>\n",
              "      <th>Medical_Keyword_47</th>\n",
              "      <th>Medical_Keyword_48</th>\n",
              "      <th>Response</th>\n",
              "    </tr>\n",
              "  </thead>\n",
              "  <tbody>\n",
              "    <tr>\n",
              "      <th>0</th>\n",
              "      <td>1</td>\n",
              "      <td>A8</td>\n",
              "      <td>26</td>\n",
              "      <td>0.230769</td>\n",
              "      <td>2</td>\n",
              "      <td>3</td>\n",
              "      <td>1</td>\n",
              "      <td>0.492537</td>\n",
              "      <td>0.563636</td>\n",
              "      <td>0.225941</td>\n",
              "      <td>0.510720</td>\n",
              "      <td>0.0244</td>\n",
              "      <td>9</td>\n",
              "      <td>1</td>\n",
              "      <td>0.0</td>\n",
              "      <td>2</td>\n",
              "      <td>0.05</td>\n",
              "      <td>2</td>\n",
              "      <td>2</td>\n",
              "      <td>3</td>\n",
              "      <td>3</td>\n",
              "      <td>1</td>\n",
              "      <td>1</td>\n",
              "      <td>Female</td>\n",
              "      <td>NaN</td>\n",
              "      <td>Muslim</td>\n",
              "      <td>2</td>\n",
              "      <td>1</td>\n",
              "      <td>1</td>\n",
              "      <td>3</td>\n",
              "      <td>NaN</td>\n",
              "      <td>3</td>\n",
              "      <td>2</td>\n",
              "      <td>3</td>\n",
              "      <td>3</td>\n",
              "      <td>0.681159</td>\n",
              "      <td>NaN</td>\n",
              "      <td>0.492958</td>\n",
              "      <td>NaN</td>\n",
              "      <td>0.0</td>\n",
              "      <td>...</td>\n",
              "      <td>0</td>\n",
              "      <td>0</td>\n",
              "      <td>0</td>\n",
              "      <td>0</td>\n",
              "      <td>0</td>\n",
              "      <td>0</td>\n",
              "      <td>0</td>\n",
              "      <td>0</td>\n",
              "      <td>0</td>\n",
              "      <td>0</td>\n",
              "      <td>0</td>\n",
              "      <td>0</td>\n",
              "      <td>0</td>\n",
              "      <td>0</td>\n",
              "      <td>0</td>\n",
              "      <td>0</td>\n",
              "      <td>0</td>\n",
              "      <td>0</td>\n",
              "      <td>0</td>\n",
              "      <td>0</td>\n",
              "      <td>0</td>\n",
              "      <td>0</td>\n",
              "      <td>0</td>\n",
              "      <td>0</td>\n",
              "      <td>0</td>\n",
              "      <td>0</td>\n",
              "      <td>0</td>\n",
              "      <td>0</td>\n",
              "      <td>0</td>\n",
              "      <td>0</td>\n",
              "      <td>0</td>\n",
              "      <td>0</td>\n",
              "      <td>0</td>\n",
              "      <td>0</td>\n",
              "      <td>0</td>\n",
              "      <td>0</td>\n",
              "      <td>0</td>\n",
              "      <td>0</td>\n",
              "      <td>0</td>\n",
              "      <td>7</td>\n",
              "    </tr>\n",
              "    <tr>\n",
              "      <th>1</th>\n",
              "      <td>1</td>\n",
              "      <td>D2</td>\n",
              "      <td>26</td>\n",
              "      <td>1.000000</td>\n",
              "      <td>3</td>\n",
              "      <td>3</td>\n",
              "      <td>1</td>\n",
              "      <td>0.671642</td>\n",
              "      <td>0.781818</td>\n",
              "      <td>0.326360</td>\n",
              "      <td>0.453033</td>\n",
              "      <td>0.5000</td>\n",
              "      <td>3</td>\n",
              "      <td>1</td>\n",
              "      <td>0.5</td>\n",
              "      <td>2</td>\n",
              "      <td>1.00</td>\n",
              "      <td>1</td>\n",
              "      <td>2</td>\n",
              "      <td>8</td>\n",
              "      <td>3</td>\n",
              "      <td>1</td>\n",
              "      <td>1</td>\n",
              "      <td>Male</td>\n",
              "      <td>NaN</td>\n",
              "      <td>NaN</td>\n",
              "      <td>2</td>\n",
              "      <td>1</td>\n",
              "      <td>3</td>\n",
              "      <td>1</td>\n",
              "      <td>0.006667</td>\n",
              "      <td>1</td>\n",
              "      <td>3</td>\n",
              "      <td>2</td>\n",
              "      <td>2</td>\n",
              "      <td>NaN</td>\n",
              "      <td>0.490196</td>\n",
              "      <td>NaN</td>\n",
              "      <td>0.589286</td>\n",
              "      <td>4.0</td>\n",
              "      <td>...</td>\n",
              "      <td>0</td>\n",
              "      <td>0</td>\n",
              "      <td>0</td>\n",
              "      <td>0</td>\n",
              "      <td>0</td>\n",
              "      <td>0</td>\n",
              "      <td>0</td>\n",
              "      <td>0</td>\n",
              "      <td>0</td>\n",
              "      <td>0</td>\n",
              "      <td>0</td>\n",
              "      <td>0</td>\n",
              "      <td>0</td>\n",
              "      <td>0</td>\n",
              "      <td>0</td>\n",
              "      <td>0</td>\n",
              "      <td>0</td>\n",
              "      <td>0</td>\n",
              "      <td>0</td>\n",
              "      <td>0</td>\n",
              "      <td>0</td>\n",
              "      <td>0</td>\n",
              "      <td>0</td>\n",
              "      <td>0</td>\n",
              "      <td>0</td>\n",
              "      <td>0</td>\n",
              "      <td>0</td>\n",
              "      <td>0</td>\n",
              "      <td>0</td>\n",
              "      <td>0</td>\n",
              "      <td>0</td>\n",
              "      <td>0</td>\n",
              "      <td>0</td>\n",
              "      <td>0</td>\n",
              "      <td>0</td>\n",
              "      <td>0</td>\n",
              "      <td>0</td>\n",
              "      <td>0</td>\n",
              "      <td>0</td>\n",
              "      <td>6</td>\n",
              "    </tr>\n",
              "    <tr>\n",
              "      <th>2</th>\n",
              "      <td>1</td>\n",
              "      <td>D2</td>\n",
              "      <td>26</td>\n",
              "      <td>0.230769</td>\n",
              "      <td>2</td>\n",
              "      <td>3</td>\n",
              "      <td>1</td>\n",
              "      <td>0.626866</td>\n",
              "      <td>0.745455</td>\n",
              "      <td>0.393305</td>\n",
              "      <td>0.598310</td>\n",
              "      <td>0.0400</td>\n",
              "      <td>9</td>\n",
              "      <td>1</td>\n",
              "      <td>0.0</td>\n",
              "      <td>2</td>\n",
              "      <td>0.60</td>\n",
              "      <td>1</td>\n",
              "      <td>2</td>\n",
              "      <td>4</td>\n",
              "      <td>3</td>\n",
              "      <td>1</td>\n",
              "      <td>1</td>\n",
              "      <td>Male</td>\n",
              "      <td>Caucasian</td>\n",
              "      <td>Jewish</td>\n",
              "      <td>1</td>\n",
              "      <td>3</td>\n",
              "      <td>3</td>\n",
              "      <td>1</td>\n",
              "      <td>0.000833</td>\n",
              "      <td>1</td>\n",
              "      <td>1</td>\n",
              "      <td>2</td>\n",
              "      <td>3</td>\n",
              "      <td>NaN</td>\n",
              "      <td>0.558824</td>\n",
              "      <td>NaN</td>\n",
              "      <td>0.598214</td>\n",
              "      <td>3.0</td>\n",
              "      <td>...</td>\n",
              "      <td>0</td>\n",
              "      <td>0</td>\n",
              "      <td>0</td>\n",
              "      <td>0</td>\n",
              "      <td>0</td>\n",
              "      <td>0</td>\n",
              "      <td>0</td>\n",
              "      <td>0</td>\n",
              "      <td>0</td>\n",
              "      <td>0</td>\n",
              "      <td>0</td>\n",
              "      <td>0</td>\n",
              "      <td>0</td>\n",
              "      <td>1</td>\n",
              "      <td>0</td>\n",
              "      <td>1</td>\n",
              "      <td>0</td>\n",
              "      <td>0</td>\n",
              "      <td>0</td>\n",
              "      <td>0</td>\n",
              "      <td>0</td>\n",
              "      <td>0</td>\n",
              "      <td>1</td>\n",
              "      <td>0</td>\n",
              "      <td>0</td>\n",
              "      <td>1</td>\n",
              "      <td>0</td>\n",
              "      <td>1</td>\n",
              "      <td>0</td>\n",
              "      <td>0</td>\n",
              "      <td>0</td>\n",
              "      <td>0</td>\n",
              "      <td>0</td>\n",
              "      <td>0</td>\n",
              "      <td>0</td>\n",
              "      <td>0</td>\n",
              "      <td>0</td>\n",
              "      <td>0</td>\n",
              "      <td>0</td>\n",
              "      <td>1</td>\n",
              "    </tr>\n",
              "    <tr>\n",
              "      <th>3</th>\n",
              "      <td>1</td>\n",
              "      <td>D4</td>\n",
              "      <td>26</td>\n",
              "      <td>0.230769</td>\n",
              "      <td>2</td>\n",
              "      <td>3</td>\n",
              "      <td>1</td>\n",
              "      <td>0.268657</td>\n",
              "      <td>0.690909</td>\n",
              "      <td>0.246862</td>\n",
              "      <td>0.410638</td>\n",
              "      <td>0.0300</td>\n",
              "      <td>9</td>\n",
              "      <td>1</td>\n",
              "      <td>0.0</td>\n",
              "      <td>2</td>\n",
              "      <td>0.00</td>\n",
              "      <td>1</td>\n",
              "      <td>2</td>\n",
              "      <td>6</td>\n",
              "      <td>2</td>\n",
              "      <td>1</td>\n",
              "      <td>1</td>\n",
              "      <td>Female</td>\n",
              "      <td>NaN</td>\n",
              "      <td>NaN</td>\n",
              "      <td>2</td>\n",
              "      <td>1</td>\n",
              "      <td>1</td>\n",
              "      <td>3</td>\n",
              "      <td>NaN</td>\n",
              "      <td>3</td>\n",
              "      <td>2</td>\n",
              "      <td>3</td>\n",
              "      <td>2</td>\n",
              "      <td>0.536232</td>\n",
              "      <td>NaN</td>\n",
              "      <td>0.478873</td>\n",
              "      <td>NaN</td>\n",
              "      <td>12.0</td>\n",
              "      <td>...</td>\n",
              "      <td>0</td>\n",
              "      <td>0</td>\n",
              "      <td>0</td>\n",
              "      <td>0</td>\n",
              "      <td>0</td>\n",
              "      <td>0</td>\n",
              "      <td>0</td>\n",
              "      <td>0</td>\n",
              "      <td>0</td>\n",
              "      <td>0</td>\n",
              "      <td>0</td>\n",
              "      <td>0</td>\n",
              "      <td>0</td>\n",
              "      <td>0</td>\n",
              "      <td>0</td>\n",
              "      <td>0</td>\n",
              "      <td>0</td>\n",
              "      <td>0</td>\n",
              "      <td>0</td>\n",
              "      <td>0</td>\n",
              "      <td>0</td>\n",
              "      <td>0</td>\n",
              "      <td>0</td>\n",
              "      <td>0</td>\n",
              "      <td>0</td>\n",
              "      <td>0</td>\n",
              "      <td>0</td>\n",
              "      <td>0</td>\n",
              "      <td>0</td>\n",
              "      <td>0</td>\n",
              "      <td>0</td>\n",
              "      <td>0</td>\n",
              "      <td>0</td>\n",
              "      <td>0</td>\n",
              "      <td>0</td>\n",
              "      <td>0</td>\n",
              "      <td>0</td>\n",
              "      <td>0</td>\n",
              "      <td>0</td>\n",
              "      <td>4</td>\n",
              "    </tr>\n",
              "    <tr>\n",
              "      <th>4</th>\n",
              "      <td>1</td>\n",
              "      <td>E1</td>\n",
              "      <td>10</td>\n",
              "      <td>0.230769</td>\n",
              "      <td>2</td>\n",
              "      <td>3</td>\n",
              "      <td>1</td>\n",
              "      <td>0.641791</td>\n",
              "      <td>0.581818</td>\n",
              "      <td>0.466527</td>\n",
              "      <td>1.000000</td>\n",
              "      <td>0.0280</td>\n",
              "      <td>9</td>\n",
              "      <td>1</td>\n",
              "      <td>0.0</td>\n",
              "      <td>3</td>\n",
              "      <td>1.00</td>\n",
              "      <td>1</td>\n",
              "      <td>2</td>\n",
              "      <td>8</td>\n",
              "      <td>3</td>\n",
              "      <td>1</td>\n",
              "      <td>1</td>\n",
              "      <td>Female</td>\n",
              "      <td>NaN</td>\n",
              "      <td>NaN</td>\n",
              "      <td>2</td>\n",
              "      <td>1</td>\n",
              "      <td>3</td>\n",
              "      <td>1</td>\n",
              "      <td>0.000039</td>\n",
              "      <td>1</td>\n",
              "      <td>3</td>\n",
              "      <td>2</td>\n",
              "      <td>2</td>\n",
              "      <td>NaN</td>\n",
              "      <td>0.647059</td>\n",
              "      <td>NaN</td>\n",
              "      <td>0.160714</td>\n",
              "      <td>1.0</td>\n",
              "      <td>...</td>\n",
              "      <td>0</td>\n",
              "      <td>1</td>\n",
              "      <td>0</td>\n",
              "      <td>0</td>\n",
              "      <td>0</td>\n",
              "      <td>1</td>\n",
              "      <td>0</td>\n",
              "      <td>0</td>\n",
              "      <td>0</td>\n",
              "      <td>0</td>\n",
              "      <td>0</td>\n",
              "      <td>0</td>\n",
              "      <td>0</td>\n",
              "      <td>0</td>\n",
              "      <td>0</td>\n",
              "      <td>1</td>\n",
              "      <td>0</td>\n",
              "      <td>0</td>\n",
              "      <td>0</td>\n",
              "      <td>0</td>\n",
              "      <td>0</td>\n",
              "      <td>0</td>\n",
              "      <td>0</td>\n",
              "      <td>0</td>\n",
              "      <td>0</td>\n",
              "      <td>0</td>\n",
              "      <td>0</td>\n",
              "      <td>0</td>\n",
              "      <td>0</td>\n",
              "      <td>0</td>\n",
              "      <td>0</td>\n",
              "      <td>0</td>\n",
              "      <td>1</td>\n",
              "      <td>0</td>\n",
              "      <td>0</td>\n",
              "      <td>0</td>\n",
              "      <td>1</td>\n",
              "      <td>0</td>\n",
              "      <td>0</td>\n",
              "      <td>2</td>\n",
              "    </tr>\n",
              "  </tbody>\n",
              "</table>\n",
              "<p>5 rows × 129 columns</p>\n",
              "</div>"
            ],
            "text/plain": [
              "   Product_Info_1 Product_Info_2  ...  Medical_Keyword_48  Response\n",
              "0               1             A8  ...                   0         7\n",
              "1               1             D2  ...                   0         6\n",
              "2               1             D2  ...                   0         1\n",
              "3               1             D4  ...                   0         4\n",
              "4               1             E1  ...                   0         2\n",
              "\n",
              "[5 rows x 129 columns]"
            ]
          },
          "metadata": {
            "tags": []
          },
          "execution_count": 5
        }
      ]
    },
    {
      "cell_type": "markdown",
      "metadata": {
        "id": "9obiOc4Ln1KN",
        "colab_type": "text"
      },
      "source": [
        "##### delete directly the features that have more than 70% missing values"
      ]
    },
    {
      "cell_type": "code",
      "metadata": {
        "id": "7zRc4cP7Rps_",
        "colab_type": "code",
        "outputId": "4a85415a-c5d0-4b72-b905-86d7945551a2",
        "colab": {
          "base_uri": "https://localhost:8080/",
          "height": 34
        }
      },
      "source": [
        "# According to EDA, we will delete the features: \n",
        "#Medical_History_10,Medical_History_32,Medical_History_24,InsuredInfo_8,Medical_History_15,InsuredInfo_9,Family_Hist_5 \n",
        "import gc\n",
        "del data['Medical_History_10'],data['Medical_History_32'],data['Medical_History_24'],data['InsuredInfo_8'],data['Medical_History_15'],data['InsuredInfo_9'],data['Family_Hist_5']\n",
        "gc.collect()"
      ],
      "execution_count": 0,
      "outputs": [
        {
          "output_type": "execute_result",
          "data": {
            "text/plain": [
              "11"
            ]
          },
          "metadata": {
            "tags": []
          },
          "execution_count": 6
        }
      ]
    },
    {
      "cell_type": "markdown",
      "metadata": {
        "id": "0sIqVAs4n4E3",
        "colab_type": "text"
      },
      "source": [
        "##### encode object-type data"
      ]
    },
    {
      "cell_type": "code",
      "metadata": {
        "id": "iOL-ev_6Rrgf",
        "colab_type": "code",
        "outputId": "b64b0108-a632-4814-b0d5-c1d426835c8b",
        "colab": {
          "base_uri": "https://localhost:8080/",
          "height": 85
        }
      },
      "source": [
        "print(data[data.columns[(data.dtypes == 'object')==True]].columns)\n",
        "print(data['Product_Info_2'].unique())\n",
        "print(data['InsuredInfo_7'].unique())"
      ],
      "execution_count": 0,
      "outputs": [
        {
          "output_type": "stream",
          "text": [
            "Index(['Product_Info_2', 'InsuredInfo_7'], dtype='object')\n",
            "['A8' 'D2' 'D4' 'E1' 'A3' 'A6' 'B2' 'D1' 'D3' 'A2' 'A1' 'C4' 'B1' 'A5'\n",
            " 'C3' 'C1' 'A7' 'A4' 'C2']\n",
            "['Female' 'Male']\n"
          ],
          "name": "stdout"
        }
      ]
    },
    {
      "cell_type": "code",
      "metadata": {
        "id": "_OvoRre7RtGk",
        "colab_type": "code",
        "outputId": "a40cc883-bf61-46cb-bf5f-d0da0a4afaa2",
        "colab": {
          "base_uri": "https://localhost:8080/",
          "height": 253
        }
      },
      "source": [
        "# As we can see above, we decide to:\n",
        "# onehot encoding: InsuredInfo_7; label encoding: Product_Info_2\n",
        "data = data.join(pd.get_dummies(data['InsuredInfo_7']))\n",
        "del data['InsuredInfo_7']\n",
        "from sklearn.preprocessing import LabelEncoder\n",
        "le = LabelEncoder().fit(data['Product_Info_2'])\n",
        "data['Product_Info_2'] = le.transform(data['Product_Info_2'])\n",
        "data.head(5)"
      ],
      "execution_count": 0,
      "outputs": [
        {
          "output_type": "execute_result",
          "data": {
            "text/html": [
              "<div>\n",
              "<style scoped>\n",
              "    .dataframe tbody tr th:only-of-type {\n",
              "        vertical-align: middle;\n",
              "    }\n",
              "\n",
              "    .dataframe tbody tr th {\n",
              "        vertical-align: top;\n",
              "    }\n",
              "\n",
              "    .dataframe thead th {\n",
              "        text-align: right;\n",
              "    }\n",
              "</style>\n",
              "<table border=\"1\" class=\"dataframe\">\n",
              "  <thead>\n",
              "    <tr style=\"text-align: right;\">\n",
              "      <th></th>\n",
              "      <th>Product_Info_1</th>\n",
              "      <th>Product_Info_2</th>\n",
              "      <th>Product_Info_3</th>\n",
              "      <th>Product_Info_4</th>\n",
              "      <th>Product_Info_5</th>\n",
              "      <th>Product_Info_6</th>\n",
              "      <th>Product_Info_7</th>\n",
              "      <th>Ins_Age</th>\n",
              "      <th>Ht</th>\n",
              "      <th>Wt</th>\n",
              "      <th>BMI</th>\n",
              "      <th>Employment_Info_1</th>\n",
              "      <th>Employment_Info_2</th>\n",
              "      <th>Employment_Info_3</th>\n",
              "      <th>Employment_Info_4</th>\n",
              "      <th>Employment_Info_5</th>\n",
              "      <th>Employment_Info_6</th>\n",
              "      <th>InsuredInfo_1</th>\n",
              "      <th>InsuredInfo_2</th>\n",
              "      <th>InsuredInfo_3</th>\n",
              "      <th>InsuredInfo_4</th>\n",
              "      <th>InsuredInfo_5</th>\n",
              "      <th>InsuredInfo_6</th>\n",
              "      <th>Insurance_History_1</th>\n",
              "      <th>Insurance_History_2</th>\n",
              "      <th>Insurance_History_3</th>\n",
              "      <th>Insurance_History_4</th>\n",
              "      <th>Insurance_History_5</th>\n",
              "      <th>Insurance_History_7</th>\n",
              "      <th>Insurance_History_8</th>\n",
              "      <th>Insurance_History_9</th>\n",
              "      <th>Family_Hist_1</th>\n",
              "      <th>Family_Hist_2</th>\n",
              "      <th>Family_Hist_3</th>\n",
              "      <th>Family_Hist_4</th>\n",
              "      <th>Medical_History_1</th>\n",
              "      <th>Medical_History_2</th>\n",
              "      <th>Medical_History_3</th>\n",
              "      <th>Medical_History_4</th>\n",
              "      <th>Medical_History_5</th>\n",
              "      <th>...</th>\n",
              "      <th>Medical_Keyword_12</th>\n",
              "      <th>Medical_Keyword_13</th>\n",
              "      <th>Medical_Keyword_14</th>\n",
              "      <th>Medical_Keyword_15</th>\n",
              "      <th>Medical_Keyword_16</th>\n",
              "      <th>Medical_Keyword_17</th>\n",
              "      <th>Medical_Keyword_18</th>\n",
              "      <th>Medical_Keyword_19</th>\n",
              "      <th>Medical_Keyword_20</th>\n",
              "      <th>Medical_Keyword_21</th>\n",
              "      <th>Medical_Keyword_22</th>\n",
              "      <th>Medical_Keyword_23</th>\n",
              "      <th>Medical_Keyword_24</th>\n",
              "      <th>Medical_Keyword_25</th>\n",
              "      <th>Medical_Keyword_26</th>\n",
              "      <th>Medical_Keyword_27</th>\n",
              "      <th>Medical_Keyword_28</th>\n",
              "      <th>Medical_Keyword_29</th>\n",
              "      <th>Medical_Keyword_30</th>\n",
              "      <th>Medical_Keyword_31</th>\n",
              "      <th>Medical_Keyword_32</th>\n",
              "      <th>Medical_Keyword_33</th>\n",
              "      <th>Medical_Keyword_34</th>\n",
              "      <th>Medical_Keyword_35</th>\n",
              "      <th>Medical_Keyword_36</th>\n",
              "      <th>Medical_Keyword_37</th>\n",
              "      <th>Medical_Keyword_38</th>\n",
              "      <th>Medical_Keyword_39</th>\n",
              "      <th>Medical_Keyword_40</th>\n",
              "      <th>Medical_Keyword_41</th>\n",
              "      <th>Medical_Keyword_42</th>\n",
              "      <th>Medical_Keyword_43</th>\n",
              "      <th>Medical_Keyword_44</th>\n",
              "      <th>Medical_Keyword_45</th>\n",
              "      <th>Medical_Keyword_46</th>\n",
              "      <th>Medical_Keyword_47</th>\n",
              "      <th>Medical_Keyword_48</th>\n",
              "      <th>Response</th>\n",
              "      <th>Female</th>\n",
              "      <th>Male</th>\n",
              "    </tr>\n",
              "  </thead>\n",
              "  <tbody>\n",
              "    <tr>\n",
              "      <th>0</th>\n",
              "      <td>1</td>\n",
              "      <td>7</td>\n",
              "      <td>26</td>\n",
              "      <td>0.230769</td>\n",
              "      <td>2</td>\n",
              "      <td>3</td>\n",
              "      <td>1</td>\n",
              "      <td>0.492537</td>\n",
              "      <td>0.563636</td>\n",
              "      <td>0.225941</td>\n",
              "      <td>0.510720</td>\n",
              "      <td>0.0244</td>\n",
              "      <td>9</td>\n",
              "      <td>1</td>\n",
              "      <td>0.0</td>\n",
              "      <td>2</td>\n",
              "      <td>0.05</td>\n",
              "      <td>2</td>\n",
              "      <td>2</td>\n",
              "      <td>3</td>\n",
              "      <td>3</td>\n",
              "      <td>1</td>\n",
              "      <td>1</td>\n",
              "      <td>2</td>\n",
              "      <td>1</td>\n",
              "      <td>1</td>\n",
              "      <td>3</td>\n",
              "      <td>NaN</td>\n",
              "      <td>3</td>\n",
              "      <td>2</td>\n",
              "      <td>3</td>\n",
              "      <td>3</td>\n",
              "      <td>0.681159</td>\n",
              "      <td>NaN</td>\n",
              "      <td>0.492958</td>\n",
              "      <td>0.0</td>\n",
              "      <td>112</td>\n",
              "      <td>2</td>\n",
              "      <td>2</td>\n",
              "      <td>1</td>\n",
              "      <td>...</td>\n",
              "      <td>0</td>\n",
              "      <td>0</td>\n",
              "      <td>0</td>\n",
              "      <td>0</td>\n",
              "      <td>0</td>\n",
              "      <td>0</td>\n",
              "      <td>0</td>\n",
              "      <td>0</td>\n",
              "      <td>0</td>\n",
              "      <td>0</td>\n",
              "      <td>0</td>\n",
              "      <td>0</td>\n",
              "      <td>0</td>\n",
              "      <td>0</td>\n",
              "      <td>0</td>\n",
              "      <td>0</td>\n",
              "      <td>0</td>\n",
              "      <td>0</td>\n",
              "      <td>0</td>\n",
              "      <td>0</td>\n",
              "      <td>0</td>\n",
              "      <td>0</td>\n",
              "      <td>0</td>\n",
              "      <td>0</td>\n",
              "      <td>0</td>\n",
              "      <td>0</td>\n",
              "      <td>0</td>\n",
              "      <td>0</td>\n",
              "      <td>0</td>\n",
              "      <td>0</td>\n",
              "      <td>0</td>\n",
              "      <td>0</td>\n",
              "      <td>0</td>\n",
              "      <td>0</td>\n",
              "      <td>0</td>\n",
              "      <td>0</td>\n",
              "      <td>0</td>\n",
              "      <td>7</td>\n",
              "      <td>1</td>\n",
              "      <td>0</td>\n",
              "    </tr>\n",
              "    <tr>\n",
              "      <th>1</th>\n",
              "      <td>1</td>\n",
              "      <td>15</td>\n",
              "      <td>26</td>\n",
              "      <td>1.000000</td>\n",
              "      <td>3</td>\n",
              "      <td>3</td>\n",
              "      <td>1</td>\n",
              "      <td>0.671642</td>\n",
              "      <td>0.781818</td>\n",
              "      <td>0.326360</td>\n",
              "      <td>0.453033</td>\n",
              "      <td>0.5000</td>\n",
              "      <td>3</td>\n",
              "      <td>1</td>\n",
              "      <td>0.5</td>\n",
              "      <td>2</td>\n",
              "      <td>1.00</td>\n",
              "      <td>1</td>\n",
              "      <td>2</td>\n",
              "      <td>8</td>\n",
              "      <td>3</td>\n",
              "      <td>1</td>\n",
              "      <td>1</td>\n",
              "      <td>2</td>\n",
              "      <td>1</td>\n",
              "      <td>3</td>\n",
              "      <td>1</td>\n",
              "      <td>0.006667</td>\n",
              "      <td>1</td>\n",
              "      <td>3</td>\n",
              "      <td>2</td>\n",
              "      <td>2</td>\n",
              "      <td>NaN</td>\n",
              "      <td>0.490196</td>\n",
              "      <td>NaN</td>\n",
              "      <td>4.0</td>\n",
              "      <td>161</td>\n",
              "      <td>2</td>\n",
              "      <td>1</td>\n",
              "      <td>1</td>\n",
              "      <td>...</td>\n",
              "      <td>0</td>\n",
              "      <td>0</td>\n",
              "      <td>0</td>\n",
              "      <td>0</td>\n",
              "      <td>0</td>\n",
              "      <td>0</td>\n",
              "      <td>0</td>\n",
              "      <td>0</td>\n",
              "      <td>0</td>\n",
              "      <td>0</td>\n",
              "      <td>0</td>\n",
              "      <td>0</td>\n",
              "      <td>0</td>\n",
              "      <td>0</td>\n",
              "      <td>0</td>\n",
              "      <td>0</td>\n",
              "      <td>0</td>\n",
              "      <td>0</td>\n",
              "      <td>0</td>\n",
              "      <td>0</td>\n",
              "      <td>0</td>\n",
              "      <td>0</td>\n",
              "      <td>0</td>\n",
              "      <td>0</td>\n",
              "      <td>0</td>\n",
              "      <td>0</td>\n",
              "      <td>0</td>\n",
              "      <td>0</td>\n",
              "      <td>0</td>\n",
              "      <td>0</td>\n",
              "      <td>0</td>\n",
              "      <td>0</td>\n",
              "      <td>0</td>\n",
              "      <td>0</td>\n",
              "      <td>0</td>\n",
              "      <td>0</td>\n",
              "      <td>0</td>\n",
              "      <td>6</td>\n",
              "      <td>0</td>\n",
              "      <td>1</td>\n",
              "    </tr>\n",
              "    <tr>\n",
              "      <th>2</th>\n",
              "      <td>1</td>\n",
              "      <td>15</td>\n",
              "      <td>26</td>\n",
              "      <td>0.230769</td>\n",
              "      <td>2</td>\n",
              "      <td>3</td>\n",
              "      <td>1</td>\n",
              "      <td>0.626866</td>\n",
              "      <td>0.745455</td>\n",
              "      <td>0.393305</td>\n",
              "      <td>0.598310</td>\n",
              "      <td>0.0400</td>\n",
              "      <td>9</td>\n",
              "      <td>1</td>\n",
              "      <td>0.0</td>\n",
              "      <td>2</td>\n",
              "      <td>0.60</td>\n",
              "      <td>1</td>\n",
              "      <td>2</td>\n",
              "      <td>4</td>\n",
              "      <td>3</td>\n",
              "      <td>1</td>\n",
              "      <td>1</td>\n",
              "      <td>1</td>\n",
              "      <td>3</td>\n",
              "      <td>3</td>\n",
              "      <td>1</td>\n",
              "      <td>0.000833</td>\n",
              "      <td>1</td>\n",
              "      <td>1</td>\n",
              "      <td>2</td>\n",
              "      <td>3</td>\n",
              "      <td>NaN</td>\n",
              "      <td>0.558824</td>\n",
              "      <td>NaN</td>\n",
              "      <td>3.0</td>\n",
              "      <td>3</td>\n",
              "      <td>2</td>\n",
              "      <td>1</td>\n",
              "      <td>1</td>\n",
              "      <td>...</td>\n",
              "      <td>0</td>\n",
              "      <td>0</td>\n",
              "      <td>0</td>\n",
              "      <td>0</td>\n",
              "      <td>0</td>\n",
              "      <td>0</td>\n",
              "      <td>0</td>\n",
              "      <td>0</td>\n",
              "      <td>0</td>\n",
              "      <td>0</td>\n",
              "      <td>0</td>\n",
              "      <td>1</td>\n",
              "      <td>0</td>\n",
              "      <td>1</td>\n",
              "      <td>0</td>\n",
              "      <td>0</td>\n",
              "      <td>0</td>\n",
              "      <td>0</td>\n",
              "      <td>0</td>\n",
              "      <td>0</td>\n",
              "      <td>1</td>\n",
              "      <td>0</td>\n",
              "      <td>0</td>\n",
              "      <td>1</td>\n",
              "      <td>0</td>\n",
              "      <td>1</td>\n",
              "      <td>0</td>\n",
              "      <td>0</td>\n",
              "      <td>0</td>\n",
              "      <td>0</td>\n",
              "      <td>0</td>\n",
              "      <td>0</td>\n",
              "      <td>0</td>\n",
              "      <td>0</td>\n",
              "      <td>0</td>\n",
              "      <td>0</td>\n",
              "      <td>0</td>\n",
              "      <td>1</td>\n",
              "      <td>0</td>\n",
              "      <td>1</td>\n",
              "    </tr>\n",
              "    <tr>\n",
              "      <th>3</th>\n",
              "      <td>1</td>\n",
              "      <td>17</td>\n",
              "      <td>26</td>\n",
              "      <td>0.230769</td>\n",
              "      <td>2</td>\n",
              "      <td>3</td>\n",
              "      <td>1</td>\n",
              "      <td>0.268657</td>\n",
              "      <td>0.690909</td>\n",
              "      <td>0.246862</td>\n",
              "      <td>0.410638</td>\n",
              "      <td>0.0300</td>\n",
              "      <td>9</td>\n",
              "      <td>1</td>\n",
              "      <td>0.0</td>\n",
              "      <td>2</td>\n",
              "      <td>0.00</td>\n",
              "      <td>1</td>\n",
              "      <td>2</td>\n",
              "      <td>6</td>\n",
              "      <td>2</td>\n",
              "      <td>1</td>\n",
              "      <td>1</td>\n",
              "      <td>2</td>\n",
              "      <td>1</td>\n",
              "      <td>1</td>\n",
              "      <td>3</td>\n",
              "      <td>NaN</td>\n",
              "      <td>3</td>\n",
              "      <td>2</td>\n",
              "      <td>3</td>\n",
              "      <td>2</td>\n",
              "      <td>0.536232</td>\n",
              "      <td>NaN</td>\n",
              "      <td>0.478873</td>\n",
              "      <td>12.0</td>\n",
              "      <td>261</td>\n",
              "      <td>2</td>\n",
              "      <td>2</td>\n",
              "      <td>1</td>\n",
              "      <td>...</td>\n",
              "      <td>0</td>\n",
              "      <td>0</td>\n",
              "      <td>0</td>\n",
              "      <td>0</td>\n",
              "      <td>0</td>\n",
              "      <td>0</td>\n",
              "      <td>0</td>\n",
              "      <td>0</td>\n",
              "      <td>0</td>\n",
              "      <td>0</td>\n",
              "      <td>0</td>\n",
              "      <td>0</td>\n",
              "      <td>0</td>\n",
              "      <td>0</td>\n",
              "      <td>0</td>\n",
              "      <td>0</td>\n",
              "      <td>0</td>\n",
              "      <td>0</td>\n",
              "      <td>0</td>\n",
              "      <td>0</td>\n",
              "      <td>0</td>\n",
              "      <td>0</td>\n",
              "      <td>0</td>\n",
              "      <td>0</td>\n",
              "      <td>0</td>\n",
              "      <td>0</td>\n",
              "      <td>0</td>\n",
              "      <td>0</td>\n",
              "      <td>0</td>\n",
              "      <td>0</td>\n",
              "      <td>0</td>\n",
              "      <td>0</td>\n",
              "      <td>0</td>\n",
              "      <td>0</td>\n",
              "      <td>0</td>\n",
              "      <td>0</td>\n",
              "      <td>0</td>\n",
              "      <td>4</td>\n",
              "      <td>1</td>\n",
              "      <td>0</td>\n",
              "    </tr>\n",
              "    <tr>\n",
              "      <th>4</th>\n",
              "      <td>1</td>\n",
              "      <td>18</td>\n",
              "      <td>10</td>\n",
              "      <td>0.230769</td>\n",
              "      <td>2</td>\n",
              "      <td>3</td>\n",
              "      <td>1</td>\n",
              "      <td>0.641791</td>\n",
              "      <td>0.581818</td>\n",
              "      <td>0.466527</td>\n",
              "      <td>1.000000</td>\n",
              "      <td>0.0280</td>\n",
              "      <td>9</td>\n",
              "      <td>1</td>\n",
              "      <td>0.0</td>\n",
              "      <td>3</td>\n",
              "      <td>1.00</td>\n",
              "      <td>1</td>\n",
              "      <td>2</td>\n",
              "      <td>8</td>\n",
              "      <td>3</td>\n",
              "      <td>1</td>\n",
              "      <td>1</td>\n",
              "      <td>2</td>\n",
              "      <td>1</td>\n",
              "      <td>3</td>\n",
              "      <td>1</td>\n",
              "      <td>0.000039</td>\n",
              "      <td>1</td>\n",
              "      <td>3</td>\n",
              "      <td>2</td>\n",
              "      <td>2</td>\n",
              "      <td>NaN</td>\n",
              "      <td>0.647059</td>\n",
              "      <td>NaN</td>\n",
              "      <td>1.0</td>\n",
              "      <td>112</td>\n",
              "      <td>3</td>\n",
              "      <td>2</td>\n",
              "      <td>1</td>\n",
              "      <td>...</td>\n",
              "      <td>0</td>\n",
              "      <td>0</td>\n",
              "      <td>0</td>\n",
              "      <td>1</td>\n",
              "      <td>0</td>\n",
              "      <td>0</td>\n",
              "      <td>0</td>\n",
              "      <td>0</td>\n",
              "      <td>0</td>\n",
              "      <td>0</td>\n",
              "      <td>0</td>\n",
              "      <td>0</td>\n",
              "      <td>0</td>\n",
              "      <td>1</td>\n",
              "      <td>0</td>\n",
              "      <td>0</td>\n",
              "      <td>0</td>\n",
              "      <td>0</td>\n",
              "      <td>0</td>\n",
              "      <td>0</td>\n",
              "      <td>0</td>\n",
              "      <td>0</td>\n",
              "      <td>0</td>\n",
              "      <td>0</td>\n",
              "      <td>0</td>\n",
              "      <td>0</td>\n",
              "      <td>0</td>\n",
              "      <td>0</td>\n",
              "      <td>0</td>\n",
              "      <td>0</td>\n",
              "      <td>1</td>\n",
              "      <td>0</td>\n",
              "      <td>0</td>\n",
              "      <td>0</td>\n",
              "      <td>1</td>\n",
              "      <td>0</td>\n",
              "      <td>0</td>\n",
              "      <td>2</td>\n",
              "      <td>1</td>\n",
              "      <td>0</td>\n",
              "    </tr>\n",
              "  </tbody>\n",
              "</table>\n",
              "<p>5 rows × 123 columns</p>\n",
              "</div>"
            ],
            "text/plain": [
              "   Product_Info_1  Product_Info_2  Product_Info_3  ...  Response  Female  Male\n",
              "0               1               7              26  ...         7       1     0\n",
              "1               1              15              26  ...         6       0     1\n",
              "2               1              15              26  ...         1       0     1\n",
              "3               1              17              26  ...         4       1     0\n",
              "4               1              18              10  ...         2       1     0\n",
              "\n",
              "[5 rows x 123 columns]"
            ]
          },
          "metadata": {
            "tags": []
          },
          "execution_count": 8
        }
      ]
    },
    {
      "cell_type": "markdown",
      "metadata": {
        "id": "EFkN2DV-n_Et",
        "colab_type": "text"
      },
      "source": [
        "##### Fill missing values by mean for other features;"
      ]
    },
    {
      "cell_type": "code",
      "metadata": {
        "id": "4thrGwu3RuvT",
        "colab_type": "code",
        "outputId": "f8f63aed-65d1-42bc-b603-37b91eacb963",
        "colab": {
          "base_uri": "https://localhost:8080/",
          "height": 297
        }
      },
      "source": [
        "missing_features = pd.DataFrame(data.dtypes,columns=['dtypes'])\n",
        "missing_features = missing_features.reset_index()\n",
        "missing_features['Name'] = missing_features['index']\n",
        "del missing_features['index']\n",
        "missing_features.reset_index(drop=True,inplace=True)\n",
        "missing_features = missing_features[data.isnull().sum().values!=0]\n",
        "missing_features"
      ],
      "execution_count": 0,
      "outputs": [
        {
          "output_type": "execute_result",
          "data": {
            "text/html": [
              "<div>\n",
              "<style scoped>\n",
              "    .dataframe tbody tr th:only-of-type {\n",
              "        vertical-align: middle;\n",
              "    }\n",
              "\n",
              "    .dataframe tbody tr th {\n",
              "        vertical-align: top;\n",
              "    }\n",
              "\n",
              "    .dataframe thead th {\n",
              "        text-align: right;\n",
              "    }\n",
              "</style>\n",
              "<table border=\"1\" class=\"dataframe\">\n",
              "  <thead>\n",
              "    <tr style=\"text-align: right;\">\n",
              "      <th></th>\n",
              "      <th>dtypes</th>\n",
              "      <th>Name</th>\n",
              "    </tr>\n",
              "  </thead>\n",
              "  <tbody>\n",
              "    <tr>\n",
              "      <th>11</th>\n",
              "      <td>float64</td>\n",
              "      <td>Employment_Info_1</td>\n",
              "    </tr>\n",
              "    <tr>\n",
              "      <th>14</th>\n",
              "      <td>float64</td>\n",
              "      <td>Employment_Info_4</td>\n",
              "    </tr>\n",
              "    <tr>\n",
              "      <th>16</th>\n",
              "      <td>float64</td>\n",
              "      <td>Employment_Info_6</td>\n",
              "    </tr>\n",
              "    <tr>\n",
              "      <th>27</th>\n",
              "      <td>float64</td>\n",
              "      <td>Insurance_History_5</td>\n",
              "    </tr>\n",
              "    <tr>\n",
              "      <th>32</th>\n",
              "      <td>float64</td>\n",
              "      <td>Family_Hist_2</td>\n",
              "    </tr>\n",
              "    <tr>\n",
              "      <th>33</th>\n",
              "      <td>float64</td>\n",
              "      <td>Family_Hist_3</td>\n",
              "    </tr>\n",
              "    <tr>\n",
              "      <th>34</th>\n",
              "      <td>float64</td>\n",
              "      <td>Family_Hist_4</td>\n",
              "    </tr>\n",
              "    <tr>\n",
              "      <th>35</th>\n",
              "      <td>float64</td>\n",
              "      <td>Medical_History_1</td>\n",
              "    </tr>\n",
              "  </tbody>\n",
              "</table>\n",
              "</div>"
            ],
            "text/plain": [
              "     dtypes                 Name\n",
              "11  float64    Employment_Info_1\n",
              "14  float64    Employment_Info_4\n",
              "16  float64    Employment_Info_6\n",
              "27  float64  Insurance_History_5\n",
              "32  float64        Family_Hist_2\n",
              "33  float64        Family_Hist_3\n",
              "34  float64        Family_Hist_4\n",
              "35  float64    Medical_History_1"
            ]
          },
          "metadata": {
            "tags": []
          },
          "execution_count": 9
        }
      ]
    },
    {
      "cell_type": "code",
      "metadata": {
        "id": "FPs_oB-rRwEU",
        "colab_type": "code",
        "outputId": "e478d109-ae47-4867-be5a-c8e53552cab5",
        "colab": {
          "base_uri": "https://localhost:8080/",
          "height": 34
        }
      },
      "source": [
        "# as they are all float data, we can then fill them by mean directly\n",
        "data.fillna(data.mean()[missing_features.Name],inplace=True)\n",
        "print('now we have ',data.isnull().sum().values.sum(),' missing value')"
      ],
      "execution_count": 0,
      "outputs": [
        {
          "output_type": "stream",
          "text": [
            "now we have  0  missing value\n"
          ],
          "name": "stdout"
        }
      ]
    },
    {
      "cell_type": "markdown",
      "metadata": {
        "id": "EGmes46moElU",
        "colab_type": "text"
      },
      "source": [
        "##### See variance again and delete top5 features with the lowest variance"
      ]
    },
    {
      "cell_type": "code",
      "metadata": {
        "id": "KZPsYs89RzKM",
        "colab_type": "code",
        "outputId": "cbfab63e-8563-40c2-c93e-1bda4cac6d18",
        "colab": {
          "base_uri": "https://localhost:8080/",
          "height": 136
        }
      },
      "source": [
        "tabel_var = data[data.columns].var().sort_values(ascending=True)\n",
        "tabel_var = tabel_var.head(5)\n",
        "print(tabel_var)\n",
        "tabel_var.reset_index()\n",
        "for column in tabel_var.index.tolist():\n",
        "    del data[column]\n",
        "gc.collect()"
      ],
      "execution_count": 0,
      "outputs": [
        {
          "output_type": "stream",
          "text": [
            "Insurance_History_5    0.000031\n",
            "Employment_Info_4      0.000960\n",
            "Medical_History_35     0.004108\n",
            "Medical_History_38     0.004819\n",
            "Ht                     0.005513\n",
            "dtype: float64\n"
          ],
          "name": "stdout"
        },
        {
          "output_type": "execute_result",
          "data": {
            "text/plain": [
              "44"
            ]
          },
          "metadata": {
            "tags": []
          },
          "execution_count": 11
        }
      ]
    },
    {
      "cell_type": "markdown",
      "metadata": {
        "id": "r7FvsUxXoJrY",
        "colab_type": "text"
      },
      "source": [
        "##### See correlation again to delete top5 features with the lowest correlation to the targe"
      ]
    },
    {
      "cell_type": "code",
      "metadata": {
        "id": "BYDXJn_uR0iC",
        "colab_type": "code",
        "outputId": "5f6a9509-09c5-403a-cf3e-22ba73b14683",
        "colab": {
          "base_uri": "https://localhost:8080/",
          "height": 136
        }
      },
      "source": [
        "X_temp = data\n",
        "X_temp = X_temp.corr()\n",
        "tabel_corr = abs(X_temp[['Response']]).sort_values(by=['Response'],ascending=True)\n",
        "tabel_corr = tabel_corr.head(5)\n",
        "print(tabel_corr)\n",
        "tabel_corr.reset_index()\n",
        "for column in tabel_corr.index.tolist():\n",
        "    del data[column]\n",
        "del X_temp\n",
        "gc.collect()"
      ],
      "execution_count": 0,
      "outputs": [
        {
          "output_type": "stream",
          "text": [
            "                     Response\n",
            "Insurance_History_4  0.000594\n",
            "Medical_History_25   0.000598\n",
            "Medical_History_36   0.000748\n",
            "Medical_History_26   0.000777\n",
            "Insurance_History_1  0.000885\n"
          ],
          "name": "stdout"
        },
        {
          "output_type": "execute_result",
          "data": {
            "text/plain": [
              "33"
            ]
          },
          "metadata": {
            "tags": []
          },
          "execution_count": 12
        }
      ]
    },
    {
      "cell_type": "code",
      "metadata": {
        "id": "-87LxS9VR14W",
        "colab_type": "code",
        "outputId": "f98dd61f-1065-4eda-bb29-e34102603b7a",
        "colab": {
          "base_uri": "https://localhost:8080/",
          "height": 51
        }
      },
      "source": [
        "print(data.shape)\n",
        "y_data = data['Response']\n",
        "del data['Response']\n",
        "gc.collect()"
      ],
      "execution_count": 0,
      "outputs": [
        {
          "output_type": "stream",
          "text": [
            "(58852, 113)\n"
          ],
          "name": "stdout"
        },
        {
          "output_type": "execute_result",
          "data": {
            "text/plain": [
              "0"
            ]
          },
          "metadata": {
            "tags": []
          },
          "execution_count": 13
        }
      ]
    },
    {
      "cell_type": "markdown",
      "metadata": {
        "id": "9xNle8fgoNLH",
        "colab_type": "text"
      },
      "source": [
        "### Data Modeling"
      ]
    },
    {
      "cell_type": "markdown",
      "metadata": {
        "id": "X8fsO6TQoagN",
        "colab_type": "text"
      },
      "source": [
        "#### Plan:\n",
        "    a. Seperate training set into training set and validation set (used in step b,c);\n",
        "    b. Use some simple models like SVC, KNN to see the baseline;\n",
        "    c. Use some avanced models like random forest;\n",
        "    d. If the result isn't good enough, we will try to use xgboost and cross validation to make a voting."
      ]
    },
    {
      "cell_type": "code",
      "metadata": {
        "id": "23Z8DYb_mYQ6",
        "colab_type": "code",
        "outputId": "40b14a47-f5f4-4b86-c276-19baed4c7db9",
        "colab": {
          "base_uri": "https://localhost:8080/",
          "height": 51
        }
      },
      "source": [
        "from sklearn.model_selection import train_test_split\n",
        "X_train, X_validation, y_train, y_validation = train_test_split(data, y_data, \n",
        "                                                                test_size=0.25, stratify=y_data,random_state=0)\n",
        "print(X_train.shape)\n",
        "print(X_validation.shape)"
      ],
      "execution_count": 0,
      "outputs": [
        {
          "output_type": "stream",
          "text": [
            "(44139, 112)\n",
            "(14713, 112)\n"
          ],
          "name": "stdout"
        }
      ]
    },
    {
      "cell_type": "markdown",
      "metadata": {
        "id": "tXayy410oeTe",
        "colab_type": "text"
      },
      "source": [
        "##### SVC"
      ]
    },
    {
      "cell_type": "code",
      "metadata": {
        "id": "BAQOH9Kima9U",
        "colab_type": "code",
        "colab": {}
      },
      "source": [
        "# # wait for five minutes still no result, maybe it's memory issue\n",
        "# from sklearn.svm import SVC\n",
        "# clf = SVC(C=0.5)\n",
        "# clf.fit(X_train,y_train)\n",
        "# print('validation set presicion:',clf.score(X_validation,y_validation))\n",
        "# print('training set precision:',clf.score(X_train,y_train))"
      ],
      "execution_count": 0,
      "outputs": []
    },
    {
      "cell_type": "markdown",
      "metadata": {
        "id": "XywU8GlCo1eD",
        "colab_type": "text"
      },
      "source": [
        "##### KNN"
      ]
    },
    {
      "cell_type": "code",
      "metadata": {
        "id": "EA0UK4R6mdUa",
        "colab_type": "code",
        "outputId": "1b6ea778-eda7-4162-a1e3-c3ce3854a3ea",
        "colab": {
          "base_uri": "https://localhost:8080/",
          "height": 51
        }
      },
      "source": [
        "from sklearn.metrics import accuracy_score\n",
        "from sklearn.neighbors import KNeighborsClassifier\n",
        "clf = KNeighborsClassifier(n_neighbors=7)\n",
        "clf.fit(X_train, y_train)\n",
        "y_pred = clf.predict(X_validation)\n",
        "print('validation set presicion:',accuracy_score(y_validation, y_pred))\n",
        "y_pred = clf.predict(X_train)\n",
        "print('training set precision:',accuracy_score(y_train, y_pred))"
      ],
      "execution_count": 0,
      "outputs": [
        {
          "output_type": "stream",
          "text": [
            "validation set presicion: 0.3190375858084687\n",
            "training set precision: 0.48088991594734815\n"
          ],
          "name": "stdout"
        }
      ]
    },
    {
      "cell_type": "markdown",
      "metadata": {
        "id": "FjLyLsoQo7K8",
        "colab_type": "text"
      },
      "source": [
        "##### Random Forest"
      ]
    },
    {
      "cell_type": "code",
      "metadata": {
        "id": "A-STX5TcmexB",
        "colab_type": "code",
        "outputId": "c75d0cba-83d9-46f1-ae24-4ec9c8f651b1",
        "colab": {
          "base_uri": "https://localhost:8080/",
          "height": 51
        }
      },
      "source": [
        "# here we can also use grid search to find the best hyperparameters to tune the model\n",
        "from sklearn.ensemble import RandomForestClassifier\n",
        "clf_rf = RandomForestClassifier(max_depth=10,n_estimators=2000)\n",
        "clf_rf.fit(X_train,y_train)\n",
        "print('validation set presicion:',clf_rf.score(X_validation,y_validation))\n",
        "print('training set precision:',clf_rf.score(X_train,y_train))"
      ],
      "execution_count": 0,
      "outputs": [
        {
          "output_type": "stream",
          "text": [
            "validation set presicion: 0.5102970162441378\n",
            "training set precision: 0.5709463286436032\n"
          ],
          "name": "stdout"
        }
      ]
    },
    {
      "cell_type": "markdown",
      "metadata": {
        "id": "5NSzzJERpAiS",
        "colab_type": "text"
      },
      "source": [
        "##### XGBoost"
      ]
    },
    {
      "cell_type": "code",
      "metadata": {
        "id": "TA6-vCemR5t3",
        "colab_type": "code",
        "outputId": "54d2525a-ba19-4679-964b-501800e08a49",
        "colab": {
          "base_uri": "https://localhost:8080/",
          "height": 952
        }
      },
      "source": [
        "from xgboost import XGBClassifier\n",
        "from xgboost import plot_importance\n",
        "from sklearn.model_selection import KFold, StratifiedKFold\n",
        "import xgboost as xgb\n",
        "from tqdm import tqdm\n",
        "folds = 4\n",
        "seed = 0\n",
        "kf = StratifiedKFold(n_splits=folds, shuffle=True, random_state=seed)\n",
        "models = []\n",
        "for tr_idx, val_idx in tqdm(kf.split(data,y_data)):\n",
        "    def fit_classifier(tr_idx, val_idx):\n",
        "        tr_x, tr_y = data[list(data)].iloc[tr_idx], y_data[tr_idx]\n",
        "        vl_x, vl_y = data[list(data)].iloc[val_idx], y_data[val_idx]\n",
        "        print({'train size':len(tr_x), 'eval size':len(vl_x)})\n",
        "\n",
        "        tr_data = xgb.DMatrix(tr_x, label=tr_y)\n",
        "        vl_data = xgb.DMatrix(vl_x, label=vl_y)  \n",
        "        clf = xgb.XGBClassifier(n_estimators=2000,\n",
        "                                learning_rate=0.01,\n",
        "                                feature_fraction=0.9,\n",
        "                                subsample=0.25,  # batches of 25% of the data\n",
        "                                subsample_freq=1,\n",
        "                                lambda_l1=0.2,  # regularisation\n",
        "                                lambda_l2=0.2,\n",
        "                                num_leaves=30,\n",
        "                                tree_method = 'gpu_hist',\n",
        "                                metric='mse')\n",
        "        clf.fit(tr_x, tr_y,\n",
        "                eval_set=[(tr_x, tr_y),(vl_x, vl_y)],\n",
        "                early_stopping_rounds=150,\n",
        "                verbose=250)\n",
        "        return clf\n",
        "    clf = fit_classifier(tr_idx, val_idx)\n",
        "    models.append(clf)"
      ],
      "execution_count": 0,
      "outputs": [
        {
          "output_type": "stream",
          "text": [
            "\r0it [00:00, ?it/s]"
          ],
          "name": "stderr"
        },
        {
          "output_type": "stream",
          "text": [
            "{'train size': 44139, 'eval size': 14713}\n",
            "[0]\tvalidation_0-merror:0.502526\tvalidation_1-merror:0.506287\n",
            "Multiple eval metrics have been passed: 'validation_1-merror' will be used for early stopping.\n",
            "\n",
            "Will train until validation_1-merror hasn't improved in 150 rounds.\n",
            "[250]\tvalidation_0-merror:0.481071\tvalidation_1-merror:0.478352\n",
            "[500]\tvalidation_0-merror:0.471533\tvalidation_1-merror:0.4721\n",
            "[750]\tvalidation_0-merror:0.461972\tvalidation_1-merror:0.465371\n",
            "[1000]\tvalidation_0-merror:0.454609\tvalidation_1-merror:0.459729\n",
            "[1250]\tvalidation_0-merror:0.448991\tvalidation_1-merror:0.456399\n",
            "[1500]\tvalidation_0-merror:0.44378\tvalidation_1-merror:0.454292\n",
            "[1750]\tvalidation_0-merror:0.440314\tvalidation_1-merror:0.452185\n",
            "Stopping. Best iteration:\n",
            "[1713]\tvalidation_0-merror:0.440721\tvalidation_1-merror:0.451573\n",
            "\n"
          ],
          "name": "stdout"
        },
        {
          "output_type": "stream",
          "text": [
            "\r1it [00:57, 57.17s/it]"
          ],
          "name": "stderr"
        },
        {
          "output_type": "stream",
          "text": [
            "{'train size': 44139, 'eval size': 14713}\n",
            "[0]\tvalidation_0-merror:0.500918\tvalidation_1-merror:0.506083\n",
            "Multiple eval metrics have been passed: 'validation_1-merror' will be used for early stopping.\n",
            "\n",
            "Will train until validation_1-merror hasn't improved in 150 rounds.\n",
            "[250]\tvalidation_0-merror:0.478692\tvalidation_1-merror:0.484537\n",
            "[500]\tvalidation_0-merror:0.468588\tvalidation_1-merror:0.478624\n",
            "[750]\tvalidation_0-merror:0.459752\tvalidation_1-merror:0.47108\n",
            "[1000]\tvalidation_0-merror:0.452344\tvalidation_1-merror:0.466662\n",
            "[1250]\tvalidation_0-merror:0.446431\tvalidation_1-merror:0.461701\n",
            "[1500]\tvalidation_0-merror:0.441492\tvalidation_1-merror:0.45905\n",
            "[1750]\tvalidation_0-merror:0.436689\tvalidation_1-merror:0.456467\n",
            "[1999]\tvalidation_0-merror:0.432248\tvalidation_1-merror:0.455719\n"
          ],
          "name": "stdout"
        },
        {
          "output_type": "stream",
          "text": [
            "\r2it [01:58, 58.41s/it]"
          ],
          "name": "stderr"
        },
        {
          "output_type": "stream",
          "text": [
            "{'train size': 44139, 'eval size': 14713}\n",
            "[0]\tvalidation_0-merror:0.506763\tvalidation_1-merror:0.507918\n",
            "Multiple eval metrics have been passed: 'validation_1-merror' will be used for early stopping.\n",
            "\n",
            "Will train until validation_1-merror hasn't improved in 150 rounds.\n",
            "[250]\tvalidation_0-merror:0.479712\tvalidation_1-merror:0.481003\n",
            "[500]\tvalidation_0-merror:0.468928\tvalidation_1-merror:0.475566\n",
            "[750]\tvalidation_0-merror:0.460681\tvalidation_1-merror:0.471896\n",
            "[1000]\tvalidation_0-merror:0.452955\tvalidation_1-merror:0.46639\n",
            "[1250]\tvalidation_0-merror:0.447631\tvalidation_1-merror:0.461972\n",
            "[1500]\tvalidation_0-merror:0.442103\tvalidation_1-merror:0.459662\n",
            "[1750]\tvalidation_0-merror:0.436553\tvalidation_1-merror:0.45803\n",
            "[1999]\tvalidation_0-merror:0.433336\tvalidation_1-merror:0.455719\n"
          ],
          "name": "stdout"
        },
        {
          "output_type": "stream",
          "text": [
            "\r3it [02:59, 59.24s/it]"
          ],
          "name": "stderr"
        },
        {
          "output_type": "stream",
          "text": [
            "{'train size': 44139, 'eval size': 14713}\n",
            "[0]\tvalidation_0-merror:0.499649\tvalidation_1-merror:0.504316\n",
            "Multiple eval metrics have been passed: 'validation_1-merror' will be used for early stopping.\n",
            "\n",
            "Will train until validation_1-merror hasn't improved in 150 rounds.\n",
            "[250]\tvalidation_0-merror:0.478556\tvalidation_1-merror:0.485489\n",
            "[500]\tvalidation_0-merror:0.469607\tvalidation_1-merror:0.478217\n",
            "[750]\tvalidation_0-merror:0.46093\tvalidation_1-merror:0.47108\n",
            "[1000]\tvalidation_0-merror:0.453794\tvalidation_1-merror:0.46741\n",
            "[1250]\tvalidation_0-merror:0.447292\tvalidation_1-merror:0.464419\n",
            "[1500]\tvalidation_0-merror:0.442194\tvalidation_1-merror:0.46272\n",
            "[1750]\tvalidation_0-merror:0.437323\tvalidation_1-merror:0.460681\n",
            "[1999]\tvalidation_0-merror:0.432882\tvalidation_1-merror:0.460273\n"
          ],
          "name": "stdout"
        },
        {
          "output_type": "stream",
          "text": [
            "\r4it [04:00, 59.67s/it]\n"
          ],
          "name": "stderr"
        }
      ]
    },
    {
      "cell_type": "code",
      "metadata": {
        "id": "ZKoASWLT46Ub",
        "colab_type": "code",
        "outputId": "28046ae0-f271-4f9e-fea2-45b29a4811cf",
        "colab": {
          "base_uri": "https://localhost:8080/",
          "height": 34
        }
      },
      "source": [
        "res_preds = []\n",
        "for i in range(4):\n",
        "  res_preds.append(models[i].predict(data))\n",
        "res = []\n",
        "for i in range(len(y_data)):\n",
        "  res_temp = []\n",
        "  for j in range(4): \n",
        "    res_temp.append(res_preds[j][i])\n",
        "  res.append(np.argmax(np.bincount(res_temp)))\n",
        "from sklearn.metrics import accuracy_score\n",
        "print('total dataset precision 4 models hard voting:',accuracy_score(y_data, res))"
      ],
      "execution_count": 0,
      "outputs": [
        {
          "output_type": "stream",
          "text": [
            "total dataset precision 4 models hard voting: 0.5604567389383538\n"
          ],
          "name": "stdout"
        }
      ]
    },
    {
      "cell_type": "code",
      "metadata": {
        "id": "IwQxeTaeddCu",
        "colab_type": "code",
        "outputId": "268c6584-a771-403d-a659-91569badeaaf",
        "colab": {
          "base_uri": "https://localhost:8080/",
          "height": 34
        }
      },
      "source": [
        "res_preds = []\n",
        "for i in range(4):\n",
        "  res_preds.append(models[i].predict(data))\n",
        "res_preds.append(clf_rf.predict(data))\n",
        "res = []\n",
        "for i in range(len(y_data)):\n",
        "  res_temp = []\n",
        "  for j in range(5): \n",
        "    res_temp.append(res_preds[j][i])\n",
        "  res.append(np.argmax(np.bincount(res_temp)))\n",
        "from sklearn.metrics import accuracy_score\n",
        "print('total dataset precision 5 models hard voting:',accuracy_score(y_data, res))"
      ],
      "execution_count": 0,
      "outputs": [
        {
          "output_type": "stream",
          "text": [
            "total dataset precision 5 models hard voting: 0.561782097464827\n"
          ],
          "name": "stdout"
        }
      ]
    },
    {
      "cell_type": "markdown",
      "metadata": {
        "id": "0HOxpuNPID5n",
        "colab_type": "text"
      },
      "source": [
        "#### Select features that appear in the top 20 rankings of feature importance of tree-based models (1 random forest model and 4 xgboost models) "
      ]
    },
    {
      "cell_type": "code",
      "metadata": {
        "id": "Xzuqyz5zmiFg",
        "colab_type": "code",
        "outputId": "d2082d8e-557c-43ef-8640-f0b6fe3281d1",
        "colab": {
          "base_uri": "https://localhost:8080/",
          "height": 697
        }
      },
      "source": [
        "# random forest feature importance rank\n",
        "feat_labels = X_train.columns\n",
        "rf_importances = clf_rf.feature_importances_\n",
        "indices = np.argsort(rf_importances)[::-1]\n",
        "rf_important_features = []\n",
        "for f in range(40):\n",
        "    rf_important_features.append(feat_labels[indices[f]])\n",
        "    print(\"%2d) %-*s %f\" % (f + 1, 40, feat_labels[indices[f]], rf_importances[indices[f]]))"
      ],
      "execution_count": 0,
      "outputs": [
        {
          "output_type": "stream",
          "text": [
            " 1) BMI                                      0.194663\n",
            " 2) Wt                                       0.133441\n",
            " 3) Medical_History_4                        0.083291\n",
            " 4) Product_Info_4                           0.068074\n",
            " 5) Medical_History_23                       0.067155\n",
            " 6) Medical_Keyword_15                       0.062167\n",
            " 7) Ins_Age                                  0.032093\n",
            " 8) Medical_Keyword_3                        0.030486\n",
            " 9) Female                                   0.019876\n",
            "10) Male                                     0.019122\n",
            "11) Medical_History_39                       0.018378\n",
            "12) Family_Hist_4                            0.017983\n",
            "13) Product_Info_2                           0.015900\n",
            "14) Family_Hist_2                            0.014435\n",
            "15) Family_Hist_3                            0.013111\n",
            "16) Medical_History_1                        0.012651\n",
            "17) Employment_Info_1                        0.012545\n",
            "18) Employment_Info_6                        0.009584\n",
            "19) Medical_History_2                        0.008028\n",
            "20) Medical_History_30                       0.007429\n",
            "21) Medical_History_33                       0.007275\n",
            "22) Medical_Keyword_23                       0.006972\n",
            "23) Employment_Info_2                        0.006610\n",
            "24) Medical_History_40                       0.006413\n",
            "25) Medical_History_6                        0.005528\n",
            "26) Medical_Keyword_48                       0.005423\n",
            "27) InsuredInfo_3                            0.005220\n",
            "28) Family_Hist_1                            0.005068\n",
            "29) Medical_History_13                       0.004950\n",
            "30) Medical_History_28                       0.004386\n",
            "31) Employment_Info_3                        0.003913\n",
            "32) Medical_History_16                       0.003885\n",
            "33) Product_Info_3                           0.003767\n",
            "34) Medical_Keyword_25                       0.003444\n",
            "35) Insurance_History_2                      0.003075\n",
            "36) InsuredInfo_6                            0.003030\n",
            "37) Insurance_History_8                      0.002978\n",
            "38) InsuredInfo_1                            0.002893\n",
            "39) Insurance_History_7                      0.002800\n",
            "40) InsuredInfo_2                            0.002546\n"
          ],
          "name": "stdout"
        }
      ]
    },
    {
      "cell_type": "code",
      "metadata": {
        "id": "_wr2INqQum7o",
        "colab_type": "code",
        "outputId": "f5f2444f-612f-4c9f-e067-090a177a9e21",
        "colab": {
          "base_uri": "https://localhost:8080/",
          "height": 513
        }
      },
      "source": [
        "import matplotlib.pyplot as plt\n",
        "plt.rcParams['figure.figsize'] = (18, 8)\n",
        "_ = xgb.plot_importance(models[0], importance_type='total_gain',max_num_features=40)"
      ],
      "execution_count": 0,
      "outputs": [
        {
          "output_type": "display_data",
          "data": {
            "image/png": "[encoded data removed]",
            "text/plain": [
              "<Figure size 1296x576 with 1 Axes>"
            ]
          },
          "metadata": {
            "tags": []
          }
        }
      ]
    },
    {
      "cell_type": "code",
      "metadata": {
        "id": "daBdx4OJwBJr",
        "colab_type": "code",
        "colab": {}
      },
      "source": [
        "# xgb_importance1=pd.DataFrame({'importance':models[0].feature_importances_,'var':data.columns})\n",
        "feature_importance = [[],[],[],[]]\n",
        "for i in range(4):\n",
        "  xgb_importance = models[i].get_booster().get_score(importance_type=\"total_gain\")\n",
        "  xgb_importance = sorted(xgb_importance.items(),key=lambda item:item[-1],reverse=True)\n",
        "  for item in xgb_importance:\n",
        "    feature_importance[i].append(item[0])\n",
        "  feature_importance[i] = feature_importance[i][:25]"
      ],
      "execution_count": 0,
      "outputs": []
    },
    {
      "cell_type": "code",
      "metadata": {
        "id": "TBJ8MVxg2hQF",
        "colab_type": "code",
        "outputId": "dec7752d-3087-4ec1-c5e1-7b1431e3b0c5",
        "colab": {
          "base_uri": "https://localhost:8080/",
          "height": 71
        }
      },
      "source": [
        "important_features = [x for x in feature_importance[0] if (x in feature_importance[1])and(x in feature_importance[2])and(x in feature_importance[3]and(x in rf_important_features))]\n",
        "print(important_features)\n",
        "print(len(important_features),'features')"
      ],
      "execution_count": 0,
      "outputs": [
        {
          "output_type": "stream",
          "text": [
            "['BMI', 'Product_Info_4', 'Medical_History_4', 'Ins_Age', 'Wt', 'Medical_History_23', 'Medical_Keyword_3', 'Medical_Keyword_15', 'Product_Info_2', 'Family_Hist_3', 'Employment_Info_1', 'Medical_History_1', 'Family_Hist_4', 'Employment_Info_6', 'Medical_History_2', 'Family_Hist_2', 'Female', 'Medical_History_30', 'Employment_Info_2', 'Medical_History_40', 'Medical_History_13', 'InsuredInfo_3']\n",
            "22 features\n"
          ],
          "name": "stdout"
        }
      ]
    },
    {
      "cell_type": "markdown",
      "metadata": {
        "id": "pilRaVfdDD-_",
        "colab_type": "text"
      },
      "source": [
        "#### Run XGBoost and Random Forest again using new set of features"
      ]
    },
    {
      "cell_type": "code",
      "metadata": {
        "id": "dIy6cebsAYdK",
        "colab_type": "code",
        "outputId": "55d3261c-793d-481c-ec2e-ea2341c11d1a",
        "colab": {
          "base_uri": "https://localhost:8080/",
          "height": 51
        }
      },
      "source": [
        "# here we can also use grid search to find the best hyperparameters to tune the model\n",
        "from sklearn.ensemble import RandomForestClassifier\n",
        "clf_rf = RandomForestClassifier(max_depth=10,n_estimators=2000)\n",
        "clf_rf.fit(X_train[important_features],y_train)\n",
        "print('validation set presicion:',clf_rf.score(X_validation[important_features],y_validation))\n",
        "print('training set precision:',clf_rf.score(X_train[important_features],y_train))"
      ],
      "execution_count": 0,
      "outputs": [
        {
          "output_type": "stream",
          "text": [
            "validation set presicion: 0.5237545028206348\n",
            "training set precision: 0.589138856793312\n"
          ],
          "name": "stdout"
        }
      ]
    },
    {
      "cell_type": "code",
      "metadata": {
        "id": "-q0Xej-IBQt3",
        "colab_type": "code",
        "outputId": "83dae495-3638-4d65-be7a-851c0626c45f",
        "colab": {
          "base_uri": "https://localhost:8080/",
          "height": 697
        }
      },
      "source": [
        "from xgboost import XGBClassifier\n",
        "from xgboost import plot_importance\n",
        "from sklearn.model_selection import KFold, StratifiedKFold\n",
        "import xgboost as xgb\n",
        "from tqdm import tqdm\n",
        "folds = 4\n",
        "seed = 0\n",
        "kf = StratifiedKFold(n_splits=folds, shuffle=True, random_state=seed)\n",
        "models2 = []\n",
        "for tr_idx, val_idx in tqdm(kf.split(data[important_features],y_data)):\n",
        "    def fit_classifier(tr_idx, val_idx):\n",
        "        tr_x, tr_y = data[important_features][list(data[important_features])].iloc[tr_idx], y_data[tr_idx]\n",
        "        vl_x, vl_y = data[important_features][list(data[important_features])].iloc[val_idx], y_data[val_idx]\n",
        "        print({'train size':len(tr_x), 'eval size':len(vl_x)})\n",
        "\n",
        "        tr_data = xgb.DMatrix(tr_x, label=tr_y)\n",
        "        vl_data = xgb.DMatrix(vl_x, label=vl_y)  \n",
        "        xgb.XGBClassifier()\n",
        "        clf = xgb.XGBClassifier(n_estimators=2000,\n",
        "                                learning_rate=0.01,\n",
        "                                feature_fraction=1,\n",
        "                                max_depth = 10,\n",
        "                                subsample=0.25,  \n",
        "                                subsample_freq=1,\n",
        "                                lambda_l1=0.3,  \n",
        "                                lambda_l2=0.3,\n",
        "                                num_leaves=30,\n",
        "                                tree_method = 'gpu_hist',\n",
        "                                metric='mse')\n",
        "        clf.fit(tr_x, tr_y,\n",
        "                eval_set=[(tr_x, tr_y),(vl_x, vl_y)],\n",
        "                early_stopping_rounds=150,\n",
        "                verbose=250)\n",
        "        return clf\n",
        "    clf = fit_classifier(tr_idx, val_idx)\n",
        "    models2.append(clf)"
      ],
      "execution_count": 0,
      "outputs": [
        {
          "output_type": "stream",
          "text": [
            "\r0it [00:00, ?it/s]"
          ],
          "name": "stderr"
        },
        {
          "output_type": "stream",
          "text": [
            "{'train size': 44139, 'eval size': 14713}\n",
            "[0]\tvalidation_0-merror:0.481343\tvalidation_1-merror:0.510501\n",
            "Multiple eval metrics have been passed: 'validation_1-merror' will be used for early stopping.\n",
            "\n",
            "Will train until validation_1-merror hasn't improved in 150 rounds.\n",
            "[250]\tvalidation_0-merror:0.376991\tvalidation_1-merror:0.456807\n",
            "Stopping. Best iteration:\n",
            "[220]\tvalidation_0-merror:0.382768\tvalidation_1-merror:0.456059\n",
            "\n"
          ],
          "name": "stdout"
        },
        {
          "output_type": "stream",
          "text": [
            "\r1it [00:54, 54.92s/it]"
          ],
          "name": "stderr"
        },
        {
          "output_type": "stream",
          "text": [
            "{'train size': 44139, 'eval size': 14713}\n",
            "[0]\tvalidation_0-merror:0.471669\tvalidation_1-merror:0.506695\n",
            "Multiple eval metrics have been passed: 'validation_1-merror' will be used for early stopping.\n",
            "\n",
            "Will train until validation_1-merror hasn't improved in 150 rounds.\n",
            "[250]\tvalidation_0-merror:0.378645\tvalidation_1-merror:0.464079\n",
            "Stopping. Best iteration:\n",
            "[288]\tvalidation_0-merror:0.373139\tvalidation_1-merror:0.46272\n",
            "\n"
          ],
          "name": "stdout"
        },
        {
          "output_type": "stream",
          "text": [
            "\r2it [01:58, 57.60s/it]"
          ],
          "name": "stderr"
        },
        {
          "output_type": "stream",
          "text": [
            "{'train size': 44139, 'eval size': 14713}\n",
            "[0]\tvalidation_0-merror:0.47611\tvalidation_1-merror:0.509006\n",
            "Multiple eval metrics have been passed: 'validation_1-merror' will be used for early stopping.\n",
            "\n",
            "Will train until validation_1-merror hasn't improved in 150 rounds.\n",
            "[250]\tvalidation_0-merror:0.377104\tvalidation_1-merror:0.469721\n",
            "[500]\tvalidation_0-merror:0.337887\tvalidation_1-merror:0.466526\n",
            "[750]\tvalidation_0-merror:0.296948\tvalidation_1-merror:0.466526\n",
            "Stopping. Best iteration:\n",
            "[632]\tvalidation_0-merror:0.316772\tvalidation_1-merror:0.465507\n",
            "\n"
          ],
          "name": "stdout"
        },
        {
          "output_type": "stream",
          "text": [
            "\r3it [03:49, 73.41s/it]"
          ],
          "name": "stderr"
        },
        {
          "output_type": "stream",
          "text": [
            "{'train size': 44139, 'eval size': 14713}\n",
            "[0]\tvalidation_0-merror:0.471488\tvalidation_1-merror:0.511792\n",
            "Multiple eval metrics have been passed: 'validation_1-merror' will be used for early stopping.\n",
            "\n",
            "Will train until validation_1-merror hasn't improved in 150 rounds.\n",
            "[250]\tvalidation_0-merror:0.377671\tvalidation_1-merror:0.466458\n",
            "[500]\tvalidation_0-merror:0.339858\tvalidation_1-merror:0.465643\n",
            "Stopping. Best iteration:\n",
            "[447]\tvalidation_0-merror:0.347652\tvalidation_1-merror:0.463943\n",
            "\n"
          ],
          "name": "stdout"
        },
        {
          "output_type": "stream",
          "text": [
            "\r4it [05:13, 76.81s/it]\n"
          ],
          "name": "stderr"
        }
      ]
    },
    {
      "cell_type": "code",
      "metadata": {
        "id": "ToBzUpnbg0Qz",
        "colab_type": "code",
        "outputId": "22e14a51-eaa2-4479-bf95-3accbe9757b9",
        "colab": {
          "base_uri": "https://localhost:8080/",
          "height": 102
        }
      },
      "source": [
        "for i in range(4):\n",
        "  print('model'+str(i),models2[i].score(data[important_features],y_data))\n",
        "print('model'+str(5),clf_rf.score(data[important_features],y_data))"
      ],
      "execution_count": 0,
      "outputs": [
        {
          "output_type": "stream",
          "text": [
            "model0 0.5989091279820566\n",
            "model1 0.6044654387276558\n",
            "model2 0.6460443145517569\n",
            "model3 0.6232753347379868\n",
            "model5 0.5727927683001427\n"
          ],
          "name": "stdout"
        }
      ]
    },
    {
      "cell_type": "code",
      "metadata": {
        "id": "bQHQDaHLX_9L",
        "colab_type": "code",
        "outputId": "68cf300e-a509-450c-ed2a-7c70ca501848",
        "colab": {
          "base_uri": "https://localhost:8080/",
          "height": 34
        }
      },
      "source": [
        "res_preds = []\n",
        "for i in range(4):\n",
        "  res_preds.append(models2[i].predict(data[important_features]))\n",
        "res_preds.append(clf_rf.predict(data[important_features]))\n",
        "res = []\n",
        "for i in range(len(y_data)):\n",
        "  res_temp = []\n",
        "  for j in range(5): \n",
        "    res_temp.append(res_preds[j][i])\n",
        "  res.append(np.argmax(np.bincount(res_temp)))\n",
        "print('total dataset precision hard voting:',accuracy_score(y_data, res))"
      ],
      "execution_count": 0,
      "outputs": [
        {
          "output_type": "stream",
          "text": [
            "total dataset precision hard voting: 0.620165839733569\n"
          ],
          "name": "stdout"
        }
      ]
    },
    {
      "cell_type": "code",
      "metadata": {
        "id": "_fzpk3xUC4vQ",
        "colab_type": "code",
        "outputId": "af6919b0-2d83-4a38-9973-772505e247b7",
        "colab": {
          "base_uri": "https://localhost:8080/",
          "height": 34
        }
      },
      "source": [
        "res_preds = []\n",
        "for i in range(4):\n",
        "  res_preds.append(models2[i].predict(data[important_features]))\n",
        "res = []\n",
        "for i in range(len(y_data)):\n",
        "  res_temp = []\n",
        "  for j in range(4): \n",
        "    res_temp.append(res_preds[j][i])\n",
        "  res.append(np.argmax(np.bincount(res_temp)))\n",
        "print('total dataset precision hard voting:',accuracy_score(y_data, res))"
      ],
      "execution_count": 0,
      "outputs": [
        {
          "output_type": "stream",
          "text": [
            "total dataset precision hard voting: 0.6300210698022157\n"
          ],
          "name": "stdout"
        }
      ]
    },
    {
      "cell_type": "code",
      "metadata": {
        "id": "tqF3aUh3yiuj",
        "colab_type": "code",
        "outputId": "9504ac0d-2405-41a2-d0af-3affa2b4d264",
        "colab": {
          "base_uri": "https://localhost:8080/",
          "height": 272
        }
      },
      "source": [
        "from sklearn.metrics import classification_report as cr\n",
        "print(cr(y_data,models2[2].predict(data[important_features])))"
      ],
      "execution_count": 0,
      "outputs": [
        {
          "output_type": "stream",
          "text": [
            "              precision    recall  f1-score   support\n",
            "\n",
            "           1       0.74      0.41      0.53      6156\n",
            "           2       0.76      0.41      0.54      6491\n",
            "           3       0.87      0.27      0.41      1007\n",
            "           4       0.67      0.29      0.40      1420\n",
            "           5       0.73      0.62      0.67      5388\n",
            "           6       0.55      0.64      0.59     11131\n",
            "           7       0.56      0.48      0.52      7943\n",
            "           8       0.67      0.93      0.78     19316\n",
            "\n",
            "    accuracy                           0.65     58852\n",
            "   macro avg       0.69      0.51      0.55     58852\n",
            "weighted avg       0.66      0.65      0.63     58852\n",
            "\n"
          ],
          "name": "stdout"
        }
      ]
    },
    {
      "cell_type": "markdown",
      "metadata": {
        "id": "aqayBWAzoQao",
        "colab_type": "text"
      },
      "source": [
        "# According to the results, Models[2] has the top accuracy: 64.4%"
      ]
    }
  ]
}